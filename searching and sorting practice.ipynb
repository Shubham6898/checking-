{
 "cells": [
  {
   "cell_type": "code",
   "execution_count": 1,
   "metadata": {},
   "outputs": [
    {
     "name": "stdout",
     "output_type": "stream",
     "text": [
      "6\n",
      "6 4 8 3 1 2\n",
      "1 2 3 4 6 8\n"
     ]
    }
   ],
   "source": [
    "#bubble:\n",
    "def bubble(arr,n):\n",
    "    for i in range(n-1):\n",
    "        for j in range(n-i-1):\n",
    "            if arr[j]>arr[j+1]:\n",
    "                arr[j],arr[j+1]=arr[j+1],arr[j]\n",
    "    print(*arr)\n",
    "n=int(input())\n",
    "arr=list(map(int,input().split()))\n",
    "bubble(arr,n) # O(n**2)"
   ]
  },
  {
   "cell_type": "code",
   "execution_count": 3,
   "metadata": {},
   "outputs": [
    {
     "name": "stdout",
     "output_type": "stream",
     "text": [
      "3\n",
      "3\n",
      "1 2 3 \n",
      "4 5 6\n",
      "7 8 9\n",
      "[[1, 2, 3], [4, 5, 6], [7, 8, 9]]\n"
     ]
    }
   ],
   "source": [
    "n,m=int(input()),int(input())\n",
    "arr_2d=[[int(j) for j in input().split()] for i in range(n)]\n",
    "print(arr_2d)\n"
   ]
  },
  {
   "cell_type": "code",
   "execution_count": null,
   "metadata": {},
   "outputs": [],
   "source": [
    "# special case or best case when arr is already sorted tab bubble sort O(n) kar sakte ho by using this code :\n",
    "def bubble_sort_n(arr,n):\n",
    "    swapped=-1\n",
    "    for i in range(n):"
   ]
  },
  {
   "cell_type": "code",
   "execution_count": 4,
   "metadata": {},
   "outputs": [
    {
     "name": "stdout",
     "output_type": "stream",
     "text": [
      "6\n",
      "4 2 5 0 3 1\n",
      "[4, 6, 11, 11, 14, 15]\n"
     ]
    }
   ],
   "source": [
    "# cumulative sum:\n",
    "def cum(arr,n):\n",
    "    o_p=[]\n",
    "    s=0\n",
    "    for i in arr:\n",
    "        s+=i\n",
    "        o_p.append(s)\n",
    "    return o_p\n",
    "\n",
    "n=int(input())\n",
    "arr=list(map(int,input().split()))\n",
    "print(cum(arr,n))"
   ]
  },
  {
   "cell_type": "code",
   "execution_count": 10,
   "metadata": {},
   "outputs": [
    {
     "name": "stdout",
     "output_type": "stream",
     "text": [
      "6 7\n",
      "4 2 5 2 3 5\n",
      "1 2 4 7 6 4 3\n",
      "[2, 3, 4]\n"
     ]
    }
   ],
   "source": [
    "# intersection of two array:\n",
    "def inte(arr1,arr2,n,m):\n",
    "    ans=[]\n",
    "    for i in arr1:\n",
    "        if i in arr2:\n",
    "            ans.append(i)\n",
    "    return list(set(ans))\n",
    "\n",
    "n,m=list(map(int,input().split()))\n",
    "arr1=list(map(int,input().split()))\n",
    "arr2=list(map(int,input().split()))\n",
    "print(inte(arr1,arr2,n,m))"
   ]
  },
  {
   "cell_type": "code",
   "execution_count": 19,
   "metadata": {},
   "outputs": [
    {
     "name": "stdout",
     "output_type": "stream",
     "text": [
      "abcc\n",
      "abcd\n",
      "false\n"
     ]
    }
   ],
   "source": [
    "# anagram string\n",
    "def anagram(s1,s2):\n",
    "    s_new=\"\"\n",
    "    if len(s1)==len(s2):\n",
    "        for i in s1:\n",
    "            if i not in s2:\n",
    "                return False\n",
    "            else:\n",
    "                s_new.join(i)\n",
    "\n",
    "    \n",
    "        for i in s2:\n",
    "            if i not in s_new:\n",
    "                return False\n",
    "        return True\n",
    "    return False\n",
    "\n",
    "s1=input()\n",
    "s2=input()\n",
    "if anagram(s1,s2):\n",
    "    print(\"true\")\n",
    "else:\n",
    "    print(\"false\")"
   ]
  },
  {
   "cell_type": "code",
   "execution_count": 21,
   "metadata": {},
   "outputs": [
    {
     "name": "stdout",
     "output_type": "stream",
     "text": [
      "The two strings are not anagram of each other\n"
     ]
    }
   ],
   "source": [
    "def areAnagram(str1, str2):\n",
    "    # Get lengths of both strings\n",
    "    n1 = len(str1)\n",
    "    n2 = len(str2)\n",
    " \n",
    "    # If lenght of both strings is not same, then\n",
    "    # they cannot be anagram\n",
    "    if n1 != n2:\n",
    "        return 0\n",
    " \n",
    "    # Sort both strings\n",
    "    str1 = sorted(str1)\n",
    "    str2 = sorted(str2)\n",
    " \n",
    "    # Compare sorted strings\n",
    "    for i in range(0, n1):\n",
    "        if str1[i] != str2[i]:\n",
    "            return 0\n",
    " \n",
    "    return 1\n",
    " \n",
    " \n",
    "# Driver code\n",
    "str1 = \"abcc\"\n",
    "str2 = \"abc\"\n",
    " \n",
    "# Function Call\n",
    "if areAnagram(str1, str2):\n",
    "    print(\"The two strings are anagram of each other\")\n",
    "else:\n",
    "    print(\"The two strings are not anagram of each other\")\n",
    " "
   ]
  },
  {
   "cell_type": "code",
   "execution_count": 26,
   "metadata": {},
   "outputs": [
    {
     "name": "stdout",
     "output_type": "stream",
     "text": [
      "Follow inside code\n",
      "4\n",
      "['Foll', 'ow i', 'nsid', 'e co', 'de']\n"
     ]
    }
   ],
   "source": [
    "# split in chunks of k character:\n",
    "def splitting(string,k):\n",
    "    o_p=[]\n",
    "    for i in range(0,len(string)-k,k):\n",
    "        o_p.append(string[i:i+k])\n",
    "    o_p.append(string[i+k:])\n",
    "    return o_p\n",
    "\n",
    "string=input()\n",
    "k=int(input())\n",
    "print(splitting(string,k))"
   ]
  },
  {
   "cell_type": "code",
   "execution_count": 2,
   "metadata": {},
   "outputs": [],
   "source": [
    "import selenium"
   ]
  },
  {
   "cell_type": "code",
   "execution_count": 3,
   "metadata": {},
   "outputs": [
    {
     "ename": "ImportError",
     "evalue": "cannot import name 'safaridriver' from 'selenium' (/Volumes/NitinSSD/Shubham/anaconda3/lib/python3.8/site-packages/selenium/__init__.py)",
     "output_type": "error",
     "traceback": [
      "\u001b[0;31m---------------------------------------------------------------------------\u001b[0m",
      "\u001b[0;31mImportError\u001b[0m                               Traceback (most recent call last)",
      "\u001b[0;32m<ipython-input-3-7918aeee4fd0>\u001b[0m in \u001b[0;36m<module>\u001b[0;34m\u001b[0m\n\u001b[0;32m----> 1\u001b[0;31m \u001b[0;32mfrom\u001b[0m \u001b[0mselenium\u001b[0m \u001b[0;32mimport\u001b[0m \u001b[0msafaridriver\u001b[0m\u001b[0;34m\u001b[0m\u001b[0;34m\u001b[0m\u001b[0m\n\u001b[0m",
      "\u001b[0;31mImportError\u001b[0m: cannot import name 'safaridriver' from 'selenium' (/Volumes/NitinSSD/Shubham/anaconda3/lib/python3.8/site-packages/selenium/__init__.py)"
     ]
    }
   ],
   "source": [
    "from selenium import safaridriver"
   ]
  },
  {
   "cell_type": "code",
   "execution_count": 8,
   "metadata": {},
   "outputs": [],
   "source": [
    "from selenium import webdriver"
   ]
  },
  {
   "cell_type": "code",
   "execution_count": 9,
   "metadata": {},
   "outputs": [],
   "source": [
    "from selenium.webdriver.common.keys import Keys"
   ]
  },
  {
   "cell_type": "code",
   "execution_count": 10,
   "metadata": {},
   "outputs": [],
   "source": [
    "browser = webdriver.Safari()"
   ]
  },
  {
   "cell_type": "code",
   "execution_count": 11,
   "metadata": {},
   "outputs": [],
   "source": [
    "browser.get(\"https://www.google.com/?client=safari\")"
   ]
  },
  {
   "cell_type": "code",
   "execution_count": 13,
   "metadata": {},
   "outputs": [
    {
     "data": {
      "text/plain": [
       "'Google'"
      ]
     },
     "execution_count": 13,
     "metadata": {},
     "output_type": "execute_result"
    }
   ],
   "source": [
    "browser.title"
   ]
  },
  {
   "cell_type": "code",
   "execution_count": 14,
   "metadata": {},
   "outputs": [
    {
     "data": {
      "text/plain": [
       "<bound method WebDriver.quit of <selenium.webdriver.safari.webdriver.WebDriver (session=\"DAB15E73-8D50-45B2-B134-84CA9AB0D07F\")>>"
      ]
     },
     "execution_count": 14,
     "metadata": {},
     "output_type": "execute_result"
    }
   ],
   "source": [
    "browser.quit"
   ]
  },
  {
   "cell_type": "code",
   "execution_count": null,
   "metadata": {},
   "outputs": [],
   "source": []
  },
  {
   "cell_type": "code",
   "execution_count": null,
   "metadata": {},
   "outputs": [],
   "source": []
  },
  {
   "cell_type": "code",
   "execution_count": null,
   "metadata": {},
   "outputs": [],
   "source": [
    "\n"
   ]
  },
  {
   "cell_type": "code",
   "execution_count": null,
   "metadata": {},
   "outputs": [],
   "source": []
  },
  {
   "cell_type": "code",
   "execution_count": null,
   "metadata": {},
   "outputs": [],
   "source": []
  },
  {
   "cell_type": "code",
   "execution_count": null,
   "metadata": {},
   "outputs": [],
   "source": []
  },
  {
   "cell_type": "code",
   "execution_count": null,
   "metadata": {},
   "outputs": [],
   "source": []
  },
  {
   "cell_type": "code",
   "execution_count": null,
   "metadata": {},
   "outputs": [],
   "source": []
  },
  {
   "cell_type": "code",
   "execution_count": null,
   "metadata": {},
   "outputs": [],
   "source": []
  },
  {
   "cell_type": "code",
   "execution_count": null,
   "metadata": {},
   "outputs": [],
   "source": []
  },
  {
   "cell_type": "code",
   "execution_count": null,
   "metadata": {},
   "outputs": [],
   "source": []
  },
  {
   "cell_type": "code",
   "execution_count": null,
   "metadata": {},
   "outputs": [],
   "source": []
  },
  {
   "cell_type": "code",
   "execution_count": null,
   "metadata": {},
   "outputs": [],
   "source": []
  },
  {
   "cell_type": "code",
   "execution_count": null,
   "metadata": {},
   "outputs": [],
   "source": []
  },
  {
   "cell_type": "code",
   "execution_count": null,
   "metadata": {},
   "outputs": [],
   "source": []
  },
  {
   "cell_type": "code",
   "execution_count": null,
   "metadata": {},
   "outputs": [],
   "source": []
  },
  {
   "cell_type": "code",
   "execution_count": null,
   "metadata": {},
   "outputs": [],
   "source": []
  },
  {
   "cell_type": "code",
   "execution_count": null,
   "metadata": {},
   "outputs": [],
   "source": []
  },
  {
   "cell_type": "code",
   "execution_count": 3,
   "metadata": {},
   "outputs": [
    {
     "name": "stdout",
     "output_type": "stream",
     "text": [
      "2\n",
      "Shubham 100\n",
      "Ramam 500\n"
     ]
    },
    {
     "data": {
      "text/plain": [
       "[['Shubham', '100'], ['Ramam', '500']]"
      ]
     },
     "execution_count": 3,
     "metadata": {},
     "output_type": "execute_result"
    }
   ],
   "source": [
    "n=int(input())\n",
    "arr=[[x for x in input().split()]for i in range(n)]\n",
    "arr"
   ]
  },
  {
   "cell_type": "code",
   "execution_count": 7,
   "metadata": {},
   "outputs": [
    {
     "name": "stdout",
     "output_type": "stream",
     "text": [
      "2 \n",
      "cabs 500\n",
      "fa 10\n",
      "[['fa', '10'], ['cabs', '500']]\n"
     ]
    },
    {
     "data": {
      "text/plain": [
       "'\\nInput: N = 2\\narr[] = {{xbnnskd, 100}, {geek, 50}}\\nOutput: {geek 50}, {xbnnskd 100}\\nExplanation: geek has lowest salary \\nas 50 and xbnnskd has more salary.'"
      ]
     },
     "execution_count": 7,
     "metadata": {},
     "output_type": "execute_result"
    }
   ],
   "source": [
    "def testing(arr,n):\n",
    "    \n",
    "    return sorted(arr,key=lambda arr:arr[1])\n",
    "        \n",
    "        \n",
    "    \n",
    "    \n",
    "    \n",
    "n=int(input())\n",
    "arr=[[x for x in input().split()]for i in range(n)]\n",
    "print(testing(arr,n))\n",
    "\n",
    "\n",
    "\n",
    "\n",
    "\n",
    "'''\n",
    "Input: N = 2\n",
    "arr[] = {{xbnnskd, 100}, {geek, 50}}\n",
    "Output: {geek 50}, {xbnnskd 100}\n",
    "Explanation: geek has lowest salary \n",
    "as 50 and xbnnskd has more salary.'''"
   ]
  },
  {
   "cell_type": "code",
   "execution_count": 5,
   "metadata": {},
   "outputs": [
    {
     "name": "stdout",
     "output_type": "stream",
     "text": [
      "2\n",
      "5 \n",
      "1 3 4 5 3\n",
      "3\n",
      "9\n",
      "1 3 5 6 7 9 11 13 15\n",
      "0\n"
     ]
    }
   ],
   "source": [
    "def increasing(arr):\n",
    "    for i in range(0,len(arr)-1):\n",
    "        if arr[i]>arr[i+1]:\n",
    "            \n",
    "            return False\n",
    "    \n",
    "    return True\n",
    "def decreasing(arr):\n",
    "    for i in range(0,len(arr)-1):\n",
    "        if arr[i]<arr[i+1]:\n",
    "            return False\n",
    "    \n",
    "    return True\n",
    "\n",
    "def shortestUnorderedSubarray( arr, n):\n",
    "\n",
    "    if increasing(arr):\n",
    "    \n",
    "        return 0\n",
    "    elif decreasing(arr):\n",
    "        return 0\n",
    "    else:\n",
    "        return 3\n",
    "    \n",
    "    \n",
    "    \n",
    "    \n",
    "\n",
    "#{ \n",
    "#  Driver Code Starts\n",
    "#Initial Template for Python 3\n",
    "\n",
    "def main():\n",
    "\n",
    "    T = int(input())\n",
    "\n",
    "    while(T > 0):\n",
    "        n = int(input())\n",
    "        a = [int(x) for x in input().strip().split()]\n",
    "        \n",
    "        print(shortestUnorderedSubarray(a, n))\n",
    "        \n",
    "        T -= 1\n",
    "\n",
    "\n",
    "if __name__ == \"__main__\":\n",
    "    main()\n",
    "\n",
    "\n",
    "# } Driver Code Ends"
   ]
  },
  {
   "cell_type": "code",
   "execution_count": 17,
   "metadata": {},
   "outputs": [
    {
     "name": "stdout",
     "output_type": "stream",
     "text": [
      "1\n",
      "6 12\n",
      "1 2 3 4 5 6\n"
     ]
    },
    {
     "ename": "IndexError",
     "evalue": "list index out of range",
     "output_type": "error",
     "traceback": [
      "\u001b[0;31m---------------------------------------------------------------------------\u001b[0m",
      "\u001b[0;31mIndexError\u001b[0m                                Traceback (most recent call last)",
      "\u001b[0;32m<ipython-input-17-0310f82739a9>\u001b[0m in \u001b[0;36m<module>\u001b[0;34m\u001b[0m\n\u001b[1;32m     25\u001b[0m         \u001b[0ma\u001b[0m \u001b[0;34m=\u001b[0m \u001b[0mlist\u001b[0m\u001b[0;34m(\u001b[0m\u001b[0mmap\u001b[0m\u001b[0;34m(\u001b[0m\u001b[0mint\u001b[0m\u001b[0;34m,\u001b[0m\u001b[0minput\u001b[0m\u001b[0;34m(\u001b[0m\u001b[0;34m)\u001b[0m\u001b[0;34m.\u001b[0m\u001b[0msplit\u001b[0m\u001b[0;34m(\u001b[0m\u001b[0;34m)\u001b[0m\u001b[0;34m)\u001b[0m\u001b[0;34m)\u001b[0m\u001b[0;34m\u001b[0m\u001b[0;34m\u001b[0m\u001b[0m\n\u001b[1;32m     26\u001b[0m         \u001b[0mob\u001b[0m \u001b[0;34m=\u001b[0m \u001b[0mSolution\u001b[0m\u001b[0;34m(\u001b[0m\u001b[0;34m)\u001b[0m\u001b[0;34m\u001b[0m\u001b[0;34m\u001b[0m\u001b[0m\n\u001b[0;32m---> 27\u001b[0;31m         \u001b[0mob\u001b[0m\u001b[0;34m.\u001b[0m\u001b[0mleftRotate\u001b[0m\u001b[0;34m(\u001b[0m\u001b[0ma\u001b[0m\u001b[0;34m,\u001b[0m\u001b[0mk\u001b[0m\u001b[0;34m,\u001b[0m\u001b[0mn\u001b[0m\u001b[0;34m)\u001b[0m\u001b[0;34m\u001b[0m\u001b[0;34m\u001b[0m\u001b[0m\n\u001b[0m\u001b[1;32m     28\u001b[0m         \u001b[0mprint\u001b[0m\u001b[0;34m(\u001b[0m\u001b[0;34m*\u001b[0m\u001b[0ma\u001b[0m\u001b[0;34m)\u001b[0m\u001b[0;34m\u001b[0m\u001b[0;34m\u001b[0m\u001b[0m\n\u001b[1;32m     29\u001b[0m \u001b[0;31m# } Driver Code Ends\u001b[0m\u001b[0;34m\u001b[0m\u001b[0;34m\u001b[0m\u001b[0;34m\u001b[0m\u001b[0m\n",
      "\u001b[0;32m<ipython-input-17-0310f82739a9>\u001b[0m in \u001b[0;36mleftRotate\u001b[0;34m(self, arr, k, n)\u001b[0m\n\u001b[1;32m      7\u001b[0m                 \u001b[0marr\u001b[0m\u001b[0;34m[\u001b[0m\u001b[0mi\u001b[0m\u001b[0;34m]\u001b[0m\u001b[0;34m=\u001b[0m\u001b[0marr\u001b[0m\u001b[0;34m[\u001b[0m\u001b[0mi\u001b[0m\u001b[0;34m+\u001b[0m\u001b[0mk\u001b[0m\u001b[0;34m]\u001b[0m\u001b[0;34m\u001b[0m\u001b[0;34m\u001b[0m\u001b[0m\n\u001b[1;32m      8\u001b[0m             \u001b[0;32mfor\u001b[0m \u001b[0mi\u001b[0m \u001b[0;32min\u001b[0m \u001b[0mrange\u001b[0m\u001b[0;34m(\u001b[0m\u001b[0mk\u001b[0m\u001b[0;34m)\u001b[0m\u001b[0;34m:\u001b[0m\u001b[0;34m\u001b[0m\u001b[0;34m\u001b[0m\u001b[0m\n\u001b[0;32m----> 9\u001b[0;31m                 \u001b[0marr\u001b[0m\u001b[0;34m[\u001b[0m\u001b[0mlen\u001b[0m\u001b[0;34m(\u001b[0m\u001b[0marr\u001b[0m\u001b[0;34m)\u001b[0m\u001b[0;34m-\u001b[0m\u001b[0mk\u001b[0m\u001b[0;34m+\u001b[0m\u001b[0mi\u001b[0m\u001b[0;34m]\u001b[0m\u001b[0;34m=\u001b[0m\u001b[0mnew_arr\u001b[0m\u001b[0;34m[\u001b[0m\u001b[0mi\u001b[0m\u001b[0;34m]\u001b[0m\u001b[0;34m\u001b[0m\u001b[0;34m\u001b[0m\u001b[0m\n\u001b[0m\u001b[1;32m     10\u001b[0m         \u001b[0;32melse\u001b[0m\u001b[0;34m:\u001b[0m\u001b[0;34m\u001b[0m\u001b[0;34m\u001b[0m\u001b[0m\n\u001b[1;32m     11\u001b[0m             \u001b[0marr\u001b[0m\u001b[0;34m=\u001b[0m\u001b[0marr\u001b[0m\u001b[0;34m\u001b[0m\u001b[0;34m\u001b[0m\u001b[0m\n",
      "\u001b[0;31mIndexError\u001b[0m: list index out of range"
     ]
    }
   ],
   "source": [
    "class Solution:\n",
    "    def leftRotate(self, arr, k, n):\n",
    "        # Your code goes here\n",
    "        if n<k:\n",
    "            new_arr=arr[:k]\n",
    "            for i in range(len(arr)-k):\n",
    "                arr[i]=arr[i+k]\n",
    "            for i in range(k):\n",
    "                arr[len(arr)-k+i]=new_arr[i]\n",
    "        else:\n",
    "            arr=arr\n",
    "        \n",
    "        \n",
    "\n",
    "#{ \n",
    "#  Driver Code Starts\n",
    "if __name__ == '__main__': \n",
    "    \n",
    "    t=int(input())\n",
    "    \n",
    "    for _ in range(0,t):\n",
    "        l=list(map(int,input().split()))\n",
    "        n=l[0]\n",
    "        k=l[1]\n",
    "        a = list(map(int,input().split()))\n",
    "        ob = Solution()\n",
    "        ob.leftRotate(a,k,n)\n",
    "        print(*a)\n",
    "# } Driver Code Ends"
   ]
  },
  {
   "cell_type": "code",
   "execution_count": 21,
   "metadata": {
    "scrolled": true
   },
   "outputs": [
    {
     "name": "stdout",
     "output_type": "stream",
     "text": [
      "95\n",
      "-11\n",
      "-90\n",
      "80\n",
      "-62\n",
      "-90\n",
      "7\n",
      "50\n",
      "-41\n",
      "70\n",
      "8\n",
      "-7\n",
      "-9\n",
      "44\n",
      "22\n",
      "-57\n",
      "-97\n",
      "26\n",
      "72\n",
      "95\n",
      "-39\n",
      "65\n",
      "-51\n",
      "52\n",
      "-29\n",
      "-18\n",
      "4\n",
      "98\n",
      "-3\n"
     ]
    }
   ],
   "source": [
    "def leftRotate(arr, n, k):\n",
    " \n",
    "    # To get the starting point of rotated array\n",
    "    mod = k % n\n",
    "    s = \"\"\n",
    " \n",
    "    # Prints the rotated array from start position\n",
    "    for i in range(n):\n",
    "        print( str(arr[(mod + i) % n]))\n",
    "    print\n",
    "    return\n",
    " \n",
    " \n",
    "# Driver code\n",
    "arr = [80, -62, -90, 7 ,50 ,-41, 70 ,8, -7, -9, 44, 22, -57, -97, 26, 72, 95, -39, 65, -51, 52, -29, -18, 4, 98, -3, 95, -11, -90]\n",
    "n = len(arr)\n",
    "k = 9944\n",
    " \n",
    "# Function Call\n",
    "leftRotate(arr, n, k)\n"
   ]
  },
  {
   "cell_type": "code",
   "execution_count": 25,
   "metadata": {},
   "outputs": [
    {
     "name": "stdout",
     "output_type": "stream",
     "text": [
      "1\n",
      "3\n",
      "1 2 3\n",
      "321\n"
     ]
    }
   ],
   "source": [
    "\n",
    "class Solution:\n",
    "    def MaxNumber(self, arr, no):\n",
    "        #code here.\n",
    "        a=sorted(arr,reverse=True)\n",
    "        n=\"\"\n",
    "        for i in a:\n",
    "            n+=str(i)\n",
    "        return int(n)\n",
    "\n",
    "\n",
    "#{ \n",
    "#  Driver Code Starts\n",
    "#Initial Template for Python 3\n",
    "\n",
    "def main():\n",
    "\n",
    "    T = int(input())\n",
    "\n",
    "    while(T > 0):\n",
    "        n = int(input())\n",
    "        a = [int(x) for x in input().strip().split()]\n",
    "        ob = Solution()\n",
    "        print(ob.MaxNumber(a, n))\n",
    "\n",
    "        T -= 1\n",
    "\n",
    "\n",
    "if __name__ == \"__main__\":\n",
    "    main()\n",
    "\n",
    "\n",
    "\n",
    "\n",
    "\n",
    "    \n",
    "# } Driver Code Ends"
   ]
  },
  {
   "cell_type": "code",
   "execution_count": 30,
   "metadata": {},
   "outputs": [
    {
     "data": {
      "text/plain": [
       "[1, 2, 3, 4, 5]"
      ]
     },
     "execution_count": 30,
     "metadata": {},
     "output_type": "execute_result"
    }
   ],
   "source": [
    "dic={1:2,3:54,2:34,5:34,4:23}\n",
    "sorted(dic.keys())"
   ]
  },
  {
   "cell_type": "code",
   "execution_count": 5,
   "metadata": {},
   "outputs": [
    {
     "name": "stdout",
     "output_type": "stream",
     "text": [
      "1\n",
      "12 11\n",
      "28 15 6 27 12 20 28 17 25 5 29 1\n",
      "11\n",
      "1\n",
      "2\n",
      "3\n",
      "4\n",
      "5\n",
      "6\n",
      "7\n",
      "8\n",
      "9\n",
      "10\n",
      "11\n",
      "28 15 6 27 12 20 28 17 25 5 1\n"
     ]
    }
   ],
   "source": [
    "\n",
    "def kSmallestElements (arr,  n, K) : \n",
    "    #Complete the function\n",
    "    new_arr=sorted (arr)\n",
    "    ans= new_arr[:K]\n",
    "    ans_arr=[]\n",
    "    i=0\n",
    "    a=0\n",
    "    print(len(ans))\n",
    "    while a<K:\n",
    "\n",
    "        if arr[i] in ans:\n",
    "            \n",
    "            ans_arr.append(arr[i])\n",
    "            ans.remove(arr[i]) \n",
    "            a+=1\n",
    "            print(a)\n",
    "        i+=1\n",
    "            \n",
    "    return ans_arr\n",
    "        \n",
    "\n",
    "\n",
    "\n",
    "#{ \n",
    "#  Driver Code Starts\n",
    "#Initial Template for Python 3\n",
    "\n",
    "#Initial Template for Python 3\n",
    "\n",
    "\n",
    "for _ in range(0,int(input())):\n",
    "    \n",
    "    n, K = map(int, input().split())\n",
    "    arr = list(map(int,input().strip().split()))\n",
    "    res = kSmallestElements(arr, n, K)\n",
    "    print(*res)\n",
    "\n",
    "\n",
    "\n",
    "# } Driver Code Ends"
   ]
  },
  {
   "cell_type": "code",
   "execution_count": 42,
   "metadata": {},
   "outputs": [
    {
     "data": {
      "text/plain": [
       "[1, 2, 3, 4, 5]"
      ]
     },
     "execution_count": 42,
     "metadata": {},
     "output_type": "execute_result"
    }
   ],
   "source": [
    "a=[1,2,3,4,5,6,6]\n",
    "a.remove(6)\n",
    "a.remove(6)\n",
    "a"
   ]
  },
  {
   "cell_type": "code",
   "execution_count": 47,
   "metadata": {},
   "outputs": [
    {
     "name": "stdout",
     "output_type": "stream",
     "text": [
      "1\n",
      "2\n",
      "2\n",
      "3\n",
      "1\n"
     ]
    }
   ],
   "source": [
    "a=[1, 2, 2, 3, 1]\n",
    "for i in a:\n",
    "    print(i)"
   ]
  },
  {
   "cell_type": "code",
   "execution_count": 7,
   "metadata": {},
   "outputs": [
    {
     "name": "stdout",
     "output_type": "stream",
     "text": [
      "1\n",
      "17 11\n",
      "1 28 16 20 19 27 16 14 22 1 29 4 1 20 7 2 26\n",
      "1 16 20 19 16 14 1 4 1 7 2\n"
     ]
    }
   ],
   "source": [
    "def kSmallestElements (arr,  n, K) : \n",
    "    #Complete the function\n",
    "    new_arr=sorted (arr)\n",
    "    ans= new_arr[:K]\n",
    "    final_ans=[]\n",
    "    for i in range(n):\n",
    "        if arr[i] in ans:\n",
    "            final_ans.append(arr[i])\n",
    "            ans.remove(arr[i])\n",
    "    return final_ans\n",
    "        \n",
    "\n",
    "\n",
    "\n",
    "#{ \n",
    "#  Driver Code Starts\n",
    "#Initial Template for Python 3\n",
    "\n",
    "#Initial Template for Python 3\n",
    "\n",
    "\n",
    "for _ in range(0,int(input())):\n",
    "    \n",
    "    n, K = map(int, input().split())\n",
    "    arr = list(map(int,input().strip().split()))\n",
    "    res = kSmallestElements(arr, n, K)\n",
    "    print(*res)\n",
    "\n",
    "\n",
    "\n",
    "# } Driver Code Ends"
   ]
  },
  {
   "cell_type": "code",
   "execution_count": 2,
   "metadata": {},
   "outputs": [
    {
     "name": "stdout",
     "output_type": "stream",
     "text": [
      "28 15 6 27 12 20 28 17 25 5 1 "
     ]
    }
   ],
   "source": [
    "# Python3 for printing smallest n number in order\n",
    " \n",
    "# Function for binary_search\n",
    "def binary_search(arr, low, high, ele):\n",
    "    while low < high:\n",
    "        mid = (low + high) // 2\n",
    "        if arr[mid] == ele:\n",
    "            return mid\n",
    "        elif arr[mid] > ele:\n",
    "            high = mid\n",
    "        else:\n",
    "            low = mid + 1\n",
    "    return -1\n",
    " \n",
    "# Function to print smallest n numbers\n",
    "def printSmall(arr, asize, n):\n",
    " \n",
    "    # Make copy of array\n",
    "    copy_arr = arr.copy()\n",
    " \n",
    "    # Sort copy array\n",
    "    copy_arr.sort()\n",
    " \n",
    "    # For each arr[i] find whether\n",
    "    # it is a part of n-smallest\n",
    "    # with binary search\n",
    "    for i in range(asize):\n",
    "        if binary_search(copy_arr, low = 0, \n",
    "                         high = n, ele = arr[i]) > -1:\n",
    "            print(arr[i], end = \" \")\n",
    " \n",
    "# Driver Code\n",
    "if __name__ == \"__main__\":\n",
    "    arr = [28, 15, 6, 27, 12, 20, 28, 17, 25, 5, 29, 1]\n",
    "    asize = len(arr)\n",
    "    n = 11\n",
    "    printSmall(arr, asize, n)\n",
    " \n",
    "# This code is conributed by\n",
    "# sanjeev2552"
   ]
  },
  {
   "cell_type": "code",
   "execution_count": 4,
   "metadata": {},
   "outputs": [
    {
     "name": "stdout",
     "output_type": "stream",
     "text": [
      "1\n",
      "5 2\n",
      "1 2 2 3 1\n",
      "1 1\n"
     ]
    }
   ],
   "source": [
    "def binary_search(arr, low, high, ele):\n",
    "    while low < high:\n",
    "        mid = (low + high) // 2\n",
    "        if arr[mid] == ele:\n",
    "            return mid\n",
    "        elif arr[mid] > ele:\n",
    "            high = mid\n",
    "        else:\n",
    "            low = mid + 1\n",
    "    return -1\n",
    " \n",
    "# Function to print smallest n numbers\n",
    "def printSmall(arr, asize, n):\n",
    " \n",
    "    # Make copy of array\n",
    "    copy_arr = arr.copy()\n",
    " \n",
    "    # Sort copy array\n",
    "    copy_arr.sort()\n",
    " \n",
    "    # For each arr[i] find whether\n",
    "    # it is a part of n-smallest\n",
    "    # with binary search\n",
    "    ans=[]\n",
    "    for i in range(asize):\n",
    "        if binary_search(copy_arr, low = 0, \n",
    "                         high = n, ele = arr[i]) > -1:\n",
    "            ans.append(arr[i])\n",
    "    return ans\n",
    "for _ in range(0,int(input())):\n",
    "    \n",
    "    n, K = map(int, input().split())\n",
    "    arr = list(map(int,input().strip().split()))\n",
    "    res = printSmall(arr, n, K)\n",
    "    print(*res)\n",
    "\n"
   ]
  },
  {
   "cell_type": "code",
   "execution_count": 2,
   "metadata": {},
   "outputs": [
    {
     "name": "stdout",
     "output_type": "stream",
     "text": [
      "2 \n",
      "5 \n",
      "0 1 2 3 4\n",
      "1 1 2 6 24 \n",
      "6\n",
      "1 2 3 4 5 6\n",
      "1 2 6 24 120 720 \n"
     ]
    }
   ],
   "source": [
    "class Solution:\n",
    "    def fac(n):\n",
    "        if n==0 or n==1:\n",
    "            return 1\n",
    "        else:\n",
    "            return Solution.fac(n-1)*n\n",
    "    \n",
    "    def factorial(self,a, n):\n",
    "        # code here\n",
    "        ans=[]\n",
    "        for i in a:\n",
    "           ans.append(Solution.fac(i))\n",
    "        return ans\n",
    "\n",
    "#{ \n",
    "#  Driver Code Starts\n",
    "#Initial Template for Python 3\n",
    "\n",
    "\n",
    "\n",
    "# Driver code \n",
    "if __name__ == \"__main__\":         \n",
    "    tc=int(input())\n",
    "    while tc > 0:\n",
    "        n=int(input())\n",
    "        a=list(map(int , input().strip().split()))\n",
    "        ob = Solution()\n",
    "        res = ob.factorial(a, n)\n",
    "        for i in res:\n",
    "            print(i,end=\" \")\n",
    "        print()\n",
    "        tc=tc-1\n",
    "# } Driver Code Ends"
   ]
  },
  {
   "cell_type": "code",
   "execution_count": 7,
   "metadata": {},
   "outputs": [
    {
     "name": "stdout",
     "output_type": "stream",
     "text": [
      "10\n"
     ]
    }
   ],
   "source": [
    "s=\"5/6, 11/45\"\n",
    "print(len(s))"
   ]
  },
  {
   "cell_type": "code",
   "execution_count": 8,
   "metadata": {},
   "outputs": [],
   "source": [
    "s=s.split(\",\")"
   ]
  },
  {
   "cell_type": "code",
   "execution_count": 9,
   "metadata": {},
   "outputs": [
    {
     "data": {
      "text/plain": [
       "['5/6', ' 11/45']"
      ]
     },
     "execution_count": 9,
     "metadata": {},
     "output_type": "execute_result"
    }
   ],
   "source": [
    "s"
   ]
  },
  {
   "cell_type": "code",
   "execution_count": 13,
   "metadata": {},
   "outputs": [
    {
     "data": {
      "text/plain": [
       "'5/6'"
      ]
     },
     "execution_count": 13,
     "metadata": {},
     "output_type": "execute_result"
    }
   ],
   "source": [
    "s[0]"
   ]
  },
  {
   "cell_type": "code",
   "execution_count": 15,
   "metadata": {},
   "outputs": [
    {
     "data": {
      "text/plain": [
       "'5'"
      ]
     },
     "execution_count": 15,
     "metadata": {},
     "output_type": "execute_result"
    }
   ],
   "source": [
    "a=s[0].split(\"/\")\n",
    "a[0]"
   ]
  },
  {
   "cell_type": "code",
   "execution_count": 19,
   "metadata": {},
   "outputs": [],
   "source": [
    "b=s[1].split(\"/\")"
   ]
  },
  {
   "cell_type": "code",
   "execution_count": 21,
   "metadata": {},
   "outputs": [
    {
     "data": {
      "text/plain": [
       "11"
      ]
     },
     "execution_count": 21,
     "metadata": {},
     "output_type": "execute_result"
    }
   ],
   "source": [
    "int(b[0])"
   ]
  },
  {
   "cell_type": "code",
   "execution_count": 22,
   "metadata": {},
   "outputs": [
    {
     "data": {
      "text/plain": [
       "'45'"
      ]
     },
     "execution_count": 22,
     "metadata": {},
     "output_type": "execute_result"
    }
   ],
   "source": [
    "b[1]"
   ]
  },
  {
   "cell_type": "code",
   "execution_count": 23,
   "metadata": {},
   "outputs": [
    {
     "data": {
      "text/plain": [
       "0"
      ]
     },
     "execution_count": 23,
     "metadata": {},
     "output_type": "execute_result"
    }
   ],
   "source": [
    "0**2"
   ]
  },
  {
   "cell_type": "code",
   "execution_count": 24,
   "metadata": {},
   "outputs": [
    {
     "ename": "SyntaxError",
     "evalue": "cannot assign to operator (<ipython-input-24-48652e5b5b6d>, line 1)",
     "output_type": "error",
     "traceback": [
      "\u001b[0;36m  File \u001b[0;32m\"<ipython-input-24-48652e5b5b6d>\"\u001b[0;36m, line \u001b[0;32m1\u001b[0m\n\u001b[0;31m    x**2=1\u001b[0m\n\u001b[0m    ^\u001b[0m\n\u001b[0;31mSyntaxError\u001b[0m\u001b[0;31m:\u001b[0m cannot assign to operator\n"
     ]
    }
   ],
   "source": [
    "x**2=1"
   ]
  },
  {
   "cell_type": "code",
   "execution_count": 34,
   "metadata": {},
   "outputs": [
    {
     "name": "stdout",
     "output_type": "stream",
     "text": [
      "1\n",
      "3 22 27\n",
      "14 13\n",
      "49152 180224\n",
      "3\n"
     ]
    }
   ],
   "source": [
    "\n",
    "class Solution:\n",
    "    def find_division(self, x, y, n):\n",
    "        # Code here\n",
    "        if n%2==0 and n>1:\n",
    "            x_=n//2\n",
    "            y_=n//2\n",
    "            print(x_,y_)\n",
    "            x=x*(2**x_)\n",
    "            \n",
    "            y=y*(2**y_)\n",
    "        if n %2!=0 and n>1:\n",
    "            x_=n//2+1\n",
    "            y_=n//2\n",
    "            print(x_,y_)\n",
    "            x=x*(2**x_)\n",
    "            \n",
    "            y=y*(2**y_)\n",
    "            \n",
    "        print(x,y)\n",
    "        if n==1:\n",
    "            x=x*2\n",
    "         \n",
    "        mxm=max(x,y)\n",
    "        mnm=min(x,y)\n",
    "        return int(mxm/mnm)\n",
    "\n",
    "#{ \n",
    "#  Driver Code Starts\n",
    "#Initial Template for Python 3\n",
    "\n",
    "if __name__ == '__main__':\n",
    "    T=int(input())\n",
    "    for i in range(T):\n",
    "        x, y, n  = input().split()\n",
    "        x = int(x); y = int(y); n = int(n);\n",
    "        ob = Solution()\n",
    "        ans = ob.find_division(x, y, n)\n",
    "        print(ans)\n",
    "# } Driver Code Ends"
   ]
  },
  {
   "cell_type": "code",
   "execution_count": 32,
   "metadata": {},
   "outputs": [
    {
     "name": "stdout",
     "output_type": "stream",
     "text": [
      "2\n",
      "4\n",
      "8\n",
      "16\n",
      "32\n",
      "64\n",
      "128\n",
      "256\n",
      "512\n",
      "1024\n",
      "2048\n",
      "4096\n",
      "8192\n",
      "16384\n"
     ]
    }
   ],
   "source": [
    "for i in range(1,15):\n",
    "    print(2**i)\n"
   ]
  },
  {
   "cell_type": "code",
   "execution_count": 41,
   "metadata": {},
   "outputs": [
    {
     "name": "stdout",
     "output_type": "stream",
     "text": [
      "4 6\n",
      "12\n"
     ]
    }
   ],
   "source": [
    "def lcm(n,m):\n",
    "    if n>m:\n",
    "        greater=n\n",
    "    else:\n",
    "        greater=m\n",
    "    \n",
    "    i=1\n",
    "    no=greater\n",
    "    while True:\n",
    "        if greater%n==0 and greater%m==0:\n",
    "            return greater\n",
    "            break\n",
    "        greater=no*i\n",
    "        i+=1\n",
    "n,m=list(map(int,input().split()))\n",
    "print(lcm(n,m))"
   ]
  },
  {
   "cell_type": "code",
   "execution_count": 38,
   "metadata": {},
   "outputs": [
    {
     "data": {
      "text/plain": [
       "9.0"
      ]
     },
     "execution_count": 38,
     "metadata": {},
     "output_type": "execute_result"
    }
   ],
   "source": [
    "216/24"
   ]
  },
  {
   "cell_type": "code",
   "execution_count": 4,
   "metadata": {},
   "outputs": [
    {
     "data": {
      "text/plain": [
       "30414093201713378043612608166064768844377641568960512000000000000"
      ]
     },
     "execution_count": 4,
     "metadata": {},
     "output_type": "execute_result"
    }
   ],
   "source": [
    "def fact(n):\n",
    "    res=1\n",
    "    for i in range(1,n+1):\n",
    "        res*=i\n",
    "    return res\n",
    "fact(50)"
   ]
  },
  {
   "cell_type": "code",
   "execution_count": 7,
   "metadata": {},
   "outputs": [
    {
     "name": "stdout",
     "output_type": "stream",
     "text": [
      "120\n"
     ]
    }
   ],
   "source": [
    "def fact(n):\n",
    "    if n==1 or n==0:\n",
    "        return 1\n",
    "    else:\n",
    "        return fact(n-1)*n\n",
    "print(fact(5))"
   ]
  },
  {
   "cell_type": "code",
   "execution_count": 18,
   "metadata": {},
   "outputs": [
    {
     "name": "stdout",
     "output_type": "stream",
     "text": [
      "1 1 0 1\n"
     ]
    }
   ],
   "source": [
    "def binary(n):\n",
    "    conv=[]\n",
    "    while n>0:\n",
    "        ld=n%2\n",
    "        conv.append(ld)\n",
    "        n=n//2\n",
    "    print(*conv[-1:-len(conv)-1:-1])\n",
    "binary(13)"
   ]
  },
  {
   "cell_type": "code",
   "execution_count": 2,
   "metadata": {},
   "outputs": [
    {
     "name": "stdout",
     "output_type": "stream",
     "text": [
      "9\n",
      "8\n",
      "7\n",
      "6\n",
      "5\n",
      "4\n",
      "3\n",
      "2\n",
      "1\n"
     ]
    }
   ],
   "source": [
    "a=[1,2,3,4,5,6,7,8,9]\n",
    "for i in a[-1:-len(a)-1:-1]:\n",
    "    print(i)"
   ]
  },
  {
   "cell_type": "code",
   "execution_count": 1,
   "metadata": {},
   "outputs": [
    {
     "name": "stdout",
     "output_type": "stream",
     "text": [
      "1 0 0 1 0 0 1 0 1 0 1 0 0 0 \n",
      "\n",
      "1 1 0 1 1 1 0 1 1 1 \n",
      "\n",
      "1 1 1 \n",
      "\n"
     ]
    }
   ],
   "source": [
    "def decimalToBinary(n):  \n",
    "  \n",
    "    if(n > 1):  \n",
    "        # divide with integral result  \n",
    "        # (discard remainder)  \n",
    "        decimalToBinary(n//2)  \n",
    "  \n",
    "      \n",
    "    print(n%2, end=' ') \n",
    "      \n",
    "      \n",
    "  \n",
    "# Driver code  \n",
    "if __name__ == '__main__':  \n",
    "    #9384 887\n",
    "    decimalToBinary(9384)  \n",
    "    print(\"\\n\") \n",
    "    decimalToBinary(887)  \n",
    "    print(\"\\n\") \n",
    "    decimalToBinary(7)  \n",
    "    print(\"\\n\") "
   ]
  },
  {
   "cell_type": "code",
   "execution_count": 7,
   "metadata": {},
   "outputs": [
    {
     "data": {
      "text/plain": [
       "int"
      ]
     },
     "execution_count": 7,
     "metadata": {},
     "output_type": "execute_result"
    }
   ],
   "source": [
    "def btod(n):\n",
    "    n=str(n)\n",
    "    return int(n,2)\n",
    "btod(100)"
   ]
  },
  {
   "cell_type": "code",
   "execution_count": 60,
   "metadata": {},
   "outputs": [
    {
     "name": "stdout",
     "output_type": "stream",
     "text": [
      "1\n",
      "10\n",
      "1010\n",
      "<class 'str'>\n",
      "yes\n",
      "yes\n",
      "0000\n",
      "0\n"
     ]
    }
   ],
   "source": [
    "class Solution:\n",
    "    \n",
    "        \n",
    "    def convertEvenBitToZero (self, n):\n",
    "        # code here \n",
    "        rem=[]\n",
    "        while n>0:\n",
    "            r=n%2\n",
    "            rem.append(r)\n",
    "            n=n//2\n",
    "        no=''\n",
    "        for i in rem[-1:-len(rem)-1:-1]:\n",
    "            no+=str(i)\n",
    "        print(no)\n",
    "        print(type(no))\n",
    "        new_no=''\n",
    "        for i in range(len(no)):\n",
    "            if i%2==0 and no[i]==\"1\":\n",
    "                print(\"yes\")\n",
    "                new_no+='0'\n",
    "            else:\n",
    "                new_no+=no[i]\n",
    "        print(new_no)\n",
    "        \n",
    "        return  int(new_no,2)       \n",
    "            \n",
    "            \n",
    "#{ \n",
    "#  Driver Code Starts\n",
    "#Initial Template for Python 3\n",
    "if __name__ == '__main__': \n",
    "    t = int (input ())\n",
    "    for _ in range (t):\n",
    "        n = int(input())\n",
    "    \n",
    "        ob = Solution()\n",
    "        print(ob.convertEvenBitToZero(n))\n",
    "# } Driver Code Ends"
   ]
  },
  {
   "cell_type": "code",
   "execution_count": 25,
   "metadata": {},
   "outputs": [
    {
     "data": {
      "text/plain": [
       "'afs'"
      ]
     },
     "execution_count": 25,
     "metadata": {},
     "output_type": "execute_result"
    }
   ],
   "source": [
    "s='abs'\n",
    "s.replace(s[1],'f')"
   ]
  },
  {
   "cell_type": "code",
   "execution_count": 43,
   "metadata": {},
   "outputs": [
    {
     "name": "stdout",
     "output_type": "stream",
     "text": [
      "11110\n",
      "11110\n",
      "11110\n",
      "11110\n",
      "11110\n"
     ]
    }
   ],
   "source": [
    "no='11110'\n",
    "for i in range(len(no)): \n",
    "    if i %2==0 and no[i]=='1':\n",
    "        no.replace(no[i],'0')\n",
    "    print(no)"
   ]
  },
  {
   "cell_type": "code",
   "execution_count": 45,
   "metadata": {},
   "outputs": [
    {
     "data": {
      "text/plain": [
       "'00000'"
      ]
     },
     "execution_count": 45,
     "metadata": {},
     "output_type": "execute_result"
    }
   ],
   "source": [
    "no.replace(no[1],'0')"
   ]
  },
  {
   "cell_type": "code",
   "execution_count": 46,
   "metadata": {},
   "outputs": [
    {
     "data": {
      "text/plain": [
       "'11110'"
      ]
     },
     "execution_count": 46,
     "metadata": {},
     "output_type": "execute_result"
    }
   ],
   "source": [
    "no"
   ]
  },
  {
   "cell_type": "code",
   "execution_count": 51,
   "metadata": {},
   "outputs": [
    {
     "data": {
      "text/plain": [
       "'11110'"
      ]
     },
     "execution_count": 51,
     "metadata": {},
     "output_type": "execute_result"
    }
   ],
   "source": [
    "no[1].replace(no[1],'0')\n",
    "no"
   ]
  },
  {
   "cell_type": "code",
   "execution_count": 14,
   "metadata": {},
   "outputs": [
    {
     "name": "stdout",
     "output_type": "stream",
     "text": [
      "12192 30345 17\n",
      "1068.8235294117649\n"
     ]
    }
   ],
   "source": [
    "def countDivisibles (A, B, M):\n",
    "    if A%M==0 or B%M==0:\n",
    "        return ((B/M)-(A/M))+1\n",
    "    else:\n",
    "        return ((B/M)-(A/M))\n",
    "\n",
    "A,B,M=list(map(int,input().split()))\n",
    "print(countDivisibles(A,B,M))"
   ]
  },
  {
   "cell_type": "code",
   "execution_count": 13,
   "metadata": {},
   "outputs": [
    {
     "data": {
      "text/plain": [
       "0"
      ]
     },
     "execution_count": 13,
     "metadata": {},
     "output_type": "execute_result"
    }
   ],
   "source": [
    "30345%17"
   ]
  },
  {
   "cell_type": "code",
   "execution_count": 17,
   "metadata": {},
   "outputs": [
    {
     "name": "stdout",
     "output_type": "stream",
     "text": [
      "1004\n",
      "1554\n"
     ]
    }
   ],
   "source": [
    "def change(n):\n",
    "    no=str(n)\n",
    "    new_no=''\n",
    "    for i in no:\n",
    "        if i =='0':\n",
    "            new_no+='5'\n",
    "        else:\n",
    "            new_no+=i\n",
    "    return new_no\n",
    "n=int(input())\n",
    "print(change(n))"
   ]
  },
  {
   "cell_type": "code",
   "execution_count": 23,
   "metadata": {},
   "outputs": [
    {
     "name": "stdout",
     "output_type": "stream",
     "text": [
      "16\n",
      "False\n"
     ]
    }
   ],
   "source": [
    "def check(n):\n",
    "    return ((n&(n-1)!=0) and n!=0)\n",
    "    \n",
    "n=int(input())\n",
    "print(check(n))"
   ]
  },
  {
   "cell_type": "code",
   "execution_count": 10,
   "metadata": {},
   "outputs": [
    {
     "data": {
      "text/plain": [
       "0"
      ]
     },
     "execution_count": 10,
     "metadata": {},
     "output_type": "execute_result"
    }
   ],
   "source": [
    "1&2"
   ]
  },
  {
   "cell_type": "code",
   "execution_count": 15,
   "metadata": {},
   "outputs": [
    {
     "ename": "SyntaxError",
     "evalue": "invalid syntax (<ipython-input-15-c83eda8ae2d9>, line 1)",
     "output_type": "error",
     "traceback": [
      "\u001b[0;36m  File \u001b[0;32m\"<ipython-input-15-c83eda8ae2d9>\"\u001b[0;36m, line \u001b[0;32m1\u001b[0m\n\u001b[0;31m    if (1<2) && (2<4):\u001b[0m\n\u001b[0m              ^\u001b[0m\n\u001b[0;31mSyntaxError\u001b[0m\u001b[0;31m:\u001b[0m invalid syntax\n"
     ]
    }
   ],
   "source": [
    "if (1<2) && (2<4):\n",
    "    print('True')"
   ]
  },
  {
   "cell_type": "code",
   "execution_count": 26,
   "metadata": {},
   "outputs": [
    {
     "data": {
      "text/plain": [
       "0.0"
      ]
     },
     "execution_count": 26,
     "metadata": {},
     "output_type": "execute_result"
    }
   ],
   "source": [
    "(9**.5)%1"
   ]
  },
  {
   "cell_type": "code",
   "execution_count": null,
   "metadata": {},
   "outputs": [],
   "source": []
  },
  {
   "cell_type": "code",
   "execution_count": 16,
   "metadata": {},
   "outputs": [
    {
     "name": "stdout",
     "output_type": "stream",
     "text": [
      "4 3\n",
      "1 0 3 2\n",
      "2 0 4\n",
      "[2, 0, 10, 4, 12, 8]\n"
     ]
    }
   ],
   "source": [
    "def testing(arr1,arr2,m,n):\n",
    "    ans=[0]*(m+n-1)\n",
    "    for i in range(m):\n",
    "        \n",
    "        \n",
    "        for j in range(n):\n",
    "            ans[i+j]+=(arr1[i]*arr2[j])\n",
    "            \n",
    "    return ans\n",
    "\n",
    "m,n=list(map(int,input().split()))\n",
    "arr1=list(map(int,input().split()))\n",
    "arr2=list(map(int,input().split()))\n",
    "print(testing(arr1,arr2,m,n))"
   ]
  },
  {
   "cell_type": "code",
   "execution_count": 24,
   "metadata": {},
   "outputs": [
    {
     "name": "stdout",
     "output_type": "stream",
     "text": [
      "51 23 60 37 69\n",
      "67 55 42 65 67\n",
      "(-480682680-2600538240j)\n"
     ]
    }
   ],
   "source": [
    "def t(A,B):\n",
    "        com=complex(A[0],B[0])\n",
    "        \n",
    "        for i in range(1,len(A)):\n",
    "            first_com=complex(A[i],B[i])\n",
    "            com=com*first_com\n",
    "        return com\n",
    "A=list(map(int,input().split()))\n",
    "B=list(map(int,input().split()))\n",
    "print(t(A,B))"
   ]
  },
  {
   "cell_type": "code",
   "execution_count": 23,
   "metadata": {},
   "outputs": [
    {
     "name": "stdout",
     "output_type": "stream",
     "text": [
      "(2+3j)\n"
     ]
    },
    {
     "data": {
      "text/plain": [
       "(2.0, 3.0)"
      ]
     },
     "execution_count": 23,
     "metadata": {},
     "output_type": "execute_result"
    }
   ],
   "source": [
    "a=complex(2,3)\n",
    "print(a)\n",
    "a.real,a.imag"
   ]
  },
  {
   "cell_type": "code",
   "execution_count": 25,
   "metadata": {},
   "outputs": [
    {
     "name": "stdout",
     "output_type": "stream",
     "text": [
      "T\n"
     ]
    }
   ],
   "source": [
    "a=[1,2]\n",
    "b=[1,2]\n",
    "if a==b:\n",
    "    print(\"T\")"
   ]
  },
  {
   "cell_type": "code",
   "execution_count": 4,
   "metadata": {},
   "outputs": [
    {
     "data": {
      "text/plain": [
       "0.40000000000000036"
      ]
     },
     "execution_count": 4,
     "metadata": {},
     "output_type": "execute_result"
    }
   ],
   "source": [
    "10.4%1\n"
   ]
  },
  {
   "cell_type": "code",
   "execution_count": 5,
   "metadata": {},
   "outputs": [
    {
     "data": {
      "text/plain": [
       "0"
      ]
     },
     "execution_count": 5,
     "metadata": {},
     "output_type": "execute_result"
    }
   ],
   "source": [
    "10%1"
   ]
  },
  {
   "cell_type": "code",
   "execution_count": 21,
   "metadata": {},
   "outputs": [
    {
     "data": {
      "text/plain": [
       "11"
      ]
     },
     "execution_count": 21,
     "metadata": {},
     "output_type": "execute_result"
    }
   ],
   "source": [
    "1|10\n"
   ]
  },
  {
   "cell_type": "code",
   "execution_count": 43,
   "metadata": {},
   "outputs": [
    {
     "data": {
      "text/plain": [
       "4.3267487109222245"
      ]
     },
     "execution_count": 43,
     "metadata": {},
     "output_type": "execute_result"
    }
   ],
   "source": [
    "round(81**(1/3))"
   ]
  },
  {
   "cell_type": "code",
   "execution_count": 42,
   "metadata": {},
   "outputs": [
    {
     "data": {
      "text/plain": [
       "64"
      ]
     },
     "execution_count": 42,
     "metadata": {},
     "output_type": "execute_result"
    }
   ],
   "source": [
    "4*4*4"
   ]
  },
  {
   "cell_type": "code",
   "execution_count": 39,
   "metadata": {},
   "outputs": [
    {
     "name": "stdout",
     "output_type": "stream",
     "text": [
      "9\n",
      "27\n",
      "81\n",
      "243\n",
      "729\n",
      "2187\n",
      "6561\n",
      "19683\n",
      "59049\n"
     ]
    }
   ],
   "source": [
    "a=3\n",
    "for i in range(9):\n",
    "    a=(a*3)\n",
    "    print(a)"
   ]
  },
  {
   "cell_type": "code",
   "execution_count": 29,
   "metadata": {},
   "outputs": [
    {
     "data": {
      "text/plain": [
       "0.3333333333333333"
      ]
     },
     "execution_count": 29,
     "metadata": {},
     "output_type": "execute_result"
    }
   ],
   "source": [
    "1/3"
   ]
  },
  {
   "cell_type": "code",
   "execution_count": 8,
   "metadata": {},
   "outputs": [
    {
     "data": {
      "text/plain": [
       "False"
      ]
     },
     "execution_count": 8,
     "metadata": {},
     "output_type": "execute_result"
    }
   ],
   "source": [
    "str(3)>str(4)"
   ]
  },
  {
   "cell_type": "code",
   "execution_count": 16,
   "metadata": {},
   "outputs": [
    {
     "name": "stdout",
     "output_type": "stream",
     "text": [
      "['7', '6', '5', '4', '3']\n"
     ]
    },
    {
     "data": {
      "text/plain": [
       "'76543'"
      ]
     },
     "execution_count": 16,
     "metadata": {},
     "output_type": "execute_result"
    }
   ],
   "source": [
    "a=str(34567)\n",
    "arr=[]\n",
    "for i in a:\n",
    "    arr.append(i)\n",
    "arr.sort(reverse=True)\n",
    "print(arr)\n",
    "n=''\n",
    "for i in arr:\n",
    "    n=n+i\n",
    "n"
   ]
  },
  {
   "cell_type": "code",
   "execution_count": 2,
   "metadata": {},
   "outputs": [
    {
     "ename": "ValueError",
     "evalue": "4 is not in list",
     "output_type": "error",
     "traceback": [
      "\u001b[0;31m---------------------------------------------------------------------------\u001b[0m",
      "\u001b[0;31mValueError\u001b[0m                                Traceback (most recent call last)",
      "\u001b[0;32m<ipython-input-2-51a506194c0b>\u001b[0m in \u001b[0;36m<module>\u001b[0;34m\u001b[0m\n\u001b[1;32m      1\u001b[0m \u001b[0mn\u001b[0m\u001b[0;34m=\u001b[0m\u001b[0;34m[\u001b[0m\u001b[0;36m1\u001b[0m\u001b[0;34m,\u001b[0m\u001b[0;36m2\u001b[0m\u001b[0;34m,\u001b[0m\u001b[0;36m3\u001b[0m\u001b[0;34m]\u001b[0m\u001b[0;34m\u001b[0m\u001b[0;34m\u001b[0m\u001b[0m\n\u001b[0;32m----> 2\u001b[0;31m \u001b[0mn\u001b[0m\u001b[0;34m.\u001b[0m\u001b[0mindex\u001b[0m\u001b[0;34m(\u001b[0m\u001b[0;36m4\u001b[0m\u001b[0;34m)\u001b[0m\u001b[0;34m\u001b[0m\u001b[0;34m\u001b[0m\u001b[0m\n\u001b[0m",
      "\u001b[0;31mValueError\u001b[0m: 4 is not in list"
     ]
    }
   ],
   "source": [
    "n=[1,2,3]\n",
    "n.index(4)"
   ]
  },
  {
   "cell_type": "code",
   "execution_count": 25,
   "metadata": {},
   "outputs": [
    {
     "name": "stdout",
     "output_type": "stream",
     "text": [
      "three big apple trees \n",
      "tree\n",
      "0\n"
     ]
    }
   ],
   "source": [
    "text=input()\n",
    "pattern=input()\n",
    "arr=[]\n",
    "if len(pattern)> len(text):\n",
    "    \n",
    "    print(\"Invalid input\")\n",
    "else:\n",
    "    \n",
    "\n",
    "    for i in text:\n",
    "        arr.append(i)\n",
    "    if pattern[0] in arr:\n",
    "        \n",
    "        for i in pattern:\n",
    "            if i in \n",
    "        print(text.index(pattern[0]))\n",
    "        \n",
    "        \n",
    "    else:\n",
    "        print(\"No match found\")\n",
    "        "
   ]
  },
  {
   "cell_type": "code",
   "execution_count": 6,
   "metadata": {},
   "outputs": [
    {
     "data": {
      "text/plain": [
       "'a'"
      ]
     },
     "execution_count": 6,
     "metadata": {},
     "output_type": "execute_result"
    }
   ],
   "source": [
    "n='abac'\n",
    "n[0]"
   ]
  },
  {
   "cell_type": "code",
   "execution_count": 1,
   "metadata": {},
   "outputs": [
    {
     "name": "stdout",
     "output_type": "stream",
     "text": [
      "5\n",
      "10 11 7 12 14\n",
      "7\n"
     ]
    }
   ],
   "source": [
    "n=int(input())\n",
    "arr=list(map(int,input().split()))\n",
    "arr.sort()\n",
    "print(arr[-1]-arr[0])"
   ]
  },
  {
   "cell_type": "code",
   "execution_count": 2,
   "metadata": {},
   "outputs": [
    {
     "data": {
      "text/plain": [
       "3"
      ]
     },
     "execution_count": 2,
     "metadata": {},
     "output_type": "execute_result"
    }
   ],
   "source": [
    "n='123456'\n",
    "int(n[2])"
   ]
  },
  {
   "cell_type": "code",
   "execution_count": 27,
   "metadata": {},
   "outputs": [
    {
     "name": "stdout",
     "output_type": "stream",
     "text": [
      "0\n"
     ]
    }
   ],
   "source": [
    "list=[]\n",
    "num=0\n",
    "new_no=-1\n",
    "s='absabdak'\n",
    "for i in s:\n",
    "    if i.isdigit():\n",
    "        num=num*10+int(i)\n",
    "    else: \n",
    "        if new_no<num:\n",
    "            new_no=num\n",
    "            num=0\n",
    "print(new_no)"
   ]
  },
  {
   "cell_type": "code",
   "execution_count": 16,
   "metadata": {},
   "outputs": [
    {
     "data": {
      "text/plain": [
       "'100'"
      ]
     },
     "execution_count": 16,
     "metadata": {},
     "output_type": "execute_result"
    }
   ],
   "source": [
    "import re\n",
    "re.search(r'\\d+', '100klh564abc365bg').group()"
   ]
  },
  {
   "cell_type": "code",
   "execution_count": 4,
   "metadata": {},
   "outputs": [
    {
     "name": "stdout",
     "output_type": "stream",
     "text": [
      "22\n",
      "212\n"
     ]
    }
   ],
   "source": [
    "\n",
    "def evalInfix(tokens):\n",
    "\n",
    "    values = []\n",
    "\n",
    "    ops = []\n",
    "    i = 0\n",
    "     \n",
    "    while i < len(tokens):\n",
    "\n",
    "        if tokens[i] == ' ':\n",
    "            i += 1\n",
    "            continue\n",
    "\n",
    "        elif tokens[i] == '(':\n",
    "            ops.append(tokens[i])\n",
    "\n",
    "        elif tokens[i].isdigit():\n",
    "            val = 0\n",
    "\n",
    "            while (i < len(tokens) and\n",
    "                tokens[i].isdigit()):\n",
    "             \n",
    "                val = (val * 10) + int(tokens[i])\n",
    "                i += 1\n",
    "             \n",
    "            values.append(val)\n",
    "             \n",
    "     \n",
    "            i-=1\n",
    "\n",
    "        elif tokens[i] == ')':\n",
    "         \n",
    "            while len(ops) != 0 and ops[-1] != '(':\n",
    "             \n",
    "                val2 = values.pop()\n",
    "                val1 = values.pop()\n",
    "                op = ops.pop()\n",
    "                 \n",
    "                values.append(helper2(val1, val2, op))\n",
    "\n",
    "            ops.pop()\n",
    "\n",
    "        else:\n",
    "\n",
    "            while (len(ops) != 0 and\n",
    "                helper1(ops[-1]) >=\n",
    "                   helper1(tokens[i])):\n",
    "                         \n",
    "                val2 = values.pop()\n",
    "                val1 = values.pop()\n",
    "                op = ops.pop()\n",
    "                 \n",
    "                values.append(helper2(val1, val2, op))\n",
    "\n",
    "            ops.append(tokens[i])\n",
    "         \n",
    "        i += 1\n",
    "\n",
    "    while len(ops) != 0:\n",
    "         \n",
    "        val2 = values.pop()\n",
    "        val1 = values.pop()\n",
    "        op = ops.pop()\n",
    "                 \n",
    "        values.append(helper2(val1, val2, op))\n",
    "\n",
    "    return values[-1]\n",
    "\n",
    "def helper1(op):\n",
    "     \n",
    "    if op == '+' or op == '-':\n",
    "        return 1\n",
    "    if op == '*' or op == '/':\n",
    "        return 2\n",
    "    return 0\n",
    "\n",
    "def helper2(a, b, op):\n",
    "     \n",
    "    if op == '+': return a + b\n",
    "    if op == '-': return a - b\n",
    "    if op == '*': return a * b\n",
    "    if op == '/': return a // b\n",
    "\n",
    "if __name__ == \"__main__\":\n",
    "     \n",
    "    print(evalInfix(\"10 + 2 * 6\"))\n",
    "    print(evalInfix(\"100 * 2 + 12\"))\n",
    "    #print(evaluate(\"100 * ( 2 + 12 )\"))\n",
    "    #print(evaluate(\"100 * ( 2 + 12 ) / 14\"))\n",
    "    #print(evaluate(\"\"))"
   ]
  },
  {
   "cell_type": "code",
   "execution_count": 12,
   "metadata": {},
   "outputs": [
    {
     "name": "stdout",
     "output_type": "stream",
     "text": [
      "97 122\n"
     ]
    },
    {
     "data": {
      "text/plain": [
       "'a'"
      ]
     },
     "execution_count": 12,
     "metadata": {},
     "output_type": "execute_result"
    }
   ],
   "source": [
    "s='abc'\n",
    "print(ord('a'),ord('z'))\n",
    "chr(ord('z')-25)"
   ]
  },
  {
   "cell_type": "code",
   "execution_count": 59,
   "metadata": {},
   "outputs": [
    {
     "name": "stdout",
     "output_type": "stream",
     "text": [
      "zyx\n"
     ]
    }
   ],
   "source": [
    "def magicalString (S):\n",
    "        # code here \n",
    "        d=''\n",
    "        for i in S:\n",
    "            if ord(i)<=ord('m'):\n",
    "                #print(ord(i),ord('m'))\n",
    "                \n",
    "                d+=chr(ord('a')+122-ord(i))\n",
    "                #print(S,d)\n",
    "            else:\n",
    "                \n",
    "                d+=chr(ord('z')+97-ord(i))\n",
    "                #print(S,d)\n",
    "        return d\n",
    "    \n",
    "\n",
    "    print(magicalString(\"abc\"))"
   ]
  },
  {
   "cell_type": "code",
   "execution_count": 66,
   "metadata": {},
   "outputs": [
    {
     "name": "stdout",
     "output_type": "stream",
     "text": [
      "ansc vbak\n",
      "fnsc vbfk\n"
     ]
    }
   ],
   "source": [
    "def repl(s):\n",
    "    print(s)\n",
    "    return s.replace(\"a\",\"f\")\n",
    "s='ansc vbak'\n",
    "print(repl(s))\n"
   ]
  },
  {
   "cell_type": "code",
   "execution_count": 23,
   "metadata": {},
   "outputs": [
    {
     "data": {
      "text/plain": [
       "'z'"
      ]
     },
     "execution_count": 23,
     "metadata": {},
     "output_type": "execute_result"
    }
   ],
   "source": [
    "chr(ord('a')+122-ord('a'))"
   ]
  },
  {
   "cell_type": "code",
   "execution_count": 53,
   "metadata": {},
   "outputs": [
    {
     "data": {
      "text/plain": [
       "'a'"
      ]
     },
     "execution_count": 53,
     "metadata": {},
     "output_type": "execute_result"
    }
   ],
   "source": [
    "chr(ord('z')+97-ord('z'))"
   ]
  },
  {
   "cell_type": "code",
   "execution_count": 62,
   "metadata": {},
   "outputs": [
    {
     "data": {
      "text/plain": [
       "'accc'"
      ]
     },
     "execution_count": 62,
     "metadata": {},
     "output_type": "execute_result"
    }
   ],
   "source": [
    "s=\"ac c c\"\n",
    "d=''\n",
    "for i in s:\n",
    "    if i!=' ':\n",
    "        d+=i\n",
    "d"
   ]
  },
  {
   "cell_type": "code",
   "execution_count": 22,
   "metadata": {},
   "outputs": [
    {
     "name": "stdout",
     "output_type": "stream",
     "text": [
      "567\n",
      "30\n"
     ]
    }
   ],
   "source": [
    "def maxm_diff(num):\n",
    "    no=str(num)\n",
    "    new_no=''\n",
    "    for i in no:\n",
    "        if i=='6':\n",
    "            new_no+='9'\n",
    "        else:\n",
    "            new_no+=i\n",
    "    return int(new_no)-int(no)\n",
    "\n",
    "num=int(input())\n",
    "print(maxm_diff(num))"
   ]
  },
  {
   "cell_type": "code",
   "execution_count": 8,
   "metadata": {},
   "outputs": [
    {
     "name": "stdout",
     "output_type": "stream",
     "text": [
      "YEs\n",
      "YEs\n",
      "YEs\n",
      "66688999\n"
     ]
    }
   ],
   "source": [
    "no=66688999\n",
    "a=str(no)\n",
    "for i in range(len(a)):\n",
    "    if a[i] =='6':\n",
    "        print(\"YEs\")\n",
    "        a.replace(a[i],'9')\n",
    "print(a)"
   ]
  },
  {
   "cell_type": "code",
   "execution_count": 19,
   "metadata": {},
   "outputs": [
    {
     "name": "stdout",
     "output_type": "stream",
     "text": [
      "YEs\n",
      "YEs\n",
      "YEs\n",
      "66688999 , 99988999\n"
     ]
    }
   ],
   "source": [
    "no=66688999\n",
    "a=str(no)\n",
    "ne=''\n",
    "for i in range(len(a)):\n",
    "    if a[i] =='6':\n",
    "        print(\"YEs\")\n",
    "        ne=ne+'9'\n",
    "    else:\n",
    "        ne=ne+a[i]\n",
    "print(a,\",\",ne)\n",
    "\n"
   ]
  },
  {
   "cell_type": "code",
   "execution_count": 18,
   "metadata": {},
   "outputs": [
    {
     "data": {
      "text/plain": [
       "'7'"
      ]
     },
     "execution_count": 18,
     "metadata": {},
     "output_type": "execute_result"
    }
   ],
   "source": [
    "a=\"\"\n",
    "a=a+'7'\n",
    "a"
   ]
  },
  {
   "cell_type": "code",
   "execution_count": 25,
   "metadata": {},
   "outputs": [
    {
     "data": {
      "text/plain": [
       "(65, 90)"
      ]
     },
     "execution_count": 25,
     "metadata": {},
     "output_type": "execute_result"
    }
   ],
   "source": [
    "ord('A'),ord('Z')"
   ]
  },
  {
   "cell_type": "code",
   "execution_count": 24,
   "metadata": {},
   "outputs": [
    {
     "data": {
      "text/plain": [
       "97"
      ]
     },
     "execution_count": 24,
     "metadata": {},
     "output_type": "execute_result"
    }
   ],
   "source": [
    "ord('a')"
   ]
  },
  {
   "cell_type": "code",
   "execution_count": 28,
   "metadata": {},
   "outputs": [
    {
     "data": {
      "text/plain": [
       "'['"
      ]
     },
     "execution_count": 28,
     "metadata": {},
     "output_type": "execute_result"
    }
   ],
   "source": [
    "chr(91)"
   ]
  },
  {
   "cell_type": "code",
   "execution_count": 30,
   "metadata": {},
   "outputs": [
    {
     "data": {
      "text/plain": [
       "'aaaaa'"
      ]
     },
     "execution_count": 30,
     "metadata": {},
     "output_type": "execute_result"
    }
   ],
   "source": [
    "string='aaaaavvvv'\n",
    "string.count('a')\n",
    "string[:5]"
   ]
  },
  {
   "cell_type": "code",
   "execution_count": null,
   "metadata": {},
   "outputs": [],
   "source": [
    "string='aaaaavvvv'\n",
    "string."
   ]
  },
  {
   "cell_type": "code",
   "execution_count": 42,
   "metadata": {},
   "outputs": [
    {
     "name": "stdout",
     "output_type": "stream",
     "text": [
      "The original string  is : Geeksforgeeks\n",
      "The reversed string(using loops) is : skeegrofskeeG\n"
     ]
    }
   ],
   "source": [
    "def reverse(s):\n",
    "  str = \"\"\n",
    "  \n",
    "  for i in s:\n",
    "    #print(i)\n",
    "    str = i+str\n",
    "  return str\n",
    "  \n",
    "s = \"Geeksforgeeks\"\n",
    "  \n",
    "print (\"The original string  is : \",end=\"\")\n",
    "print (s)\n",
    "  \n",
    "print (\"The reversed string(using loops) is : \",end=\"\")\n",
    "print (reverse(s))"
   ]
  },
  {
   "cell_type": "code",
   "execution_count": 38,
   "metadata": {},
   "outputs": [
    {
     "name": "stdout",
     "output_type": "stream",
     "text": [
      "h\n",
      "g\n",
      "f\n",
      "e\n",
      "d\n",
      "c\n",
      "b\n",
      "a\n"
     ]
    }
   ],
   "source": [
    "s='abcdefgh'\n",
    "for i in(reversed(s)):\n",
    "    print(i)"
   ]
  },
  {
   "cell_type": "code",
   "execution_count": 13,
   "metadata": {},
   "outputs": [
    {
     "name": "stdout",
     "output_type": "stream",
     "text": [
      "15\n",
      "for\n",
      "rof\n",
      "for\n"
     ]
    }
   ],
   "source": [
    "string=\"geeks for geeks\"\n",
    "print(len(string))\n",
    "for i in range(len(string.split(\" \"))):\n",
    "    if i%2==1:\n",
    "            print(string.split(\" \")[i])\n",
    "            print(string.split(\" \")[i][::-1])\n",
    "            print(string.split(\" \")[i])"
   ]
  },
  {
   "cell_type": "code",
   "execution_count": 3,
   "metadata": {},
   "outputs": [
    {
     "name": "stdout",
     "output_type": "stream",
     "text": [
      "aaaBBab\n",
      "{'a': 4, 'b': 3}\n"
     ]
    }
   ],
   "source": [
    "def transform( S):\n",
    "        \n",
    "        # code here\n",
    "        d=[]\n",
    "        for i in range(len(S)):\n",
    "            if S[i].lower():\n",
    "                d[i.lower()]+=1\n",
    "            else:\n",
    "                d[i.lower()]=1\n",
    "                \n",
    "        return d\n",
    "        '''s=\"\"\n",
    "        for i in d.keys():\n",
    "            s+=d'''\n",
    "        \n",
    "string=input()\n",
    "print(transform(string))"
   ]
  },
  {
   "cell_type": "code",
   "execution_count": 19,
   "metadata": {},
   "outputs": [
    {
     "data": {
      "text/plain": [
       "(97, 122)"
      ]
     },
     "execution_count": 19,
     "metadata": {},
     "output_type": "execute_result"
    }
   ],
   "source": [
    "ord('a'),ord('z')"
   ]
  },
  {
   "cell_type": "code",
   "execution_count": 20,
   "metadata": {},
   "outputs": [
    {
     "ename": "NameError",
     "evalue": "name 's' is not defined",
     "output_type": "error",
     "traceback": [
      "\u001b[0;31m---------------------------------------------------------------------------\u001b[0m",
      "\u001b[0;31mNameError\u001b[0m                                 Traceback (most recent call last)",
      "\u001b[0;32m<ipython-input-20-66c25daec2b9>\u001b[0m in \u001b[0;36m<module>\u001b[0;34m\u001b[0m\n\u001b[1;32m      1\u001b[0m \u001b[0ms\u001b[0m\u001b[0;34m=\u001b[0m\u001b[0;34m'aac'\u001b[0m\u001b[0;34m\u001b[0m\u001b[0;34m\u001b[0m\u001b[0m\n\u001b[1;32m      2\u001b[0m \u001b[0;32mdel\u001b[0m\u001b[0;34m(\u001b[0m\u001b[0ms\u001b[0m\u001b[0;34m)\u001b[0m\u001b[0;34m\u001b[0m\u001b[0;34m\u001b[0m\u001b[0m\n\u001b[0;32m----> 3\u001b[0;31m \u001b[0mprint\u001b[0m\u001b[0;34m(\u001b[0m\u001b[0ms\u001b[0m\u001b[0;34m)\u001b[0m\u001b[0;34m\u001b[0m\u001b[0;34m\u001b[0m\u001b[0m\n\u001b[0m",
      "\u001b[0;31mNameError\u001b[0m: name 's' is not defined"
     ]
    }
   ],
   "source": [
    "s='aac'\n",
    "del(s)\n",
    "print(s)"
   ]
  },
  {
   "cell_type": "code",
   "execution_count": 29,
   "metadata": {},
   "outputs": [
    {
     "name": "stdout",
     "output_type": "stream",
     "text": [
      "1abc23\n",
      "1\n"
     ]
    },
    {
     "ename": "ValueError",
     "evalue": "invalid literal for int() with base 10: ''",
     "output_type": "error",
     "traceback": [
      "\u001b[0;31m---------------------------------------------------------------------------\u001b[0m",
      "\u001b[0;31mValueError\u001b[0m                                Traceback (most recent call last)",
      "\u001b[0;32m<ipython-input-29-d9ed9a80f328>\u001b[0m in \u001b[0;36m<module>\u001b[0;34m\u001b[0m\n\u001b[1;32m     17\u001b[0m \u001b[0;34m\u001b[0m\u001b[0m\n\u001b[1;32m     18\u001b[0m \u001b[0mstring\u001b[0m\u001b[0;34m=\u001b[0m\u001b[0minput\u001b[0m\u001b[0;34m(\u001b[0m\u001b[0;34m)\u001b[0m\u001b[0;34m\u001b[0m\u001b[0;34m\u001b[0m\u001b[0m\n\u001b[0;32m---> 19\u001b[0;31m \u001b[0mprint\u001b[0m\u001b[0;34m(\u001b[0m\u001b[0mfindSum\u001b[0m\u001b[0;34m(\u001b[0m\u001b[0mstring\u001b[0m\u001b[0;34m)\u001b[0m\u001b[0;34m)\u001b[0m\u001b[0;34m\u001b[0m\u001b[0;34m\u001b[0m\u001b[0m\n\u001b[0m",
      "\u001b[0;32m<ipython-input-29-d9ed9a80f328>\u001b[0m in \u001b[0;36mfindSum\u001b[0;34m(s)\u001b[0m\n\u001b[1;32m     10\u001b[0m \u001b[0;34m\u001b[0m\u001b[0m\n\u001b[1;32m     11\u001b[0m             \u001b[0;32melif\u001b[0m \u001b[0mord\u001b[0m\u001b[0;34m(\u001b[0m\u001b[0mi\u001b[0m\u001b[0;34m)\u001b[0m\u001b[0;34m>=\u001b[0m\u001b[0;36m97\u001b[0m \u001b[0;32mand\u001b[0m \u001b[0mord\u001b[0m\u001b[0;34m(\u001b[0m\u001b[0mi\u001b[0m\u001b[0;34m)\u001b[0m\u001b[0;34m<=\u001b[0m\u001b[0;36m122\u001b[0m\u001b[0;34m:\u001b[0m\u001b[0;34m\u001b[0m\u001b[0;34m\u001b[0m\u001b[0m\n\u001b[0;32m---> 12\u001b[0;31m                 \u001b[0mn\u001b[0m\u001b[0;34m.\u001b[0m\u001b[0mappend\u001b[0m\u001b[0;34m(\u001b[0m\u001b[0mint\u001b[0m\u001b[0;34m(\u001b[0m\u001b[0mst\u001b[0m\u001b[0;34m)\u001b[0m\u001b[0;34m)\u001b[0m\u001b[0;34m\u001b[0m\u001b[0;34m\u001b[0m\u001b[0m\n\u001b[0m\u001b[1;32m     13\u001b[0m                 \u001b[0;32mdel\u001b[0m\u001b[0;34m(\u001b[0m\u001b[0mst\u001b[0m\u001b[0;34m)\u001b[0m\u001b[0;34m\u001b[0m\u001b[0;34m\u001b[0m\u001b[0m\n\u001b[1;32m     14\u001b[0m                 \u001b[0mprint\u001b[0m\u001b[0;34m(\u001b[0m\u001b[0mn\u001b[0m\u001b[0;34m)\u001b[0m\u001b[0;34m\u001b[0m\u001b[0;34m\u001b[0m\u001b[0m\n",
      "\u001b[0;31mValueError\u001b[0m: invalid literal for int() with base 10: ''"
     ]
    }
   ],
   "source": [
    "def findSum(s):\n",
    "        #code here\n",
    "        n=[]\n",
    "        for i in s:\n",
    "            st=''\n",
    "            if ord(i)<97 or ord(i)>122:\n",
    "                \n",
    "                st+=i\n",
    "                print(st)\n",
    "            \n",
    "            elif ord(i)>=97 and ord(i)<=122:\n",
    "                n.append(int(st))\n",
    "                del(st)\n",
    "                print(n)\n",
    "                \n",
    "        return sum(n)\n",
    "    \n",
    "string=input()\n",
    "print(findSum(string))"
   ]
  },
  {
   "cell_type": "code",
   "execution_count": 8,
   "metadata": {},
   "outputs": [
    {
     "name": "stdout",
     "output_type": "stream",
     "text": [
      "42\n",
      "010101\n",
      "21\n"
     ]
    }
   ],
   "source": [
    "def onesComplement(N):\n",
    "        #code here\n",
    "        n=''\n",
    "        while N>0:\n",
    "            rem=N%2\n",
    "            n+=str(rem)\n",
    "            N=N//2\n",
    "        n=n[::-1]\n",
    "        c=''\n",
    "        for i in n:\n",
    "            if i=='1':\n",
    "                c+='0'\n",
    "            else:\n",
    "                c+='1'\n",
    "        print(c)\n",
    "        final_no=0\n",
    "        j=0\n",
    "        for i in c[::-1]:\n",
    "            final_no+=int(i)*(2**j)\n",
    "            j+=1\n",
    "        return final_no\n",
    "n=int(input())\n",
    "print(onesComplement(n))"
   ]
  },
  {
   "cell_type": "code",
   "execution_count": 19,
   "metadata": {},
   "outputs": [
    {
     "name": "stdout",
     "output_type": "stream",
     "text": [
      "ldutwihymacesxgikyyjnpbjpbl\n",
      "{'l': 25, 'i': 9, 'y': 0, 'j': 3, 'p': 2, 'b': 2}\n",
      "y\n"
     ]
    }
   ],
   "source": [
    "def firstRepChar(s):\n",
    "        # code here\n",
    "        dic={}\n",
    "        for i in range(len(s)):\n",
    "            if s[i] in s[i+1::]:\n",
    "                dic[s[i]]=s[i+1::].index(s[i])\n",
    "        print(dic)\n",
    "        if len(dic)>0:\n",
    "            ans= min(dic,key=dic.get)\n",
    "            return ans\n",
    "        return -1\n",
    "    \n",
    "string=input()\n",
    "print(firstRepChar(string))"
   ]
  },
  {
   "cell_type": "code",
   "execution_count": 14,
   "metadata": {},
   "outputs": [
    {
     "name": "stdout",
     "output_type": "stream",
     "text": [
      "v\n"
     ]
    }
   ],
   "source": [
    "a={'v': 6, 'j': 6}\n",
    "print(min(a,key=a.get))"
   ]
  },
  {
   "cell_type": "code",
   "execution_count": 22,
   "metadata": {},
   "outputs": [
    {
     "name": "stdout",
     "output_type": "stream",
     "text": [
      "hkrrtbxwkabeihgcdqew\n",
      "['hkrrtbxwkabeihgcdqew']\n",
      "20\n"
     ]
    }
   ],
   "source": [
    "def findLength(s):\n",
    "        # code here\n",
    "        s=s.split()\n",
    "        print(s)\n",
    "        return len(s[-1])\n",
    "st=input()\n",
    "print(findLength(st))"
   ]
  },
  {
   "cell_type": "code",
   "execution_count": 27,
   "metadata": {},
   "outputs": [
    {
     "name": "stdout",
     "output_type": "stream",
     "text": [
      "The original string : 1: Prakhar Agrawal, 2: Manish Kumar Rai, 3: Rishabh Gupta56\n",
      "The numbers list is : [1, 2, 3, 56]\n"
     ]
    }
   ],
   "source": [
    "test_string = \"1: Prakhar Agrawal, 2: Manish Kumar Rai, 3: Rishabh Gupta56\"\n",
    "  \n",
    "import re\n",
    "\n",
    "  \n",
    "# printing original string \n",
    "print(\"The original string : \" + test_string)\n",
    "  \n",
    "# using re.findall()\n",
    "# getting numbers from string \n",
    "temp = re.findall(r'\\d+', test_string)\n",
    "res = list(map(int, temp))\n",
    "  \n",
    "# print result\n",
    "print(\"The numbers list is : \" + str(res))"
   ]
  },
  {
   "cell_type": "code",
   "execution_count": 3,
   "metadata": {},
   "outputs": [
    {
     "name": "stdout",
     "output_type": "stream",
     "text": [
      "0\n",
      "1\n"
     ]
    }
   ],
   "source": [
    "def factorail(n):\n",
    "    if n==0 or n==1:\n",
    "        return 1\n",
    "    else:\n",
    "        return factorail(n-1)*n\n",
    "\n",
    "n=int(input())\n",
    "print(factorail(n))"
   ]
  },
  {
   "cell_type": "code",
   "execution_count": 5,
   "metadata": {},
   "outputs": [
    {
     "name": "stdout",
     "output_type": "stream",
     "text": [
      "10\n",
      "55\n"
     ]
    }
   ],
   "source": [
    "def sum_natural(n):\n",
    "    if n==1:\n",
    "        return 1\n",
    "    else:\n",
    "        return sum_natural(n-1)+n\n",
    "n=int(input())\n",
    "print(sum_natural(n))"
   ]
  },
  {
   "cell_type": "code",
   "execution_count": 15,
   "metadata": {},
   "outputs": [
    {
     "name": "stdout",
     "output_type": "stream",
     "text": [
      "10\n",
      "12345678910None\n"
     ]
    }
   ],
   "source": [
    "def one_to_n(n):\n",
    "    if n ==0:\n",
    "        return;\n",
    "\n",
    "    one_to_n(n-1)\n",
    "    print(n)\n",
    "    \n",
    "n=int(input())\n",
    "print(one_to_n(n))"
   ]
  },
  {
   "cell_type": "code",
   "execution_count": 21,
   "metadata": {},
   "outputs": [
    {
     "name": "stdout",
     "output_type": "stream",
     "text": [
      "10\n",
      "1 2 3 4 5 6 7 8 9 10 "
     ]
    }
   ],
   "source": [
    "class Solution:    \n",
    "    #Complete this function\n",
    "    def printNos(self,N):\n",
    "        \n",
    "        #Your code here\n",
    "        if N<1:\n",
    "            return \n",
    "        else:\n",
    "            Solution.printNos(self,N-1)\n",
    "            print(N,end=' ')\n",
    "n=int(input())\n",
    "ob=Solution()\n",
    "ob.printNos(n)"
   ]
  },
  {
   "cell_type": "code",
   "execution_count": 4,
   "metadata": {},
   "outputs": [
    {
     "name": "stdout",
     "output_type": "stream",
     "text": [
      "6\n",
      "8\n"
     ]
    }
   ],
   "source": [
    "def fabonacci(n): \n",
    "    if n ==1:\n",
    "        return 1\n",
    "    if n==2:\n",
    "        return 1\n",
    "    else:\n",
    "        return fabonacci(n-2)+fabonacci(n-1)\n",
    "    \n",
    "n=int(input())\n",
    "print(fabonacci(n))"
   ]
  },
  {
   "cell_type": "code",
   "execution_count": 9,
   "metadata": {},
   "outputs": [
    {
     "name": "stdout",
     "output_type": "stream",
     "text": [
      "1 2 3 4 5 \n",
      "True\n"
     ]
    }
   ],
   "source": [
    "def is_sorted(l):\n",
    "    if len(l)==0 or len(l) ==1:\n",
    "        return True\n",
    "    #base case:\n",
    "    if l[0]>l[1]:\n",
    "        return False\n",
    "    small_list=l[1:]\n",
    "    is_small_list_sorted=is_sorted(small_list)\n",
    "    if is_small_list_sorted:\n",
    "        return True\n",
    "    else:\n",
    "        return False\n",
    "l=list(map(int,input().split()))\n",
    "if is_sorted(l):\n",
    "    print(\"True\")\n",
    "    \n",
    "else:\n",
    "    print(\"False\")\n",
    "\n",
    "    "
   ]
  },
  {
   "cell_type": "code",
   "execution_count": 15,
   "metadata": {},
   "outputs": [
    {
     "name": "stdout",
     "output_type": "stream",
     "text": [
      "0011\n",
      "0 0\n",
      "1\n",
      "2\n",
      "2\n"
     ]
    }
   ],
   "source": [
    "def maxlength(s):\n",
    "    \n",
    "    #add code here\n",
    "    count=-1\n",
    "    count_1=0\n",
    "    for i in s:\n",
    "        if i =='1':\n",
    "            count_1+=1\n",
    "            print(count_1)\n",
    "        else:\n",
    "            if count<count_1:\n",
    "                count=count_1\n",
    "                print(count,count_1)\n",
    "            count_1=0\n",
    "    if count<count_1:\n",
    "        count=count_1\n",
    "    return count\n",
    "n=input()\n",
    "print(maxlength(n))"
   ]
  },
  {
   "cell_type": "code",
   "execution_count": 28,
   "metadata": {},
   "outputs": [
    {
     "name": "stdout",
     "output_type": "stream",
     "text": [
      "m\n",
      "n\n"
     ]
    }
   ],
   "source": [
    "def reverse_smaller(char):\n",
    "    if ord(char)>ord('m'):\n",
    "        ans=chr(ord('z')-ord(char)+ord('a'))\n",
    "    else:\n",
    "        ans=chr(ord('z')-ord(char)+ord('a'))\n",
    "    return ans\n",
    "\n",
    "char=input()\n",
    "print(reverse_smaller(char))"
   ]
  },
  {
   "cell_type": "code",
   "execution_count": 33,
   "metadata": {},
   "outputs": [
    {
     "name": "stdout",
     "output_type": "stream",
     "text": [
      "R\n",
      "I\n"
     ]
    }
   ],
   "source": [
    "def reverse_upper(char):\n",
    "    if ord(char)>ord('M'):\n",
    "        ans=chr(ord('Z')-ord(char)+ord('A'))\n",
    "    else:\n",
    "        ans=chr(ord('Z')-ord(char)+ord('A'))\n",
    "    return ans\n",
    "\n",
    "char=input()\n",
    "print(reverse_upper(char))"
   ]
  },
  {
   "cell_type": "code",
   "execution_count": 21,
   "metadata": {},
   "outputs": [
    {
     "data": {
      "text/plain": [
       "(True, True)"
      ]
     },
     "execution_count": 21,
     "metadata": {},
     "output_type": "execute_result"
    }
   ],
   "source": [
    "'a'.isalpha(),\"A\".isalpha()"
   ]
  },
  {
   "cell_type": "code",
   "execution_count": 34,
   "metadata": {},
   "outputs": [
    {
     "name": "stdout",
     "output_type": "stream",
     "text": [
      "a\n",
      "b\n",
      "c\n"
     ]
    }
   ],
   "source": [
    "d={'a':1,'b':2,'c':3}\n",
    "for i in d:\n",
    "    print(i\n",
    "         )"
   ]
  },
  {
   "cell_type": "code",
   "execution_count": 35,
   "metadata": {},
   "outputs": [
    {
     "ename": "NameError",
     "evalue": "name 'mode' is not defined",
     "output_type": "error",
     "traceback": [
      "\u001b[0;31m---------------------------------------------------------------------------\u001b[0m",
      "\u001b[0;31mNameError\u001b[0m                                 Traceback (most recent call last)",
      "\u001b[0;32m<ipython-input-35-9c03aada3394>\u001b[0m in \u001b[0;36m<module>\u001b[0;34m\u001b[0m\n\u001b[0;32m----> 1\u001b[0;31m \u001b[0mmode\u001b[0m\u001b[0;34m(\u001b[0m\u001b[0;34m-\u001b[0m\u001b[0;36m1\u001b[0m\u001b[0;34m)\u001b[0m\u001b[0;34m\u001b[0m\u001b[0;34m\u001b[0m\u001b[0m\n\u001b[0m",
      "\u001b[0;31mNameError\u001b[0m: name 'mode' is not defined"
     ]
    }
   ],
   "source": [
    "mode(-1)"
   ]
  },
  {
   "cell_type": "code",
   "execution_count": 37,
   "metadata": {},
   "outputs": [
    {
     "data": {
      "text/plain": [
       "11"
      ]
     },
     "execution_count": 37,
     "metadata": {},
     "output_type": "execute_result"
    }
   ],
   "source": [
    "abs(11)"
   ]
  },
  {
   "cell_type": "code",
   "execution_count": 42,
   "metadata": {},
   "outputs": [
    {
     "name": "stdout",
     "output_type": "stream",
     "text": [
      "basgadhbfgvhads\n",
      "sjdhgvbjdsbhvbvd\n",
      "{'b': 2, 'a': 3, 's': 2, 'g': 2, 'd': 2, 'h': 2, 'f': 1, 'v': 1} {'s': 2, 'j': 2, 'd': 3, 'h': 2, 'g': 1, 'v': 3, 'b': 3}\n",
      "9\n"
     ]
    }
   ],
   "source": [
    "def remAnagram(str1,str2):\n",
    "    \n",
    "    #add code here\n",
    "    dic1={}\n",
    "    dic2={}\n",
    "    for i in str1:\n",
    "        if i in dic1:\n",
    "            dic1[i]+=1\n",
    "        else:\n",
    "            dic1[i]=1\n",
    "    for i in str2:\n",
    "        if i in dic2:\n",
    "            dic2[i]+=1\n",
    "        else:\n",
    "            dic2[i]=1\n",
    "    count=0\n",
    "    print(dic1,dic2)\n",
    "    \n",
    "    if len(dic1)>len(dic2):\n",
    "        for i in dic1:\n",
    "            if i in dic2:\n",
    "                if dic1[i]==dic2[i]:\n",
    "                    pass\n",
    "                else:\n",
    "                    count+=abs(dic1[i]-dic2[i])\n",
    "            else:\n",
    "                count+=dic1[i]\n",
    "                \n",
    "                \n",
    "    else:\n",
    "        for i in dic2:\n",
    "            if i in dic1:\n",
    "                if dic1[i]==dic2[i]:\n",
    "                    pass\n",
    "                else:\n",
    "                    count+=abs(dic1[i]-dic2[i])\n",
    "            else:\n",
    "                count+=dic2[i]\n",
    "    return count\n",
    "\n",
    "str1=input()\n",
    "str2=input()\n",
    "print(remAnagram(str1,str2))"
   ]
  },
  {
   "cell_type": "code",
   "execution_count": 44,
   "metadata": {},
   "outputs": [
    {
     "name": "stdout",
     "output_type": "stream",
     "text": [
      "3545\n",
      "4344\n",
      "4533\n"
     ]
    },
    {
     "ename": "IndexError",
     "evalue": "string index out of range",
     "output_type": "error",
     "traceback": [
      "\u001b[0;31m---------------------------------------------------------------------------\u001b[0m",
      "\u001b[0;31mIndexError\u001b[0m                                Traceback (most recent call last)",
      "\u001b[0;32m<ipython-input-44-0ce895d92a90>\u001b[0m in \u001b[0;36m<module>\u001b[0;34m\u001b[0m\n\u001b[1;32m      2\u001b[0m \u001b[0;32mfor\u001b[0m \u001b[0mi\u001b[0m \u001b[0;32min\u001b[0m \u001b[0mrange\u001b[0m\u001b[0;34m(\u001b[0m\u001b[0mlen\u001b[0m\u001b[0;34m(\u001b[0m\u001b[0ms\u001b[0m\u001b[0;34m)\u001b[0m\u001b[0;34m)\u001b[0m\u001b[0;34m:\u001b[0m\u001b[0;34m\u001b[0m\u001b[0;34m\u001b[0m\u001b[0m\n\u001b[1;32m      3\u001b[0m     \u001b[0mnew_str\u001b[0m\u001b[0;34m=\u001b[0m\u001b[0;34m''\u001b[0m\u001b[0;34m\u001b[0m\u001b[0;34m\u001b[0m\u001b[0m\n\u001b[0;32m----> 4\u001b[0;31m     \u001b[0mnew_str\u001b[0m\u001b[0;34m=\u001b[0m\u001b[0mnew_str\u001b[0m\u001b[0;34m+\u001b[0m\u001b[0ms\u001b[0m\u001b[0;34m[\u001b[0m\u001b[0;34m:\u001b[0m\u001b[0mi\u001b[0m\u001b[0;34m]\u001b[0m\u001b[0;34m+\u001b[0m\u001b[0ms\u001b[0m\u001b[0;34m[\u001b[0m\u001b[0;34m-\u001b[0m\u001b[0;36m1\u001b[0m\u001b[0;34m]\u001b[0m\u001b[0;34m+\u001b[0m\u001b[0ms\u001b[0m\u001b[0;34m[\u001b[0m\u001b[0mi\u001b[0m\u001b[0;34m+\u001b[0m\u001b[0;36m1\u001b[0m\u001b[0;34m:\u001b[0m\u001b[0;34m-\u001b[0m\u001b[0;36m1\u001b[0m\u001b[0;34m]\u001b[0m\u001b[0;34m+\u001b[0m\u001b[0ms\u001b[0m\u001b[0;34m[\u001b[0m\u001b[0mi\u001b[0m\u001b[0;34m+\u001b[0m\u001b[0;36m1\u001b[0m\u001b[0;34m]\u001b[0m\u001b[0;34m\u001b[0m\u001b[0;34m\u001b[0m\u001b[0m\n\u001b[0m\u001b[1;32m      5\u001b[0m     \u001b[0mprint\u001b[0m\u001b[0;34m(\u001b[0m\u001b[0mnew_str\u001b[0m\u001b[0;34m)\u001b[0m\u001b[0;34m\u001b[0m\u001b[0;34m\u001b[0m\u001b[0m\n",
      "\u001b[0;31mIndexError\u001b[0m: string index out of range"
     ]
    }
   ],
   "source": [
    "s='4543'\n",
    "for i in range(len(s)):\n",
    "    new_str=''\n",
    "    new_str=new_str+s[:i]+s[-1]+s[i+1:-1]+s[i+1]\n",
    "    print(new_str)"
   ]
  },
  {
   "cell_type": "code",
   "execution_count": 76,
   "metadata": {},
   "outputs": [
    {
     "name": "stdout",
     "output_type": "stream",
     "text": [
      "abcdefghijk11\n",
      "a 0\n",
      "b 1\n",
      "c 2\n",
      "d 3\n",
      "e 4\n",
      "f 5\n",
      "g 6\n",
      "h 7\n",
      "i 8\n",
      "j 9\n",
      "k 10\n",
      "11 11\n"
     ]
    }
   ],
   "source": [
    "def isSame( s):\n",
    "\t\t# code here\n",
    "        count=0\n",
    "        for i in range(len(s)):\n",
    "            \n",
    "            if s[i].isalpha():\n",
    "                print(s[i],i)\n",
    "                count+=1\n",
    "            else:\n",
    "                \n",
    "                no=s[i:]\n",
    "                break\n",
    "                \n",
    "            \n",
    "            \n",
    "        print(count,no)\n",
    "s=input()\n",
    "isSame(s)"
   ]
  },
  {
   "cell_type": "code",
   "execution_count": 70,
   "metadata": {},
   "outputs": [
    {
     "name": "stdout",
     "output_type": "stream",
     "text": [
      "11\n"
     ]
    }
   ],
   "source": [
    "s='abcdefghijk11'\n",
    "print(s[11:])"
   ]
  },
  {
   "cell_type": "code",
   "execution_count": 85,
   "metadata": {},
   "outputs": [
    {
     "name": "stdout",
     "output_type": "stream",
     "text": [
      "['', 'I', 'AM', '', 'COOL']\n"
     ]
    }
   ],
   "source": [
    "s='LIEILIEAMLIELIECOOL'\n",
    "s=s.split(\"LIE\")\n",
    "print(s)"
   ]
  },
  {
   "cell_type": "code",
   "execution_count": 86,
   "metadata": {},
   "outputs": [
    {
     "data": {
      "text/plain": [
       "['', 'I', 'AM', '', 'COOL']"
      ]
     },
     "execution_count": 86,
     "metadata": {},
     "output_type": "execute_result"
    }
   ],
   "source": [
    "s"
   ]
  },
  {
   "cell_type": "code",
   "execution_count": 93,
   "metadata": {},
   "outputs": [],
   "source": [
    "s='1111'\n",
    "s=s.split('1')"
   ]
  },
  {
   "cell_type": "code",
   "execution_count": 96,
   "metadata": {},
   "outputs": [
    {
     "ename": "SyntaxError",
     "evalue": "invalid syntax (<ipython-input-96-04739d99e864>, line 1)",
     "output_type": "error",
     "traceback": [
      "\u001b[0;36m  File \u001b[0;32m\"<ipython-input-96-04739d99e864>\"\u001b[0;36m, line \u001b[0;32m1\u001b[0m\n\u001b[0;31m    s.del('')\u001b[0m\n\u001b[0m      ^\u001b[0m\n\u001b[0;31mSyntaxError\u001b[0m\u001b[0;31m:\u001b[0m invalid syntax\n"
     ]
    }
   ],
   "source": [
    "s.remov('')\n",
    "s"
   ]
  },
  {
   "cell_type": "code",
   "execution_count": null,
   "metadata": {},
   "outputs": [],
   "source": [
    "'''\n",
    "1\n",
    "11\n",
    "21\n",
    "1211\n",
    "111221\n",
    "\n",
    "'''\n",
    "\n",
    "n=int(input())\n",
    "for i in range(1,n+1):\n",
    "    for j in range(i):\n",
    "        print()"
   ]
  },
  {
   "cell_type": "code",
   "execution_count": 5,
   "metadata": {},
   "outputs": [
    {
     "name": "stdout",
     "output_type": "stream",
     "text": [
      "xxforxx xx for xx\n",
      "*for* * for *\n",
      "*\n",
      "f\n",
      "o\n",
      "r\n",
      "*\n",
      "2\n",
      "*\n",
      "2\n",
      "f\n",
      "o\n",
      "r\n",
      "2\n",
      "*\n"
     ]
    }
   ],
   "source": [
    "''', oldW, newW\n",
    "S = \"xxforxx xx for xx\"\n",
    "oldW = \"xx\"\n",
    "newW = \"Geeks\"'''\n",
    "def replaceAll ( S):\n",
    "        # code here \n",
    "        S=S.replace('xx','*')\n",
    "        print(S)\n",
    "        for i in S:\n",
    "            if i=='':\n",
    "                print(1)\n",
    "            elif i ==\" \":\n",
    "                print(2)\n",
    "            else:\n",
    "                print(i)\n",
    "s=input()\n",
    "replaceAll(s)"
   ]
  },
  {
   "cell_type": "code",
   "execution_count": 22,
   "metadata": {},
   "outputs": [
    {
     "name": "stdout",
     "output_type": "stream",
     "text": [
      "geeks\n",
      "****g\n",
      "***ge\n",
      "**gee\n",
      "*geek\n",
      "geeks\n"
     ]
    }
   ],
   "source": [
    "'''....g\n",
    "...ge\n",
    "..gee\n",
    ".geek\n",
    "geeks'''\n",
    "\n",
    "def print_pattern(string):\n",
    "    n=len(string)\n",
    "    for i in range(1,n+1):\n",
    "        k=0\n",
    "        for j in range(1,n+1,1):\n",
    "            \n",
    "            if j <=n-i:\n",
    "                print('*',end='')\n",
    "            else:\n",
    "                \n",
    "                print(string[k],end='')\n",
    "                k+=1\n",
    "        print()\n",
    "st=input()\n",
    "print_pattern(st)"
   ]
  },
  {
   "cell_type": "code",
   "execution_count": 9,
   "metadata": {},
   "outputs": [
    {
     "name": "stdout",
     "output_type": "stream",
     "text": [
      "s -1\n",
      "k -2\n",
      "e -3\n",
      "e -4\n",
      "g -5\n"
     ]
    }
   ],
   "source": [
    "s='geeks'\n",
    "for i in range(-1,-len(s)-1,-1):\n",
    "    print(s[i],i)"
   ]
  },
  {
   "cell_type": "code",
   "execution_count": 11,
   "metadata": {},
   "outputs": [
    {
     "data": {
      "text/plain": [
       "True"
      ]
     },
     "execution_count": 11,
     "metadata": {},
     "output_type": "execute_result"
    }
   ],
   "source": [
    "-1>-2"
   ]
  },
  {
   "cell_type": "code",
   "execution_count": 28,
   "metadata": {},
   "outputs": [
    {
     "name": "stdout",
     "output_type": "stream",
     "text": [
      "ABBBCCDEAB\n",
      "AB BBCCDEAB\n",
      "ABB   B   B   B\n",
      "ABBC   C   B   C\n",
      "ABBCC   C   C   C\n",
      "ABBCCD   D   C   D\n",
      "ABBCCDE   E   D   E\n",
      "ABBCCDEA   A   E   A\n",
      "ABBCCDEAB   B   A   B\n",
      "ABBCCDEAB\n"
     ]
    }
   ],
   "source": [
    "def sequence(st):\n",
    "        # code here\n",
    "        ans=st[0:2]\n",
    "        print(ans,st[2:])\n",
    "        for i in st[1:]:\n",
    "            if ans[-1]!=i or ans[-2]!=i:\n",
    "                ans+=i\n",
    "                print(ans,\" \",ans[-1],\" \",ans[-2],\" \",i)\n",
    "        return ans\n",
    "    \n",
    "seq=input()\n",
    "print(sequence(seq))"
   ]
  },
  {
   "cell_type": "code",
   "execution_count": 29,
   "metadata": {},
   "outputs": [
    {
     "data": {
      "text/plain": [
       "'BBBCCDEAB'"
      ]
     },
     "execution_count": 29,
     "metadata": {},
     "output_type": "execute_result"
    }
   ],
   "source": [
    "s='ABBBCCDEAB'\n",
    "s[1:]"
   ]
  },
  {
   "cell_type": "code",
   "execution_count": 5,
   "metadata": {},
   "outputs": [
    {
     "name": "stdout",
     "output_type": "stream",
     "text": [
      "1\n",
      "8\n",
      "7 2 4 5 1 3 6 8\n",
      "8 1 7 2 6 3 5 4 \n"
     ]
    }
   ],
   "source": [
    "def alternateSort(arr,N):\n",
    "        new_arr=[]\n",
    "        arr=sorted(arr)\n",
    "        if N%2==0:\n",
    "            for i in range(N//2):\n",
    "                new_arr.append(arr[-i-1])\n",
    "                new_arr.append(arr[i])\n",
    "                \n",
    "        else:\n",
    "            for i in range(N//2):\n",
    "                new_arr.append(arr[-1-i])\n",
    "                new_arr.append(arr[i])\n",
    "                \n",
    "            new_arr.append(arr[i+1])\n",
    "        \n",
    "        return new_arr\n",
    "#{ \n",
    "#  Driver Code Starts\n",
    "if __name__ == '__main__': \n",
    "    def printAns(ans):\n",
    "        for x in ans:\n",
    "            print(x, end=\" \");\n",
    "        print()\n",
    "    \n",
    "    t=int(input())\n",
    "    for _ in range(0,t):\n",
    "        n=int(input())\n",
    "        a = list(map(int,input().split()))\n",
    "        ans=alternateSort(a,n)\n",
    "        printAns(ans)\n",
    "# } Driver Code Ends"
   ]
  },
  {
   "cell_type": "code",
   "execution_count": 3,
   "metadata": {},
   "outputs": [
    {
     "name": "stdout",
     "output_type": "stream",
     "text": [
      "(1, 'q')\n",
      "(2, 'w')\n",
      "(3, 'e')\n",
      "(4, 'r')\n",
      "(5, 't')\n",
      "(6, 'y')\n"
     ]
    }
   ],
   "source": [
    "l1=[1,2,3,4,5,6]\n",
    "l2=['q','w','e','r','t','y']\n",
    "tup=zip(l1,l2)\n",
    "for i in tup:\n",
    "    print(i)"
   ]
  },
  {
   "cell_type": "code",
   "execution_count": 7,
   "metadata": {},
   "outputs": [
    {
     "name": "stdout",
     "output_type": "stream",
     "text": [
      "<class 'set'>\n",
      "{1, 2, 3, 4} {1, 2, 3}\n"
     ]
    }
   ],
   "source": [
    "se={1,2,3,4}\n",
    "print(type(se))\n",
    "s=set()\n",
    "s.add(1)\n",
    "s.add(2)\n",
    "s.add(3)\n",
    "print(se,s)"
   ]
  },
  {
   "cell_type": "code",
   "execution_count": 9,
   "metadata": {},
   "outputs": [
    {
     "name": "stdout",
     "output_type": "stream",
     "text": [
      "<class 'tuple'>\n",
      "(1, 2, 34)\n",
      "1\n",
      "2\n",
      "34\n"
     ]
    }
   ],
   "source": [
    "t=(1,2,34)\n",
    "print(type(t))\n",
    "print(t)\n",
    "for i in t:\n",
    "    print(i)"
   ]
  },
  {
   "cell_type": "code",
   "execution_count": 14,
   "metadata": {},
   "outputs": [
    {
     "name": "stdout",
     "output_type": "stream",
     "text": [
      "{1, 2, 3, (1, 2, 34)}\n",
      "{1, 2, 3, (1, 2, 34)}\n"
     ]
    },
    {
     "ename": "TypeError",
     "evalue": "unhashable type: 'list'",
     "output_type": "error",
     "traceback": [
      "\u001b[0;31m---------------------------------------------------------------------------\u001b[0m",
      "\u001b[0;31mTypeError\u001b[0m                                 Traceback (most recent call last)",
      "\u001b[0;32m<ipython-input-14-7c5dafd8e153>\u001b[0m in \u001b[0;36m<module>\u001b[0;34m\u001b[0m\n\u001b[1;32m      2\u001b[0m \u001b[0ms\u001b[0m\u001b[0;34m.\u001b[0m\u001b[0madd\u001b[0m\u001b[0;34m(\u001b[0m\u001b[0mt\u001b[0m\u001b[0;34m)\u001b[0m\u001b[0;34m\u001b[0m\u001b[0;34m\u001b[0m\u001b[0m\n\u001b[1;32m      3\u001b[0m \u001b[0mprint\u001b[0m\u001b[0;34m(\u001b[0m\u001b[0ms\u001b[0m\u001b[0;34m)\u001b[0m\u001b[0;34m\u001b[0m\u001b[0;34m\u001b[0m\u001b[0m\n\u001b[0;32m----> 4\u001b[0;31m \u001b[0ms\u001b[0m\u001b[0;34m.\u001b[0m\u001b[0madd\u001b[0m\u001b[0;34m(\u001b[0m\u001b[0ml1\u001b[0m\u001b[0;34m)\u001b[0m\u001b[0;34m\u001b[0m\u001b[0;34m\u001b[0m\u001b[0m\n\u001b[0m\u001b[1;32m      5\u001b[0m \u001b[0mprint\u001b[0m\u001b[0;34m(\u001b[0m\u001b[0ms\u001b[0m\u001b[0;34m)\u001b[0m\u001b[0;34m\u001b[0m\u001b[0;34m\u001b[0m\u001b[0m\n",
      "\u001b[0;31mTypeError\u001b[0m: unhashable type: 'list'"
     ]
    }
   ],
   "source": [
    "print(s)\n",
    "s.add(t)\n",
    "print(s)\n",
    "s.add(l1)#you cant add list or mutable items to sets\n",
    "print(s)"
   ]
  },
  {
   "cell_type": "code",
   "execution_count": 16,
   "metadata": {},
   "outputs": [
    {
     "name": "stdout",
     "output_type": "stream",
     "text": [
      "<class 'list'> [1, 2, 3, 4, 5, 6]\n",
      "<class 'tuple'> (1, 2, 3, 4, 5, 6)\n"
     ]
    }
   ],
   "source": [
    "print(type(l1),l1)\n",
    "l1=tuple(l1)\n",
    "print(type(l1),l1)"
   ]
  },
  {
   "cell_type": "code",
   "execution_count": 22,
   "metadata": {},
   "outputs": [
    {
     "name": "stdout",
     "output_type": "stream",
     "text": [
      "1\n",
      "2\n",
      "3\n",
      "4\n",
      "{1, 4, 23} <class 'set'>\n"
     ]
    }
   ],
   "source": [
    "t=tuple([1,2,3,4])\n",
    "for i in t :\n",
    "    print(i)\n",
    "l=list([1,2,3,4,5])\n",
    "l\n",
    "s=set([1,23,4])\n",
    "print(s,type(s))"
   ]
  },
  {
   "cell_type": "code",
   "execution_count": 2,
   "metadata": {},
   "outputs": [
    {
     "name": "stdout",
     "output_type": "stream",
     "text": [
      "0 1 0 0 0 0 0 0 0 0 "
     ]
    }
   ],
   "source": [
    " \n",
    "\n",
    "def getFreq(x, n):\n",
    "    # code here\n",
    "    \n",
    "    arr=[(x**i) for i in range(1,n+1)]\n",
    "    #print(arr)\n",
    "    ans=[0]*10\n",
    "    for i in arr:\n",
    "        while i>0:\n",
    "            rem=i%10\n",
    "            ans[rem]+=1\n",
    "            i=i//10\n",
    "    return ans[:10]\n",
    "\n",
    "#{ \n",
    "#  Driver Code Starts\n",
    "#Initial Template for Python 3\n",
    "\n",
    "\n",
    "\n",
    "\n",
    "\n",
    "\n",
    "if __name__ == '__main__':\n",
    "    tc = int(input())\n",
    "    while tc > 0:\n",
    "        x, n = list(map(int, input().strip().split()))\n",
    "\n",
    "        ans = getFreq(x, n)\n",
    "        for x in ans:\n",
    "            print(x,end=\" \")\n",
    "        tc -= 1\n",
    "\n",
    "# } Driver Code Ends"
   ]
  },
  {
   "cell_type": "code",
   "execution_count": 7,
   "metadata": {},
   "outputs": [
    {
     "name": "stdout",
     "output_type": "stream",
     "text": [
      "[-10, -9, -9, -9, -8, -6, -4, -3, 1, 1, 1, 3, 5, 9, 10, 10]\n",
      "40 -9 31\n",
      "31\n",
      "40 -9 31\n",
      "40 -9 31\n",
      "40 -3 37\n",
      "37\n",
      "37\n"
     ]
    }
   ],
   "source": [
    "\n",
    "\n",
    "class Solution:\n",
    "    def findMaxOddSubarraySum(self,arr,n):\n",
    "        #code here.\n",
    "        for i in arr:\n",
    "            if i %2!=0:\n",
    "                arr=sorted(arr)\n",
    "                print(arr)\n",
    "                s=0\n",
    "                for i in arr:\n",
    "                    if i>0:\n",
    "                        s+=i\n",
    "                if s%2!=0:\n",
    "                    return s\n",
    "                else:\n",
    "                    mxm=0\n",
    "                    \n",
    "                    for i in arr:\n",
    "                        ans=s\n",
    "                        if i%2!=0 and i<0:\n",
    "\n",
    "                            ans=s+i\n",
    "                            print(s,i,ans)\n",
    "                            if mxm<ans:\n",
    "                                mxm=ans\n",
    "                                print(mxm)\n",
    "                    \n",
    "                    return mxm\n",
    "        return -1\n",
    "            \n",
    "        \n",
    "\n",
    "\n",
    "\n",
    "\n",
    "#{ \n",
    "#  Driver Code Starts\n",
    "#Initial Template for Python 3\n",
    "\n",
    "\n",
    "\n",
    "\n",
    "t=int(input())\n",
    "for _ in range(0,t):\n",
    "    n=int(input())\n",
    "    a = list(map(int,input().split()))\n",
    "    ob = Solution()\n",
    "    ans=ob.findMaxOddSubarraySum(a,n)\n",
    "    print(ans)\n",
    "\n",
    "# } Driver Code Ends"
   ]
  },
  {
   "cell_type": "code",
   "execution_count": 5,
   "metadata": {},
   "outputs": [
    {
     "name": "stdout",
     "output_type": "stream",
     "text": [
      "1\n"
     ]
    }
   ],
   "source": [
    "print(-1%2)"
   ]
  },
  {
   "cell_type": "code",
   "execution_count": 6,
   "metadata": {},
   "outputs": [
    {
     "data": {
      "text/plain": [
       "True"
      ]
     },
     "execution_count": 6,
     "metadata": {},
     "output_type": "execute_result"
    }
   ],
   "source": [
    "-1<0"
   ]
  },
  {
   "cell_type": "code",
   "execution_count": 8,
   "metadata": {},
   "outputs": [
    {
     "name": "stdout",
     "output_type": "stream",
     "text": [
      "rwtenyziipxktzduoeey\n"
     ]
    }
   ],
   "source": [
    "\n",
    "  \n",
    "def Sandwiched_Vowel(s):\n",
    "    #Complete the function\\\n",
    "    vol=['a','e','i','o','u']\n",
    "    for i in range(1,len(s)-1):\n",
    "        if s[i] in vol:\n",
    "            if s[i-1] not in vol and s[i+1] not in vol:\n",
    "                s=s.replace(s[i],'')\n",
    "        return s\n",
    "            \n",
    "#{ \n",
    "#  Driver Code Starts\n",
    "#Initial Template for Python 3\n",
    "\n",
    "\n",
    "   \n",
    "\n",
    "for _ in range(0,int(input())):\n",
    "    s = input()\n",
    "    v = Sandwiched_Vowel(s)\n",
    "    print(v)\n",
    "    \n",
    "# } Driver Code Ends\n",
    "# rwtenyziipxktzduoeey"
   ]
  },
  {
   "cell_type": "code",
   "execution_count": null,
   "metadata": {},
   "outputs": [],
   "source": [
    "def test(arr):\n",
    "    new_arr=sorted(arr)\n",
    "    if arr==new_arr:\n",
    "        return 0\n",
    "    \n",
    "            \n",
    "        "
   ]
  },
  {
   "cell_type": "code",
   "execution_count": 5,
   "metadata": {},
   "outputs": [
    {
     "name": "stdout",
     "output_type": "stream",
     "text": [
      "[1, 2]\n",
      "False\n"
     ]
    }
   ],
   "source": [
    "a=[1,2,3,4,5]\n",
    "b=[1,2,3]\n",
    "print(b[:2])\n",
    "if b[:2] in a:\n",
    "    print('True')\n",
    "else:\n",
    "    print('False')"
   ]
  },
  {
   "cell_type": "code",
   "execution_count": 6,
   "metadata": {},
   "outputs": [
    {
     "name": "stdout",
     "output_type": "stream",
     "text": [
      "Minimum number of deletions =  1\n"
     ]
    }
   ],
   "source": [
    "def ans(arr, n):\n",
    " \n",
    "    result = 0\n",
    "    lis = [0 for i in range(n)]\n",
    "\n",
    "    for i in range(n):\n",
    "        lis[i] = 1\n",
    "\n",
    "    for i in range(1, n):\n",
    "        for j in range(i):\n",
    "            if ( arr[i] > arr[j] and\n",
    "                lis[i] < lis[j] + 1):\n",
    "                lis[i] = lis[j] + 1\n",
    "\n",
    "    for i in range(n):\n",
    "        if (result < lis[i]):\n",
    "            result = lis[i]\n",
    "\n",
    "    return len(arr)-result\n",
    "\n",
    " \n",
    " \n"
   ]
  },
  {
   "cell_type": "code",
   "execution_count": 1,
   "metadata": {},
   "outputs": [
    {
     "data": {
      "text/plain": [
       "'abcd'"
      ]
     },
     "execution_count": 1,
     "metadata": {},
     "output_type": "execute_result"
    }
   ],
   "source": [
    "a=10\n",
    "a=20\n",
    "a='abcd'\n",
    "a"
   ]
  },
  {
   "cell_type": "code",
   "execution_count": 3,
   "metadata": {},
   "outputs": [
    {
     "name": "stdout",
     "output_type": "stream",
     "text": [
      "<class 'str'>\n"
     ]
    }
   ],
   "source": [
    "print(type(a))"
   ]
  },
  {
   "cell_type": "code",
   "execution_count": null,
   "metadata": {},
   "outputs": [],
   "source": []
  },
  {
   "cell_type": "code",
   "execution_count": null,
   "metadata": {},
   "outputs": [],
   "source": []
  },
  {
   "cell_type": "code",
   "execution_count": null,
   "metadata": {},
   "outputs": [],
   "source": []
  },
  {
   "cell_type": "code",
   "execution_count": null,
   "metadata": {},
   "outputs": [],
   "source": []
  },
  {
   "cell_type": "code",
   "execution_count": null,
   "metadata": {},
   "outputs": [],
   "source": []
  },
  {
   "cell_type": "code",
   "execution_count": null,
   "metadata": {},
   "outputs": [],
   "source": []
  },
  {
   "cell_type": "code",
   "execution_count": null,
   "metadata": {},
   "outputs": [],
   "source": [
    "\n"
   ]
  },
  {
   "cell_type": "code",
   "execution_count": null,
   "metadata": {},
   "outputs": [],
   "source": []
  },
  {
   "cell_type": "code",
   "execution_count": null,
   "metadata": {},
   "outputs": [],
   "source": []
  },
  {
   "cell_type": "code",
   "execution_count": null,
   "metadata": {},
   "outputs": [],
   "source": []
  },
  {
   "cell_type": "code",
   "execution_count": null,
   "metadata": {},
   "outputs": [],
   "source": []
  },
  {
   "cell_type": "markdown",
   "metadata": {},
   "source": [
    "# Date : 9/8/21\n",
    "# Practise Searching all problems on GeeksForGeeks\n"
   ]
  },
  {
   "cell_type": "code",
   "execution_count": 2,
   "metadata": {},
   "outputs": [
    {
     "name": "stdout",
     "output_type": "stream",
     "text": [
      "5\n",
      "2 3 4 5 6\n",
      "7\n",
      "False\n"
     ]
    }
   ],
   "source": [
    "# linear Search using class method:\n",
    "class Solution:\n",
    "    def linear_search(self,arr,ele):\n",
    "        for i in arr:\n",
    "            if i==ele:\n",
    "                return True\n",
    "        else:\n",
    "            return False\n",
    "        \n",
    "n=int(input())\n",
    "arr=[int(ele) for ele in input().split()]\n",
    "ele=int(input())\n",
    "ob=Solution()\n",
    "print(ob.linear_search(arr,ele))\n",
    "\n",
    "#O(n)TC and O(1) SC"
   ]
  },
  {
   "cell_type": "code",
   "execution_count": 4,
   "metadata": {},
   "outputs": [
    {
     "name": "stdout",
     "output_type": "stream",
     "text": [
      "5\n",
      "2 3 5 6 7\n",
      "7\n",
      "4\n"
     ]
    }
   ],
   "source": [
    "# find index of ele using linear search:\n",
    "def linear_search_index(arr,ele):\n",
    "    for i in range(len(arr)):\n",
    "        if arr[i]==ele:\n",
    "            return i\n",
    "    return -1\n",
    "\n",
    "n=int(input())\n",
    "arr=[int(ele) for ele in input().split()]\n",
    "ele=int(input())\n",
    "print(linear_search_index(arr,ele))"
   ]
  },
  {
   "cell_type": "code",
   "execution_count": 6,
   "metadata": {},
   "outputs": [
    {
     "name": "stdout",
     "output_type": "stream",
     "text": [
      "5\n",
      "1 2 3 4 5 \n",
      "6\n",
      "-1\n"
     ]
    }
   ],
   "source": [
    "# if we are already given a sorted array then we might need not to run it for the whole array :\n",
    "def ordered_linear_search(arr,ele):\n",
    "    for i in range(len(arr)):\n",
    "        if arr[i]==ele:\n",
    "            return i\n",
    "        if arr[i]>ele: # means agr idhr tak na mila ele toh aage toh milega hei nhi because yeh sorted hai phle se \n",
    "            \n",
    "            return -1\n",
    "    return -1\n",
    "\n",
    "n=int(input())\n",
    "arr=[int(ele) for ele in input().split()]\n",
    "ele=int(input())\n",
    "print(ordered_linear_search(arr,ele))# TC O(n)---> worst case"
   ]
  },
  {
   "cell_type": "code",
   "execution_count": 11,
   "metadata": {},
   "outputs": [
    {
     "name": "stdout",
     "output_type": "stream",
     "text": [
      "5\n",
      "1 2 3 4 5\n",
      "6\n",
      "-1\n"
     ]
    }
   ],
   "source": [
    "# biary search\n",
    "class Solution :\n",
    "    def binary_search(self,arr,ele):\n",
    "        start=0\n",
    "        end=len(arr)-1\n",
    "        mid=(start+end)//2\n",
    "        while start<=end:\n",
    "            if arr[mid]==ele:\n",
    "                return 1\n",
    "            elif arr[mid]>ele:\n",
    "                end = mid-1\n",
    "                mid=(start+end)//2\n",
    "            \n",
    "            else:\n",
    "                start=mid+1\n",
    "                mid=(start+end)//2\n",
    "                \n",
    "        return -1\n",
    "    \n",
    "n=int(input())\n",
    "arr=[int(ele) for ele in input().split()]\n",
    "ele=int(input())\n",
    "ob=Solution()\n",
    "print(ob.binary_search(arr,ele))\n",
    "\n",
    "# TC O(n) and SC O(n)"
   ]
  },
  {
   "cell_type": "code",
   "execution_count": 15,
   "metadata": {},
   "outputs": [
    {
     "name": "stdout",
     "output_type": "stream",
     "text": [
      "5\n",
      "1 3 4 5 6\n",
      "7\n",
      "-1\n"
     ]
    }
   ],
   "source": [
    "#binary_search_optimal:\n",
    "def binary_search_opt(arr,ele):\n",
    "    start=0\n",
    "    end=len(arr)-1\n",
    "    while start<=end:\n",
    "        mid=(start+end)//2\n",
    "        if arr[mid]==ele:\n",
    "            return 1\n",
    "        elif arr[mid]>ele:\n",
    "            end=mid-1\n",
    "        else:\n",
    "            start=mid+1\n",
    "    return -1\n",
    "\n",
    "n=int(input())\n",
    "arr=[int(ele) for ele in input().split()]\n",
    "ele=int(input())\n",
    "print(binary_search_opt(arr,ele))\n",
    "    "
   ]
  },
  {
   "cell_type": "code",
   "execution_count": 18,
   "metadata": {},
   "outputs": [
    {
     "name": "stdout",
     "output_type": "stream",
     "text": [
      "1 24 5\n"
     ]
    }
   ],
   "source": [
    "arr=list(map(int,input().split()))"
   ]
  },
  {
   "cell_type": "code",
   "execution_count": 19,
   "metadata": {},
   "outputs": [
    {
     "data": {
      "text/plain": [
       "[1, 24, 5]"
      ]
     },
     "execution_count": 19,
     "metadata": {},
     "output_type": "execute_result"
    }
   ],
   "source": [
    "arr"
   ]
  },
  {
   "cell_type": "code",
   "execution_count": 23,
   "metadata": {},
   "outputs": [
    {
     "name": "stdout",
     "output_type": "stream",
     "text": [
      "1 1 1\n",
      "1 0 0\n",
      "1 1 0\n"
     ]
    }
   ],
   "source": [
    "a=[[int(ele) for ele in input().split()]for i in range(3)]"
   ]
  },
  {
   "cell_type": "code",
   "execution_count": 24,
   "metadata": {},
   "outputs": [
    {
     "data": {
      "text/plain": [
       "[[1, 1, 1], [1, 0, 0], [1, 1, 0]]"
      ]
     },
     "execution_count": 24,
     "metadata": {},
     "output_type": "execute_result"
    }
   ],
   "source": [
    "a"
   ]
  },
  {
   "cell_type": "code",
   "execution_count": 25,
   "metadata": {},
   "outputs": [
    {
     "name": "stdout",
     "output_type": "stream",
     "text": [
      "1\n",
      "1\n",
      "1\n",
      "1\n",
      "1\n",
      "1\n"
     ]
    }
   ],
   "source": [
    "for i in range(3):\n",
    "    for j in range(3):\n",
    "        if a[i][j]==0:\n",
    "            break\n",
    "        else:\n",
    "            print(a[i][j])"
   ]
  },
  {
   "cell_type": "markdown",
   "metadata": {},
   "source": [
    "# revision all the searching and sorting algo 18/3/22"
   ]
  },
  {
   "cell_type": "code",
   "execution_count": 3,
   "metadata": {},
   "outputs": [
    {
     "name": "stdout",
     "output_type": "stream",
     "text": [
      " Not able to found the element.\n"
     ]
    }
   ],
   "source": [
    "# linear search:\n",
    "def linear_search(arr,ele):\n",
    "    for i in arr:\n",
    "        if i ==ele:\n",
    "            return 'Element Found in the array.'\n",
    "    return \" Not able to found the element.\"\n",
    "\n",
    "arr=list(map(int,input().split()))\n",
    "ele=int(input())\n",
    "print(linear_search(arr,ele))"
   ]
  },
  {
   "cell_type": "code",
   "execution_count": 10,
   "metadata": {},
   "outputs": [
    {
     "name": "stdout",
     "output_type": "stream",
     "text": [
      "Element found at position 5\n"
     ]
    }
   ],
   "source": [
    "# binary search: appicable  only for sorted array as input\n",
    "\n",
    "def binary_search(arr,ele):\n",
    "    \n",
    "    st=0\n",
    "    end=len(arr)-1\n",
    "    mid=(st+end)//2\n",
    "    while st<=end:\n",
    "        if arr[mid]==ele:\n",
    "            print('Element found at position',mid)\n",
    "            return \n",
    "        elif arr[mid]>ele:\n",
    "            end=mid-1\n",
    "            mid=(st+end)//2\n",
    "        else:\n",
    "            st=mid+1\n",
    "            mid=(st+end)//2\n",
    "    print(\"Element not found\")\n",
    "    return\n",
    "            \n",
    "arr=list(map(int,input().split()))\n",
    "ele=int(input())\n",
    "(binary_search(arr,ele))\n",
    "            \n",
    "            \n",
    "    \n",
    "    "
   ]
  },
  {
   "cell_type": "markdown",
   "metadata": {},
   "source": [
    "# searching pr book mei jo bhi problem hai unki practice:"
   ]
  },
  {
   "cell_type": "code",
   "execution_count": 15,
   "metadata": {},
   "outputs": [
    {
     "name": "stdout",
     "output_type": "stream",
     "text": [
      "Yes have duplicate elements of  1 2\n"
     ]
    }
   ],
   "source": [
    "# problem 1: --> duplicate ele\n",
    "def find_dup(arr):\n",
    "    ans=[]\n",
    "    for i in range(len(arr)):\n",
    "        for j in range(i+1,len(arr)):\n",
    "            if arr[i]==arr[j]:\n",
    "                ans.append(arr[i])\n",
    "    if len(ans)!=0:\n",
    "        print(\"Yes have duplicate elements of \",*list(set(ans)))\n",
    "    else:\n",
    "        print(\"NO duplicate.\")\n",
    "    return\n",
    "arr=list(map(int,input().split()))\n",
    "find_dup(arr)\n",
    "# O(n**2)"
   ]
  },
  {
   "cell_type": "code",
   "execution_count": 18,
   "metadata": {},
   "outputs": [
    {
     "name": "stdout",
     "output_type": "stream",
     "text": [
      "Yes have duplicate elements of  53\n"
     ]
    }
   ],
   "source": [
    "# lets optimize: ---> use sorting --->O(nlogn)\n",
    "\n",
    "def find_dup_eff(arr):\n",
    "    ans=[]\n",
    "    arr=sorted(arr)\n",
    "    for i in range(1,len(arr)):\n",
    "        if arr[i-1]==arr[i]:\n",
    "            ans.append(arr[i])\n",
    "    if len(ans)!=0:\n",
    "        print(\"Yes have duplicate elements of \",*list(set(ans)))\n",
    "    else:\n",
    "        print(\"NO duplicate.\")\n",
    "    return \n",
    "arr=list(map(int,input().split()))\n",
    "find_dup_eff(arr)"
   ]
  },
  {
   "cell_type": "code",
   "execution_count": 20,
   "metadata": {},
   "outputs": [
    {
     "name": "stdout",
     "output_type": "stream",
     "text": [
      "Yes have duplicate elements of  1 2\n"
     ]
    }
   ],
   "source": [
    "# further optimize to ---> use hashing:\n",
    "\n",
    "def find_dup_eff_2(arr):\n",
    "    ans={}\n",
    "    for i in arr:\n",
    "        if i in ans:\n",
    "            ans[i]+=1\n",
    "        else:\n",
    "            ans[i]=1\n",
    "    final_ans=[]\n",
    "    for i in ans:\n",
    "        if ans[i]>1:\n",
    "            final_ans.append(i)\n",
    "            \n",
    "    if len(final_ans)!=0:\n",
    "        print(\"Yes have duplicate elements of \",*list(set(final_ans)))\n",
    "    else:\n",
    "        print(\"NO duplicate.\")\n",
    "    return \n",
    "arr=list(map(int,input().split()))\n",
    "find_dup_eff_2(arr)\n",
    "\n",
    "# ek solun jo mere mind mei aarha hai ki aap arr ko sort karo aur chla do ek loop if arr[i]- arr[i+1]==0 aarha hai to duplicate hai isme\n"
   ]
  },
  {
   "cell_type": "code",
   "execution_count": 27,
   "metadata": {},
   "outputs": [
    {
     "data": {
      "text/plain": [
       "[1, 6]"
      ]
     },
     "execution_count": 27,
     "metadata": {},
     "output_type": "execute_result"
    }
   ],
   "source": [
    "# problem 5: find ele with maxm occurance 1st ---> brute force\n",
    "def max_count(arr):\n",
    "    count=0\n",
    "    maxm=0\n",
    "    ele=-1\n",
    "    for i in range(len(arr)):\n",
    "        count=1\n",
    "        for j in range(i+1,len(arr)):\n",
    "            if arr[i]==arr[j]:\n",
    "                count+=1\n",
    "        if count>maxm:\n",
    "            maxm=count\n",
    "            ele=arr[i]\n",
    "    return [ele,maxm]\n",
    "arr=list(map(int,input().split()))\n",
    "max_count(arr)  # O(n**2)\n",
    "        "
   ]
  },
  {
   "cell_type": "code",
   "execution_count": 50,
   "metadata": {},
   "outputs": [
    {
     "name": "stdout",
     "output_type": "stream",
     "text": [
      "[1, 2, 3, 4, 5, 6, 7, 8]\n",
      "[1, 2, 3, 4, 5, 6, 7, 8]\n",
      "1\n"
     ]
    },
    {
     "data": {
      "text/plain": [
       "[1, 1]"
      ]
     },
     "execution_count": 50,
     "metadata": {},
     "output_type": "execute_result"
    }
   ],
   "source": [
    "def max_count_eff(arr):  #---> O(nlogn)\n",
    "    arr=sorted(arr)\n",
    "    print(arr)\n",
    "    count=1\n",
    "    maxm=-1\n",
    "    maxm_ele=-1\n",
    "    for i in  range(1,len(arr)):\n",
    "        if arr[i-1]==arr[i]:\n",
    "            count+=1\n",
    "        else:\n",
    "            #print(i,count)\n",
    "            if count>maxm:\n",
    "                maxm=count\n",
    "                maxm_ele=arr[i-1]\n",
    "            count=1\n",
    "    print(count)\n",
    "    if count>maxm:\n",
    "        maxm=count\n",
    "        maxm_ele=arr[i-1]\n",
    "            \n",
    "    return [maxm_ele,maxm]\n",
    "            \n",
    "arr=list(map(int,input().split(' ')))\n",
    "print(arr)\n",
    "max_count_eff(arr)  # O(n**2)\n",
    "    \n",
    "    "
   ]
  },
  {
   "cell_type": "code",
   "execution_count": 52,
   "metadata": {},
   "outputs": [
    {
     "name": "stdout",
     "output_type": "stream",
     "text": [
      "[1, 2, 3, 4, 5, 6, 7, 8, 1, 1, 1, 1, 1]\n"
     ]
    },
    {
     "data": {
      "text/plain": [
       "[1, 6]"
      ]
     },
     "execution_count": 52,
     "metadata": {},
     "output_type": "execute_result"
    }
   ],
   "source": [
    "# using hashing\n",
    "\n",
    "def max_count_eff_2(arr):\n",
    "    dic={}\n",
    "    for i in arr:\n",
    "        if i in dic:\n",
    "            dic[i]+=1\n",
    "        else:\n",
    "            dic[i]=1\n",
    "            \n",
    "    max=0\n",
    "    ans=-1\n",
    "    for i in dic:\n",
    "        if dic[i]>max:\n",
    "            max=dic[i]\n",
    "            ans=i\n",
    "    return [ans,max]\n",
    "\n",
    "arr=list(map(int,input().split(',')))\n",
    "print(arr)\n",
    "max_count_eff_2(arr) "
   ]
  },
  {
   "cell_type": "code",
   "execution_count": 57,
   "metadata": {},
   "outputs": [
    {
     "name": "stdout",
     "output_type": "stream",
     "text": [
      "[1, 2, 2, 4, 1]\n"
     ]
    },
    {
     "data": {
      "text/plain": [
       "1"
      ]
     },
     "execution_count": 57,
     "metadata": {},
     "output_type": "execute_result"
    }
   ],
   "source": [
    "# problem 9 using hashing:\n",
    "\n",
    "def hashing(arr):\n",
    "    dic={}\n",
    "    for i in arr:\n",
    "        if i in dic:\n",
    "            dic[i]+=1\n",
    "            #return i\n",
    "        else:\n",
    "            dic[i]=1\n",
    "    for i in arr:\n",
    "        if dic[i]>1:\n",
    "            return i\n",
    "            \n",
    "arr=list(map(int,input().split(' ')))\n",
    "print(arr)\n",
    "hashing(arr) "
   ]
  },
  {
   "cell_type": "code",
   "execution_count": 60,
   "metadata": {},
   "outputs": [
    {
     "name": "stdout",
     "output_type": "stream",
     "text": [
      "[1, 2, 3, 4, 5, 6, 7]\n",
      "8\n"
     ]
    }
   ],
   "source": [
    "# problem 13:\n",
    "def find_missing(n,arr):\n",
    "    s=sum(arr)\n",
    "    s_upto_n=(n*(n+1))//2\n",
    "    return s_upto_n-s\n",
    "n=int(input())\n",
    "arr=list(map(int,input().split()))\n",
    "print(arr)\n",
    "print(find_missing(n,arr))"
   ]
  },
  {
   "cell_type": "code",
   "execution_count": 71,
   "metadata": {},
   "outputs": [
    {
     "name": "stdout",
     "output_type": "stream",
     "text": [
      "[8, 2, 1, 4, 6, 5, 7, 9]\n",
      "3\n"
     ]
    }
   ],
   "source": [
    "# lets say \n",
    "def find_missing_xor(arr):\n",
    "    n=len(arr)\n",
    "    X=0\n",
    "    Y=0\n",
    "    for i in range(1,n+2):\n",
    "        X=X^i\n",
    "    for i in range(0,n):\n",
    "        Y=Y^arr[i]\n",
    "    return X^Y\n",
    "arr=list(map(int,input().split()))\n",
    "print(arr)\n",
    "print(find_missing_xor(arr))\n",
    "        "
   ]
  },
  {
   "cell_type": "code",
   "execution_count": 78,
   "metadata": {},
   "outputs": [
    {
     "data": {
      "text/plain": [
       "3"
      ]
     },
     "execution_count": 78,
     "metadata": {},
     "output_type": "execute_result"
    }
   ],
   "source": [
    "1^2^2^1^3^3^3\n"
   ]
  },
  {
   "cell_type": "code",
   "execution_count": 79,
   "metadata": {},
   "outputs": [
    {
     "name": "stdout",
     "output_type": "stream",
     "text": [
      "[2, 3]\n"
     ]
    }
   ],
   "source": [
    "# problem 19:\n",
    "def two_repeating(arr):\n",
    "    arr.sort()\n",
    "    ans=[]\n",
    "    for i in range(len(arr)-1):\n",
    "        if arr[i]==arr[i+1]:\n",
    "            ans.append(arr[i])\n",
    "    return ans\n",
    "\n",
    "arr=list(map(int,input().split()))\n",
    "print(two_repeating(arr))"
   ]
  },
  {
   "cell_type": "code",
   "execution_count": 82,
   "metadata": {},
   "outputs": [
    {
     "name": "stdout",
     "output_type": "stream",
     "text": [
      "[2, 3]\n"
     ]
    }
   ],
   "source": [
    "def two_repeating_hash(arr):\n",
    "    dic={}\n",
    "    for i in arr:\n",
    "        if i in dic:\n",
    "            dic[i]+=1\n",
    "        else:\n",
    "            dic[i]=1\n",
    "    ans=[]\n",
    "    for i in dic:\n",
    "        if dic[i]>1:\n",
    "            ans.append(i)\n",
    "    return ans\n",
    "arr=list(map(int,input().split()))\n",
    "print(two_repeating_hash(arr))"
   ]
  },
  {
   "cell_type": "code",
   "execution_count": 86,
   "metadata": {},
   "outputs": [
    {
     "name": "stdout",
     "output_type": "stream",
     "text": [
      "[(-13.9974485145863, -0.00255148541372158), (-0.00255148541372158, -13.9974485145863)]\n"
     ]
    },
    {
     "name": "stderr",
     "output_type": "stream",
     "text": [
      "/var/folders/9k/hwvxv5h918d04z4jvndsxz400000gn/T/ipykernel_72811/413781361.py:17: SymPyDeprecationWarning: \n",
      "\n",
      "Eq(expr) with a single argument with the right-hand side\n",
      "defaulting to 0 is deprecated. Use Eq(expr, 0) instead.\n",
      "\n",
      "See https://docs.sympy.org/latest/explanation/active-deprecations.html#deprecated-eq-expr\n",
      "for details.\n",
      "\n",
      "This has been deprecated since SymPy version 1.5. It\n",
      "will be removed in a future version of SymPy.\n",
      "\n",
      "  eq1 = Eq(x + y - (s-n*(n+1)//2))\n"
     ]
    }
   ],
   "source": [
    "# their is one another way to find these two repeating element using maths eqn :: X+Y=S-n*(n+1)//2 and XY=Prdt(1_to_n)/n!\n",
    "from sympy import symbols, Eq, solve\n",
    "def fact(n):\n",
    "    if n==1 or n==0:\n",
    "        return 1\n",
    "    return n*fact(n-1)\n",
    "\n",
    "    \n",
    "\n",
    "def two_repeating_ele(arr):\n",
    "    s=sum(arr)\n",
    "    p=1\n",
    "    for i in arr:\n",
    "        p*=i\n",
    "        \n",
    "    x, y = symbols('x y')\n",
    "    eq1 = Eq(x + y - (s-n*(n+1)//2))\n",
    "    eq2 = Eq(x*y-p/fact(n))\n",
    "    ans=solve((eq1,eq2), (x, y))\n",
    "    return ans\n",
    "arr=list(map(int,input().split()))\n",
    "print(two_repeating_ele(arr))\n",
    "    \n",
    "# ek bar eqn solve karne ka dekhna pdega\n",
    "\n",
    "    "
   ]
  },
  {
   "cell_type": "code",
   "execution_count": 90,
   "metadata": {},
   "outputs": [
    {
     "name": "stdout",
     "output_type": "stream",
     "text": [
      "[[5, 8], [6, 7]]\n"
     ]
    }
   ],
   "source": [
    "# problem 25:\n",
    "\n",
    "def two_ele_with_sum_k(arr,k):\n",
    "    ans=[]\n",
    "    for i in range(len(arr)):\n",
    "        for j in range(i+1,len(arr)):\n",
    "            if arr[i]+arr[j]==k:\n",
    "                ans.append([arr[i],arr[j]])\n",
    "                \n",
    "    return ans\n",
    "\n",
    "arr=list(map(int,input().split()))\n",
    "k=int(input())\n",
    "print(two_ele_with_sum_k(arr,k))   # o(n**2)"
   ]
  },
  {
   "cell_type": "code",
   "execution_count": 95,
   "metadata": {},
   "outputs": [
    {
     "name": "stdout",
     "output_type": "stream",
     "text": [
      "[[5, 8], [6, 7]]\n"
     ]
    }
   ],
   "source": [
    "# lets use two pointer algo but to use that we have to make the array sorted first \n",
    "def two_ele_with_sum_k_sorted(arr,k):\n",
    "    arr.sort()\n",
    "    s=0\n",
    "    e=len(arr)-1\n",
    "    ans=[]\n",
    "    while s<=e:\n",
    "        if arr[s]+arr[e]==k:\n",
    "            ans.append([arr[s],arr[e]])\n",
    "            s+=1\n",
    "            e-=1\n",
    "        elif arr[s]+arr[e]>k:\n",
    "            e-=1\n",
    "        else:\n",
    "            s+=1\n",
    "\n",
    "            \n",
    "    return ans\n",
    "arr=list(map(int,input().split()))\n",
    "k=int(input())\n",
    "print(two_ele_with_sum_k_sorted(arr,k))  # O(nlog(n))\n"
   ]
  },
  {
   "cell_type": "code",
   "execution_count": 102,
   "metadata": {},
   "outputs": [
    {
     "name": "stdout",
     "output_type": "stream",
     "text": [
      "1\n"
     ]
    }
   ],
   "source": [
    "# problem find if their is three element such that --> aa[i]**2 +arr[j]**2 =arr[k]**2\n",
    "\n",
    "def prob_29(arr):\n",
    "    for i in range(len(arr)):\n",
    "        k=arr[i]*arr[i]\n",
    "        s=0\n",
    "        e=i\n",
    "        while s<=e:\n",
    "            if (arr[s]*arr[s])+(arr[e]*arr[e])==k:\n",
    "                return 1\n",
    "            elif (arr[s]*arr[s])+(arr[e]*arr[e])>k:\n",
    "                e-=1\n",
    "            else:\n",
    "                s+=1\n",
    "        \n",
    "            \n",
    "    return 0\n",
    "arr=list(map(int,input().split()))\n",
    "#k=int(input())\n",
    "print(prob_29(arr))\n",
    "        "
   ]
  },
  {
   "cell_type": "code",
   "execution_count": null,
   "metadata": {},
   "outputs": [],
   "source": [
    "# prob 30:\n",
    "def two_ele_close_to_zero(arr):\n",
    "    maxm=float('inf')\n",
    "    for i in range(len(arr)):\n",
    "        for j in range(i+1,len(arr)):\n",
    "            s_ele=arr[i]+arr[j]\n",
    "                "
   ]
  }
 ],
 "metadata": {
  "kernelspec": {
   "display_name": "Python 3",
   "language": "python",
   "name": "python3"
  },
  "language_info": {
   "codemirror_mode": {
    "name": "ipython",
    "version": 3
   },
   "file_extension": ".py",
   "mimetype": "text/x-python",
   "name": "python",
   "nbconvert_exporter": "python",
   "pygments_lexer": "ipython3",
   "version": "3.9.10"
  },
  "metadata": {
   "interpreter": {
    "hash": "aee8b7b246df8f9039afb4144a1f6fd8d2ca17a180786b69acc140d282b71a49"
   }
  }
 },
 "nbformat": 4,
 "nbformat_minor": 4
}
