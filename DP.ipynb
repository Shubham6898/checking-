{
 "cells": [
  {
   "cell_type": "code",
   "execution_count": 1,
   "metadata": {},
   "outputs": [
    {
     "name": "stdout",
     "output_type": "stream",
     "text": [
      "120\n"
     ]
    }
   ],
   "source": [
    "#fact\n",
    "def fact(n):\n",
    "    if n==1 or n==0:\n",
    "        return 1\n",
    "    return n*fact(n-1)\n",
    "\n",
    "print(fact(5))"
   ]
  },
  {
   "cell_type": "code",
   "execution_count": 9,
   "metadata": {},
   "outputs": [
    {
     "name": "stdout",
     "output_type": "stream",
     "text": [
      "13\n"
     ]
    }
   ],
   "source": [
    "## fib: ---> without dp\n",
    "def fib(n):\n",
    "    if n==0 or n==1:\n",
    "        return n\n",
    "    ans1=fib(n-1)\n",
    "    ans2=fib(n-2)\n",
    "    return ans1+ans2\n",
    "print(fib_2(7))"
   ]
  },
  {
   "cell_type": "code",
   "execution_count": 12,
   "metadata": {},
   "outputs": [
    {
     "name": "stdout",
     "output_type": "stream",
     "text": [
      "13\n"
     ]
    }
   ],
   "source": [
    "# fib: ---> with dp:\n",
    "def fib_dp(n,dp):\n",
    "    if n==0 or n==1:\n",
    "        return n\n",
    "    if dp[n-1]==-1:\n",
    "        ans1=fib_dp(n-1,dp)\n",
    "        dp[n-1]=ans1\n",
    "    else:\n",
    "        ans1=dp[n-1]\n",
    "    if dp[n-2]==-1:\n",
    "        ans2=fib_dp(n-2,dp)\n",
    "        dp[n-2]=ans2\n",
    "    else:\n",
    "        ans2=dp[n-2]\n",
    "    return ans1+ans2\n",
    "\n",
    "n=int(input())\n",
    "dp=[-1 for i in range(n+1)]\n",
    "print(fib_dp(n,dp))    "
   ]
  },
  {
   "cell_type": "code",
   "execution_count": 18,
   "metadata": {},
   "outputs": [
    {
     "name": "stdout",
     "output_type": "stream",
     "text": [
      "[0, 1, 1, 2, 3, 5, 8, 13]\n",
      "13\n"
     ]
    }
   ],
   "source": [
    "#fib_dp_2\n",
    "\n",
    "def fib_dp_2(n):\n",
    "    dp=[-1 for i in range(n+1)]\n",
    "    dp[0]=0\n",
    "    dp[1]=1\n",
    "    \n",
    "    for i in range(2,n+1):\n",
    "        dp[i]=dp[i-1]+dp[i-2]\n",
    "        #print(dp)\n",
    "    print(dp)\n",
    "    return dp[n]\n",
    "\n",
    "print(fib_dp_2(7))"
   ]
  },
  {
   "cell_type": "code",
   "execution_count": 19,
   "metadata": {},
   "outputs": [
    {
     "name": "stdout",
     "output_type": "stream",
     "text": [
      "3\n"
     ]
    }
   ],
   "source": [
    "#min step:\n",
    "import sys\n",
    "def min_step(n):\n",
    "    if n==1:\n",
    "        return 0\n",
    "    ans1=min_step(n-1)\n",
    "    ans2=sys.maxsize\n",
    "    if n%2==0:\n",
    "        ans2=min_step(n//2)\n",
    "    ans3=sys.maxsize\n",
    "    if n%3==0:\n",
    "        ans3=min_step(n//3)\n",
    "    return 1+min(ans1,ans2,ans3)\n",
    "\n",
    "print(min_step(10))"
   ]
  },
  {
   "cell_type": "code",
   "execution_count": 20,
   "metadata": {},
   "outputs": [
    {
     "name": "stdout",
     "output_type": "stream",
     "text": [
      "4\n"
     ]
    }
   ],
   "source": [
    "def lis(arr):\n",
    "    ans=-1\n",
    "    for i in range(len(arr)):\n",
    "        c=1\n",
    "        for j in range(i+1,len(arr)):\n",
    "            if arr[i]<arr[j]:\n",
    "                c+=1\n",
    "        ans=max(ans,c)\n",
    "    return ans \n",
    "\n",
    "arr=list(map(int,input().split()))\n",
    "print(lis(arr))"
   ]
  },
  {
   "cell_type": "code",
   "execution_count": 23,
   "metadata": {},
   "outputs": [
    {
     "name": "stdout",
     "output_type": "stream",
     "text": [
      "(3, 4)\n"
     ]
    }
   ],
   "source": [
    "def lis_helper(arr,i,n):\n",
    "    if  i==n:\n",
    "        return 0,0\n",
    "    inc_max=1\n",
    "    for j in range(i+1,n):\n",
    "        if arr[j]>=arr[i]:\n",
    "            fur_inc_max=lis_helper(arr,j,n)[0]\n",
    "            inc_max=max(inc_max,fur_inc_max)\n",
    "    exc_max=lis_helper(arr,i+1,n)[1]\n",
    "    overall_max=max(inc_max,exc_max)\n",
    "    return inc_max,overall_max\n",
    "            \n",
    "def lis_rec(arr,n):\n",
    "    if len(arr)==1:\n",
    "        return 1\n",
    "    \n",
    "    return lis_helper(arr,0,n)\n",
    "\n",
    "n=int(input())\n",
    "arr=list(map(int,input().split()))\n",
    "print(lis_rec(arr,n))"
   ]
  },
  {
   "cell_type": "code",
   "execution_count": 24,
   "metadata": {},
   "outputs": [
    {
     "name": "stdout",
     "output_type": "stream",
     "text": [
      "4\n"
     ]
    }
   ],
   "source": [
    "def lcs(s1,s2,i,j):\n",
    "    if i==len(s1) or j==len(s2):\n",
    "        return 0\n",
    "    if s1[i]==s2[j]:\n",
    "        ans=1+lcs(s1,s2,i+1,j+1)\n",
    "    else:\n",
    "        ans1=lcs(s1,s2,i+1,j)\n",
    "        ans2=lcs(s1,s2,i,j+1)\n",
    "        ans=max(ans1,ans2)\n",
    "    return ans\n",
    "\n",
    "s1=input()\n",
    "s2=input()\n",
    "print(lcs(s1,s2,0,0))"
   ]
  },
  {
   "cell_type": "code",
   "execution_count": 43,
   "metadata": {},
   "outputs": [
    {
     "name": "stdout",
     "output_type": "stream",
     "text": [
      "['CARS', 'ARCS', 'SCAR']\n",
      "['REPAID', 'PAIRED']\n",
      "['DUES', 'USED', 'SUED']\n",
      "['NOSE', 'ONES']\n",
      "['SIGNED', 'DESIGN']\n",
      "['LANE', 'LEAN']\n",
      "['GRAB', 'BRAG']\n"
     ]
    }
   ],
   "source": [
    "def groupAnagrams(words):\n",
    "    # a list to store anagrams\n",
    "    anagrams = []\n",
    " \n",
    "    # base case\n",
    "    if not words:\n",
    "        return anagrams\n",
    " \n",
    "    # sort each word on the list\n",
    "    nums = [''.join(sorted(word)) for word in words]\n",
    " \n",
    "    # construct a dictionary where the key is each sorted word,\n",
    "    # and value is a list of indices where it is present\n",
    "    '''d = {}\n",
    "    for i, e in enumerate(nums):\n",
    "        d.setdefault(e, []).append(i)'''\n",
    "    d={}\n",
    "    for i in range(len(nums)):\n",
    "        if nums[i] in d:\n",
    "            d[nums[i]].append(i)\n",
    "        else:\n",
    "            d[nums[i]]=[i]\n",
    "    \n",
    " \n",
    "    # traverse the dictionary and read indices for each sorted key.\n",
    "    # The anagrams are present in the actual list at those indices\n",
    "    '''for index in d.values():\n",
    "        collection = tuple(words[i] for i in index)\n",
    "        if len(collection) > 1:\n",
    "            anagrams.append(collection)'''\n",
    "    for i in d.values():\n",
    "        ans=[]\n",
    "        for j in i:\n",
    "            ans.append(words[j])\n",
    "        anagrams.append(ans)\n",
    " \n",
    "    return anagrams\n",
    " \n",
    " \n",
    "if __name__ == '__main__':\n",
    "    # a list of words\n",
    "    words = ['CARS', 'REPAID', 'DUES', 'NOSE', 'SIGNED', 'LANE', 'PAIRED', 'ARCS',\n",
    "             'GRAB', 'USED', 'ONES', 'BRAG', 'SUED', 'LEAN', 'SCAR', 'DESIGN']\n",
    " \n",
    "    anagrams = groupAnagrams(words)\n",
    "    for anagram in anagrams:\n",
    "        print(anagram)"
   ]
  },
  {
   "cell_type": "code",
   "execution_count": 52,
   "metadata": {},
   "outputs": [
    {
     "name": "stdout",
     "output_type": "stream",
     "text": [
      "defaultdict(<class 'list'>, {})\n",
      "defaultdict(<class 'list'>, {'act': ['cat', 'tac', 'act'], 'dgo': ['dog', 'god']})\n",
      "cat tac act\n",
      "dog god\n"
     ]
    }
   ],
   "source": [
    "from collections import defaultdict\n",
    "\n",
    "def printAnagramsTogether(words):\n",
    "    groupedWords = defaultdict(list)\n",
    "    print(groupedWords)\n",
    "    for word in words:\n",
    "        groupedWords[\"\".join(sorted(word))].append(word)\n",
    "        # Print all anagrams together\n",
    "    print(groupedWords)\n",
    "    for group in groupedWords.values():\n",
    "        print(\" \".join(group))\n",
    "\n",
    "\n",
    "if __name__ == \"__main__\":\n",
    "\tarr = [\"cat\", \"dog\", \"tac\", \"god\", \"act\"]\n",
    "\tprintAnagramsTogether(arr)\n"
   ]
  },
  {
   "cell_type": "code",
   "execution_count": null,
   "metadata": {},
   "outputs": [],
   "source": []
  }
 ],
 "metadata": {
  "interpreter": {
   "hash": "aee8b7b246df8f9039afb4144a1f6fd8d2ca17a180786b69acc140d282b71a49"
  },
  "kernelspec": {
   "display_name": "Python 3.9.10 64-bit",
   "language": "python",
   "name": "python3"
  },
  "language_info": {
   "codemirror_mode": {
    "name": "ipython",
    "version": 3
   },
   "file_extension": ".py",
   "mimetype": "text/x-python",
   "name": "python",
   "nbconvert_exporter": "python",
   "pygments_lexer": "ipython3",
   "version": "3.9.10"
  },
  "orig_nbformat": 4
 },
 "nbformat": 4,
 "nbformat_minor": 2
}
