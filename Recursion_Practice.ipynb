{
 "cells": [
  {
   "cell_type": "code",
   "execution_count": 1,
   "id": "a421dfec",
   "metadata": {},
   "outputs": [
    {
     "name": "stdout",
     "output_type": "stream",
     "text": [
      "120\n"
     ]
    }
   ],
   "source": [
    "# factorial using recursion:\n",
    "\n",
    "\n",
    "def fact(n):\n",
    "    if n==1 or n==0:\n",
    "        return 1\n",
    "    return fact(n-1)*n\n",
    "\n",
    "print(fact(5))\n",
    "    "
   ]
  },
  {
   "cell_type": "code",
   "execution_count": 3,
   "id": "3443bec1",
   "metadata": {},
   "outputs": [
    {
     "name": "stdout",
     "output_type": "stream",
     "text": [
      "120\n"
     ]
    }
   ],
   "source": [
    "# factorial using itteration:\n",
    "\n",
    "\n",
    "def factorial(n):\n",
    "    ans=1\n",
    "    while n>=1:\n",
    "        ans=ans*n\n",
    "        n-=1\n",
    "    return ans\n",
    "\n",
    "print(factorial(5))"
   ]
  },
  {
   "cell_type": "code",
   "execution_count": 4,
   "id": "a5a8a8b3",
   "metadata": {},
   "outputs": [
    {
     "name": "stdout",
     "output_type": "stream",
     "text": [
      "15\n"
     ]
    }
   ],
   "source": [
    "# sum of n natural number itt:\n",
    "def sum_no(n):\n",
    "    s=0\n",
    "    while n>0:\n",
    "         s+=n\n",
    "         n-=1\n",
    "    return s\n",
    "\n",
    "\n",
    "print(sum_no(5))\n",
    "        "
   ]
  },
  {
   "cell_type": "code",
   "execution_count": 5,
   "id": "348f42bc",
   "metadata": {},
   "outputs": [
    {
     "name": "stdout",
     "output_type": "stream",
     "text": [
      "15\n"
     ]
    }
   ],
   "source": [
    "# recursive solution:\n",
    "\n",
    "\n",
    "def sum_rec(n):\n",
    "    if n==1:\n",
    "        return 1\n",
    "    if n==0:\n",
    "        return 0\n",
    "    return sum_rec(n-1)+n\n",
    "\n",
    "print(sum_rec(5))"
   ]
  },
  {
   "cell_type": "code",
   "execution_count": 6,
   "id": "7253ee36",
   "metadata": {},
   "outputs": [
    {
     "name": "stdout",
     "output_type": "stream",
     "text": [
      "1 2 3 4 5 "
     ]
    }
   ],
   "source": [
    "# print 1 to n itt:\n",
    "def natural(n):\n",
    "    for i in range(1,n+1):\n",
    "        print(i,end=\" \")\n",
    "natural(5)"
   ]
  },
  {
   "cell_type": "code",
   "execution_count": 14,
   "id": "664c35fa",
   "metadata": {},
   "outputs": [
    {
     "name": "stdout",
     "output_type": "stream",
     "text": [
      "1 2 3 4 5 "
     ]
    }
   ],
   "source": [
    "# rec:\n",
    "def natural_rec(n):\n",
    "    if n==0:\n",
    "        return\n",
    "    natural_rec(n-1)\n",
    "    print(n,end=\" \")\n",
    "(natural_rec(5))"
   ]
  },
  {
   "cell_type": "code",
   "execution_count": 19,
   "id": "97a6699c",
   "metadata": {},
   "outputs": [
    {
     "name": "stdout",
     "output_type": "stream",
     "text": [
      "5 4 3 2 1 "
     ]
    }
   ],
   "source": [
    "# print n to 1:\n",
    "def natural_rec_rev(n):\n",
    "    if n==0:\n",
    "        return \n",
    "    print(n,end=\" \")\n",
    "    natural_rec_rev(n-1)\n",
    "natural_rec_rev(5)"
   ]
  },
  {
   "cell_type": "code",
   "execution_count": 21,
   "id": "59e10525",
   "metadata": {},
   "outputs": [
    {
     "name": "stdout",
     "output_type": "stream",
     "text": [
      "2\n"
     ]
    }
   ],
   "source": [
    "# fibonacci number itt:  using 0th indexing and fib series start from : 0 1 1 2  3 5 8 ......\n",
    "def fib(n):\n",
    "    t1=0\n",
    "    t2=1\n",
    "    while n>0:\n",
    "        t3=t1+t2\n",
    "        t1=t2\n",
    "        t2=t3\n",
    "        n-=1\n",
    "    return t1\n",
    "print(fib(3))"
   ]
  },
  {
   "cell_type": "code",
   "execution_count": 24,
   "id": "5adec676",
   "metadata": {},
   "outputs": [
    {
     "name": "stdout",
     "output_type": "stream",
     "text": [
      "1\n"
     ]
    }
   ],
   "source": [
    "# fibonacci number itt:  using 1st indexing and fib series start from : 0 1 1 2  3 5 8 ......\n",
    "def fib(n):\n",
    "    t1=0\n",
    "    t2=1\n",
    "    while n>1:\n",
    "        t3=t1+t2\n",
    "        t1=t2\n",
    "        t2=t3\n",
    "        n-=1\n",
    "    return t1\n",
    "print(fib(3))"
   ]
  },
  {
   "cell_type": "code",
   "execution_count": 26,
   "id": "cf916caa",
   "metadata": {},
   "outputs": [
    {
     "name": "stdout",
     "output_type": "stream",
     "text": [
      "3\n"
     ]
    }
   ],
   "source": [
    "# fib rec and fib series start from : 0 1 1 2  3 5 8 ...... 0th indexing\n",
    "\n",
    "def fib_rec(n):\n",
    "    if n==0:\n",
    "        return 0\n",
    "    if n==1:\n",
    "        return 1\n",
    "    \n",
    "    return fib_rec(n-1)+fib_rec(n-2)\n",
    "\n",
    "print(fib_rec(4))"
   ]
  },
  {
   "cell_type": "code",
   "execution_count": 29,
   "id": "201d8e2b",
   "metadata": {},
   "outputs": [
    {
     "name": "stdout",
     "output_type": "stream",
     "text": [
      "1 2 3 4 5 5 5 \n",
      "True\n"
     ]
    }
   ],
   "source": [
    "# check if list is sorted or not:\n",
    "def sorted_check(arr):\n",
    "    if len(arr)==1 or len(arr)==0:\n",
    "        return True\n",
    "    \n",
    "    if arr[0]>arr[1]:\n",
    "        return False\n",
    "    small_list=arr[1:]\n",
    "    ans=sorted_check(small_list)\n",
    "    return ans \n",
    "\n",
    "arr=list(map(int,input().split()))\n",
    "\n",
    "print(sorted_check(arr))"
   ]
  },
  {
   "cell_type": "code",
   "execution_count": 33,
   "id": "3c2bff2d",
   "metadata": {},
   "outputs": [
    {
     "name": "stdout",
     "output_type": "stream",
     "text": [
      "1 2 3 4 5 6 7\n",
      "True\n"
     ]
    }
   ],
   "source": [
    "# itterative solu:\n",
    "\n",
    "def sorted_check_itt(arr):\n",
    "    for i in range(len(arr)-1):\n",
    "        if arr[i]>arr[i+1]:\n",
    "            return False\n",
    "    return True\n",
    "\n",
    "\n",
    "arr=list(map(int,input().split()))\n",
    "print(sorted_check_itt(arr))"
   ]
  },
  {
   "cell_type": "code",
   "execution_count": 40,
   "id": "ac7cee30",
   "metadata": {},
   "outputs": [
    {
     "name": "stdout",
     "output_type": "stream",
     "text": [
      "1 2 3 4 5 6 7 7 7 \n",
      "True\n"
     ]
    }
   ],
   "source": [
    "# recursive solution of sorted list but without copying into small_list  iske liye aapko starting index dena pdega:\n",
    "\n",
    "\n",
    "def sort_list(arr,st_index):\n",
    "    if st_index==len(arr) or st_index==len(arr)-1:\n",
    "        return True\n",
    "    if arr[st_index]>arr[st_index+1]:\n",
    "        return False\n",
    "    return sort_list(arr,st_index+1)\n",
    "arr=list(map(int,input().split()))\n",
    "print(sort_list(arr,0))\n",
    "        "
   ]
  },
  {
   "cell_type": "code",
   "execution_count": 41,
   "id": "24118f70",
   "metadata": {},
   "outputs": [
    {
     "name": "stdout",
     "output_type": "stream",
     "text": [
      "1 2 3 34  5 6 3\n",
      "3\n",
      "2\n"
     ]
    }
   ],
   "source": [
    "# first index of number x in list:\n",
    "def check_index(arr,x):\n",
    "    if len(arr)==0:\n",
    "        return -1\n",
    "    if arr[0]==x:\n",
    "        return 0\n",
    "    ans=check_index(arr[1:],x)\n",
    "    if ans==-1:\n",
    "        return -1\n",
    "    return ans+1\n",
    "arr=list(map(int,input().split()))\n",
    "x=int(input())\n",
    "print(check_index(arr,x))"
   ]
  },
  {
   "cell_type": "code",
   "execution_count": 50,
   "id": "cc6cea52",
   "metadata": {},
   "outputs": [
    {
     "name": "stdout",
     "output_type": "stream",
     "text": [
      "1 2 3 4 34 5 6 7 3 4 77\n",
      "34\n",
      "4\n"
     ]
    }
   ],
   "source": [
    "# first index of number x in list without copying:\n",
    "\n",
    "def check_index_2(arr,x,si):\n",
    "    if si==len(arr):\n",
    "        return -1\n",
    "    if arr[si]==x:\n",
    "        return si\n",
    "    return check_index_2(arr,x,si+1)\n",
    "arr=list(map(int,input().split()))\n",
    "x=int(input())\n",
    "print(check_index_2(arr,x,0))"
   ]
  },
  {
   "cell_type": "code",
   "execution_count": 61,
   "id": "dc79f014",
   "metadata": {},
   "outputs": [
    {
     "name": "stdout",
     "output_type": "stream",
     "text": [
      "1 2 3 4 34 5 6 7 3 4 77\n",
      "44\n",
      "-1\n"
     ]
    }
   ],
   "source": [
    "# last index of number x in the list:\n",
    "\n",
    "def last_index(arr,x):\n",
    "    if len(arr)==0:\n",
    "        return -1\n",
    "    if arr[-1]==x:\n",
    "       # print(arr[-1],len(arr))\n",
    "        return len(arr)-1\n",
    "    small_arr=arr[:len(arr)-1]\n",
    "    \n",
    "    return last_index(small_arr,x)\n",
    "\n",
    "\n",
    "arr=list(map(int,input().split()))\n",
    "x=int(input())\n",
    "print(last_index(arr,x))"
   ]
  },
  {
   "cell_type": "code",
   "execution_count": 67,
   "id": "e663b8a5",
   "metadata": {},
   "outputs": [
    {
     "name": "stdout",
     "output_type": "stream",
     "text": [
      "HiThisIsShubhamSetia\n",
      "I\n",
      "t\n",
      "HiThistsShubhamSetia\n"
     ]
    }
   ],
   "source": [
    "# recursoin in strings:\n",
    "#change all the char1 with char2:\n",
    "\n",
    "\n",
    "def replace(string,c1,c2):\n",
    "    for i in string:\n",
    "        #print(i)\n",
    "        if i==c1:\n",
    "            string=string.replace(c1,c2)\n",
    "    return string\n",
    "\n",
    "string=input()\n",
    "c1=input()\n",
    "c2=input()\n",
    "print(replace(string,c1,c2))"
   ]
  },
  {
   "cell_type": "code",
   "execution_count": 73,
   "id": "31c91dce",
   "metadata": {},
   "outputs": [
    {
     "name": "stdout",
     "output_type": "stream",
     "text": [
      "HiThisIsShubhamSetia\n",
      "T\n",
      "i\n",
      "HiihisIsShubhamSetia\n"
     ]
    }
   ],
   "source": [
    "# recursively:\n",
    "\n",
    "def replace_char(string,c1,c2):\n",
    "    if len(string)==0:\n",
    "        return string\n",
    "    small_string=string[1:]\n",
    "    ans=replace_char(small_string,c1,c2)\n",
    "    if string[0]==c1:\n",
    "        return c2+ans\n",
    "        \n",
    "    else:\n",
    "        return string[0]+ans\n",
    "string=input()\n",
    "c1=input()\n",
    "c2=input()\n",
    "print(replace_char(string,c1,c2))\n",
    "            "
   ]
  },
  {
   "cell_type": "code",
   "execution_count": 69,
   "id": "6db2bb53",
   "metadata": {},
   "outputs": [
    {
     "name": "stdout",
     "output_type": "stream",
     "text": [
      "2iThisIsShubhamSetia\n"
     ]
    }
   ],
   "source": [
    "string=\"HiThisIsShubhamSetia\"\n",
    "string=string.replace(string[0],'2')\n",
    "print(string)"
   ]
  },
  {
   "cell_type": "code",
   "execution_count": 78,
   "id": "8aa67139",
   "metadata": {},
   "outputs": [
    {
     "name": "stdout",
     "output_type": "stream",
     "text": [
      "pithisispipytestinfpi\n",
      "3.14thisis3.14pytestinf3.14\n"
     ]
    }
   ],
   "source": [
    "# repalce pi by 3.14\n",
    "\n",
    "def replace_pi(string):\n",
    "    if len(string)==1 or len(string)==0:\n",
    "        return string\n",
    "    \n",
    "    if string[0]=='p' and string[1]=='i':\n",
    "        small_sting=string[2:]\n",
    "        ans=replace_pi(small_sting)\n",
    "        return '3.14'+ans\n",
    "    else:\n",
    "        small_sting=string[1:]\n",
    "        ans=replace_pi(small_sting)\n",
    "        return string[0]+ans\n",
    "string=input()\n",
    "\n",
    "print(replace_pi(string))\n",
    "    \n",
    "    \n",
    "        "
   ]
  },
  {
   "cell_type": "code",
   "execution_count": 84,
   "id": "981eb098",
   "metadata": {},
   "outputs": [
    {
     "name": "stdout",
     "output_type": "stream",
     "text": [
      "2\n"
     ]
    }
   ],
   "source": [
    "import math\n",
    "print(math.ceil(1.0001))"
   ]
  },
  {
   "cell_type": "code",
   "execution_count": 82,
   "id": "e1ab140f",
   "metadata": {},
   "outputs": [
    {
     "data": {
      "text/plain": [
       "0.2"
      ]
     },
     "execution_count": 82,
     "metadata": {},
     "output_type": "execute_result"
    }
   ],
   "source": [
    "1/5"
   ]
  },
  {
   "cell_type": "code",
   "execution_count": null,
   "id": "8abb1f16",
   "metadata": {},
   "outputs": [],
   "source": []
  }
 ],
 "metadata": {
  "kernelspec": {
   "display_name": "Python 3",
   "language": "python",
   "name": "python3"
  },
  "language_info": {
   "codemirror_mode": {
    "name": "ipython",
    "version": 3
   },
   "file_extension": ".py",
   "mimetype": "text/x-python",
   "name": "python",
   "nbconvert_exporter": "python",
   "pygments_lexer": "ipython3",
   "version": "3.8.8"
  }
 },
 "nbformat": 4,
 "nbformat_minor": 5
}
