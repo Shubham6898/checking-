{
 "cells": [
  {
   "cell_type": "code",
   "execution_count": 1,
   "id": "a421dfec",
   "metadata": {},
   "outputs": [
    {
     "name": "stdout",
     "output_type": "stream",
     "text": [
      "120\n"
     ]
    }
   ],
   "source": [
    "# factorial using recursion:\n",
    "\n",
    "\n",
    "def fact(n):\n",
    "    if n==1 or n==0:\n",
    "        return 1\n",
    "    return fact(n-1)*n\n",
    "\n",
    "print(fact(5))\n",
    "    "
   ]
  },
  {
   "cell_type": "code",
   "execution_count": 3,
   "id": "3443bec1",
   "metadata": {},
   "outputs": [
    {
     "name": "stdout",
     "output_type": "stream",
     "text": [
      "120\n"
     ]
    }
   ],
   "source": [
    "# factorial using itteration:\n",
    "\n",
    "\n",
    "def factorial(n):\n",
    "    ans=1\n",
    "    while n>=1:\n",
    "        ans=ans*n\n",
    "        n-=1\n",
    "    return ans\n",
    "\n",
    "print(factorial(5))"
   ]
  },
  {
   "cell_type": "code",
   "execution_count": 4,
   "id": "a5a8a8b3",
   "metadata": {},
   "outputs": [
    {
     "name": "stdout",
     "output_type": "stream",
     "text": [
      "15\n"
     ]
    }
   ],
   "source": [
    "# sum of n natural number itt:\n",
    "def sum_no(n):\n",
    "    s=0\n",
    "    while n>0:\n",
    "         s+=n\n",
    "         n-=1\n",
    "    return s\n",
    "\n",
    "\n",
    "print(sum_no(5))\n",
    "        "
   ]
  },
  {
   "cell_type": "code",
   "execution_count": 5,
   "id": "348f42bc",
   "metadata": {},
   "outputs": [
    {
     "name": "stdout",
     "output_type": "stream",
     "text": [
      "15\n"
     ]
    }
   ],
   "source": [
    "# recursive solution:\n",
    "\n",
    "\n",
    "def sum_rec(n):\n",
    "    if n==1:\n",
    "        return 1\n",
    "    if n==0:\n",
    "        return 0\n",
    "    return sum_rec(n-1)+n\n",
    "\n",
    "print(sum_rec(5))"
   ]
  },
  {
   "cell_type": "code",
   "execution_count": 6,
   "id": "7253ee36",
   "metadata": {},
   "outputs": [
    {
     "name": "stdout",
     "output_type": "stream",
     "text": [
      "1 2 3 4 5 "
     ]
    }
   ],
   "source": [
    "# print 1 to n itt:\n",
    "def natural(n):\n",
    "    for i in range(1,n+1):\n",
    "        print(i,end=\" \")\n",
    "natural(5)"
   ]
  },
  {
   "cell_type": "code",
   "execution_count": 14,
   "id": "664c35fa",
   "metadata": {},
   "outputs": [
    {
     "name": "stdout",
     "output_type": "stream",
     "text": [
      "1 2 3 4 5 "
     ]
    }
   ],
   "source": [
    "# rec:\n",
    "def natural_rec(n):\n",
    "    if n==0:\n",
    "        return\n",
    "    natural_rec(n-1)\n",
    "    print(n,end=\" \")\n",
    "(natural_rec(5))"
   ]
  },
  {
   "cell_type": "code",
   "execution_count": 19,
   "id": "97a6699c",
   "metadata": {},
   "outputs": [
    {
     "name": "stdout",
     "output_type": "stream",
     "text": [
      "5 4 3 2 1 "
     ]
    }
   ],
   "source": [
    "# print n to 1:\n",
    "def natural_rec_rev(n):\n",
    "    if n==0:\n",
    "        return \n",
    "    print(n,end=\" \")\n",
    "    natural_rec_rev(n-1)\n",
    "natural_rec_rev(5)"
   ]
  },
  {
   "cell_type": "code",
   "execution_count": 21,
   "id": "59e10525",
   "metadata": {},
   "outputs": [
    {
     "name": "stdout",
     "output_type": "stream",
     "text": [
      "2\n"
     ]
    }
   ],
   "source": [
    "# fibonacci number itt:  using 0th indexing and fib series start from : 0 1 1 2  3 5 8 ......\n",
    "def fib(n):\n",
    "    t1=0\n",
    "    t2=1\n",
    "    while n>0:\n",
    "        t3=t1+t2\n",
    "        t1=t2\n",
    "        t2=t3\n",
    "        n-=1\n",
    "    return t1\n",
    "print(fib(3))"
   ]
  },
  {
   "cell_type": "code",
   "execution_count": 24,
   "id": "5adec676",
   "metadata": {},
   "outputs": [
    {
     "name": "stdout",
     "output_type": "stream",
     "text": [
      "1\n"
     ]
    }
   ],
   "source": [
    "# fibonacci number itt:  using 1st indexing and fib series start from : 0 1 1 2  3 5 8 ......\n",
    "def fib(n):\n",
    "    t1=0\n",
    "    t2=1\n",
    "    while n>1:\n",
    "        t3=t1+t2\n",
    "        t1=t2\n",
    "        t2=t3\n",
    "        n-=1\n",
    "    return t1\n",
    "print(fib(3))"
   ]
  },
  {
   "cell_type": "code",
   "execution_count": 26,
   "id": "cf916caa",
   "metadata": {},
   "outputs": [
    {
     "name": "stdout",
     "output_type": "stream",
     "text": [
      "3\n"
     ]
    }
   ],
   "source": [
    "# fib rec and fib series start from : 0 1 1 2  3 5 8 ...... 0th indexing\n",
    "\n",
    "def fib_rec(n):\n",
    "    if n==0:\n",
    "        return 0\n",
    "    if n==1:\n",
    "        return 1\n",
    "    \n",
    "    return fib_rec(n-1)+fib_rec(n-2)\n",
    "\n",
    "print(fib_rec(4))"
   ]
  },
  {
   "cell_type": "code",
   "execution_count": 29,
   "id": "201d8e2b",
   "metadata": {},
   "outputs": [
    {
     "name": "stdout",
     "output_type": "stream",
     "text": [
      "1 2 3 4 5 5 5 \n",
      "True\n"
     ]
    }
   ],
   "source": [
    "# check if list is sorted or not:\n",
    "def sorted_check(arr):\n",
    "    if len(arr)==1 or len(arr)==0:\n",
    "        return True\n",
    "    \n",
    "    if arr[0]>arr[1]:\n",
    "        return False\n",
    "    small_list=arr[1:]\n",
    "    ans=sorted_check(small_list)\n",
    "    return ans \n",
    "\n",
    "arr=list(map(int,input().split()))\n",
    "\n",
    "print(sorted_check(arr))"
   ]
  },
  {
   "cell_type": "code",
   "execution_count": 33,
   "id": "3c2bff2d",
   "metadata": {},
   "outputs": [
    {
     "name": "stdout",
     "output_type": "stream",
     "text": [
      "1 2 3 4 5 6 7\n",
      "True\n"
     ]
    }
   ],
   "source": [
    "# itterative solu:\n",
    "\n",
    "def sorted_check_itt(arr):\n",
    "    for i in range(len(arr)-1):\n",
    "        if arr[i]>arr[i+1]:\n",
    "            return False\n",
    "    return True\n",
    "\n",
    "\n",
    "arr=list(map(int,input().split()))\n",
    "print(sorted_check_itt(arr))"
   ]
  },
  {
   "cell_type": "code",
   "execution_count": 40,
   "id": "ac7cee30",
   "metadata": {},
   "outputs": [
    {
     "name": "stdout",
     "output_type": "stream",
     "text": [
      "1 2 3 4 5 6 7 7 7 \n",
      "True\n"
     ]
    }
   ],
   "source": [
    "# recursive solution of sorted list but without copying into small_list  iske liye aapko starting index dena pdega:\n",
    "\n",
    "\n",
    "def sort_list(arr,st_index):\n",
    "    if st_index==len(arr) or st_index==len(arr)-1:\n",
    "        return True\n",
    "    if arr[st_index]>arr[st_index+1]:\n",
    "        return False\n",
    "    return sort_list(arr,st_index+1)\n",
    "arr=list(map(int,input().split()))\n",
    "print(sort_list(arr,0))\n",
    "        "
   ]
  },
  {
   "cell_type": "code",
   "execution_count": 41,
   "id": "24118f70",
   "metadata": {},
   "outputs": [
    {
     "name": "stdout",
     "output_type": "stream",
     "text": [
      "1 2 3 34  5 6 3\n",
      "3\n",
      "2\n"
     ]
    }
   ],
   "source": [
    "# first index of number x in list:\n",
    "def check_index(arr,x):\n",
    "    if len(arr)==0:\n",
    "        return -1\n",
    "    if arr[0]==x:\n",
    "        return 0\n",
    "    ans=check_index(arr[1:],x)\n",
    "    if ans==-1:\n",
    "        return -1\n",
    "    return ans+1\n",
    "arr=list(map(int,input().split()))\n",
    "x=int(input())\n",
    "print(check_index(arr,x))"
   ]
  },
  {
   "cell_type": "code",
   "execution_count": 50,
   "id": "cc6cea52",
   "metadata": {},
   "outputs": [
    {
     "name": "stdout",
     "output_type": "stream",
     "text": [
      "1 2 3 4 34 5 6 7 3 4 77\n",
      "34\n",
      "4\n"
     ]
    }
   ],
   "source": [
    "# first index of number x in list without copying:\n",
    "\n",
    "def check_index_2(arr,x,si):\n",
    "    if si==len(arr):\n",
    "        return -1\n",
    "    if arr[si]==x:\n",
    "        return si\n",
    "    return check_index_2(arr,x,si+1)\n",
    "arr=list(map(int,input().split()))\n",
    "x=int(input())\n",
    "print(check_index_2(arr,x,0))"
   ]
  },
  {
   "cell_type": "code",
   "execution_count": 61,
   "id": "dc79f014",
   "metadata": {},
   "outputs": [
    {
     "name": "stdout",
     "output_type": "stream",
     "text": [
      "1 2 3 4 34 5 6 7 3 4 77\n",
      "44\n",
      "-1\n"
     ]
    }
   ],
   "source": [
    "# last index of number x in the list:\n",
    "\n",
    "def last_index(arr,x):\n",
    "    if len(arr)==0:\n",
    "        return -1\n",
    "    if arr[-1]==x:\n",
    "       # print(arr[-1],len(arr))\n",
    "        return len(arr)-1\n",
    "    small_arr=arr[:len(arr)-1]\n",
    "    \n",
    "    return last_index(small_arr,x)\n",
    "\n",
    "\n",
    "arr=list(map(int,input().split()))\n",
    "x=int(input())\n",
    "print(last_index(arr,x))"
   ]
  },
  {
   "cell_type": "code",
   "execution_count": 67,
   "id": "e663b8a5",
   "metadata": {},
   "outputs": [
    {
     "name": "stdout",
     "output_type": "stream",
     "text": [
      "HiThisIsShubhamSetia\n",
      "I\n",
      "t\n",
      "HiThistsShubhamSetia\n"
     ]
    }
   ],
   "source": [
    "# recursoin in strings:\n",
    "#change all the char1 with char2:\n",
    "\n",
    "\n",
    "def replace(string,c1,c2):\n",
    "    for i in string:\n",
    "        #print(i)\n",
    "        if i==c1:\n",
    "            string=string.replace(c1,c2)\n",
    "    return string\n",
    "\n",
    "string=input()\n",
    "c1=input()\n",
    "c2=input()\n",
    "print(replace(string,c1,c2))"
   ]
  },
  {
   "cell_type": "code",
   "execution_count": 73,
   "id": "31c91dce",
   "metadata": {},
   "outputs": [
    {
     "name": "stdout",
     "output_type": "stream",
     "text": [
      "HiThisIsShubhamSetia\n",
      "T\n",
      "i\n",
      "HiihisIsShubhamSetia\n"
     ]
    }
   ],
   "source": [
    "# recursively:\n",
    "\n",
    "def replace_char(string,c1,c2):\n",
    "    if len(string)==0:\n",
    "        return string\n",
    "    small_string=string[1:]\n",
    "    ans=replace_char(small_string,c1,c2)\n",
    "    if string[0]==c1:\n",
    "        return c2+ans\n",
    "        \n",
    "    else:\n",
    "        return string[0]+ans\n",
    "string=input()\n",
    "c1=input()\n",
    "c2=input()\n",
    "print(replace_char(string,c1,c2))\n",
    "            "
   ]
  },
  {
   "cell_type": "code",
   "execution_count": 69,
   "id": "6db2bb53",
   "metadata": {},
   "outputs": [
    {
     "name": "stdout",
     "output_type": "stream",
     "text": [
      "2iThisIsShubhamSetia\n"
     ]
    }
   ],
   "source": [
    "string=\"HiThisIsShubhamSetia\"\n",
    "string=string.replace(string[0],'2')\n",
    "print(string)"
   ]
  },
  {
   "cell_type": "code",
   "execution_count": 78,
   "id": "8aa67139",
   "metadata": {},
   "outputs": [
    {
     "name": "stdout",
     "output_type": "stream",
     "text": [
      "pithisispipytestinfpi\n",
      "3.14thisis3.14pytestinf3.14\n"
     ]
    }
   ],
   "source": [
    "# repalce pi by 3.14\n",
    "\n",
    "def replace_pi(string):\n",
    "    if len(string)==1 or len(string)==0:\n",
    "        return string\n",
    "    \n",
    "    if string[0]=='p' and string[1]=='i':\n",
    "        small_sting=string[2:]\n",
    "        ans=replace_pi(small_sting)\n",
    "        return '3.14'+ans\n",
    "    else:\n",
    "        small_sting=string[1:]\n",
    "        ans=replace_pi(small_sting)\n",
    "        return string[0]+ans\n",
    "string=input()\n",
    "\n",
    "print(replace_pi(string))\n",
    "    \n",
    "    \n",
    "        "
   ]
  },
  {
   "cell_type": "code",
   "execution_count": 84,
   "id": "981eb098",
   "metadata": {},
   "outputs": [
    {
     "name": "stdout",
     "output_type": "stream",
     "text": [
      "2\n"
     ]
    }
   ],
   "source": [
    "import math\n",
    "print(math.ceil(1.0001))"
   ]
  },
  {
   "cell_type": "code",
   "execution_count": 82,
   "id": "e1ab140f",
   "metadata": {},
   "outputs": [
    {
     "data": {
      "text/plain": [
       "0.2"
      ]
     },
     "execution_count": 82,
     "metadata": {},
     "output_type": "execute_result"
    }
   ],
   "source": [
    "1/5"
   ]
  },
  {
   "cell_type": "code",
   "execution_count": null,
   "id": "8abb1f16",
   "metadata": {},
   "outputs": [],
   "source": []
  },
  {
   "cell_type": "code",
   "execution_count": null,
   "id": "23e88625",
   "metadata": {},
   "outputs": [],
   "source": []
  },
  {
   "cell_type": "code",
   "execution_count": null,
   "id": "9200ba81",
   "metadata": {},
   "outputs": [],
   "source": []
  },
  {
   "cell_type": "code",
   "execution_count": null,
   "id": "852ad8c4",
   "metadata": {},
   "outputs": [],
   "source": []
  },
  {
   "cell_type": "code",
   "execution_count": null,
   "id": "5c23932c",
   "metadata": {},
   "outputs": [],
   "source": []
  },
  {
   "cell_type": "code",
   "execution_count": null,
   "id": "58d529fb",
   "metadata": {},
   "outputs": [],
   "source": []
  },
  {
   "cell_type": "code",
   "execution_count": null,
   "id": "1d64ef49",
   "metadata": {},
   "outputs": [],
   "source": []
  },
  {
   "cell_type": "code",
   "execution_count": null,
   "id": "8f635095",
   "metadata": {},
   "outputs": [],
   "source": []
  },
  {
   "cell_type": "markdown",
   "id": "bec9d487",
   "metadata": {},
   "source": [
    "# take you forward revision:\n"
   ]
  },
  {
   "cell_type": "code",
   "execution_count": 2,
   "id": "72a439b3",
   "metadata": {},
   "outputs": [
    {
     "name": "stdout",
     "output_type": "stream",
     "text": [
      "1\n",
      "1\n",
      "1\n",
      "1\n",
      "1\n"
     ]
    }
   ],
   "source": [
    "# print 1 n times\n",
    "def print_1(count):\n",
    "    if count==0:\n",
    "        return\n",
    "    print(1)\n",
    "    count-=1\n",
    "    print_1(count)\n",
    "print_1(5)"
   ]
  },
  {
   "cell_type": "code",
   "execution_count": 3,
   "id": "2592cd4d",
   "metadata": {},
   "outputs": [
    {
     "name": "stdout",
     "output_type": "stream",
     "text": [
      "Shubham\n",
      "Shubham\n",
      "Shubham\n",
      "Shubham\n",
      "Shubham\n"
     ]
    }
   ],
   "source": [
    "# print your name n times:\n",
    "def print_name(i,n,name):\n",
    "    if i<n:\n",
    "        print(name)\n",
    "        i+=1\n",
    "        print_name(i,n,name)\n",
    "    else:\n",
    "        return \n",
    "print_name(0,5,'Shubham')"
   ]
  },
  {
   "cell_type": "code",
   "execution_count": 4,
   "id": "476d2deb",
   "metadata": {},
   "outputs": [
    {
     "name": "stdout",
     "output_type": "stream",
     "text": [
      "1\n",
      "2\n",
      "3\n",
      "4\n",
      "5\n",
      "6\n",
      "7\n",
      "8\n",
      "9\n",
      "10\n"
     ]
    }
   ],
   "source": [
    "# problem 2 : 1 to n:\n",
    "def print_1_to_n(i,n):\n",
    "    if i==n:\n",
    "        return\n",
    "    print(i)\n",
    "    print_1_to_n(i+1,n)\n",
    "print_1_to_n(1,11)\n",
    "    \n"
   ]
  },
  {
   "cell_type": "code",
   "execution_count": 7,
   "id": "81c66044",
   "metadata": {},
   "outputs": [
    {
     "name": "stdout",
     "output_type": "stream",
     "text": [
      "1\n",
      "2\n",
      "3\n",
      "4\n",
      "5\n"
     ]
    }
   ],
   "source": [
    "# problem 2 : 1 to n: using backtracking:\n",
    "def print_1_to_n_backtrack(i,n):\n",
    "    if i<1:\n",
    "        return\n",
    "    print_1_to_n_backtrack(i-1,n)\n",
    "    print(i)\n",
    "print_1_to_n_backtrack(5,5)    \n",
    "    "
   ]
  },
  {
   "cell_type": "code",
   "execution_count": 8,
   "id": "8ee18cec",
   "metadata": {},
   "outputs": [
    {
     "name": "stdout",
     "output_type": "stream",
     "text": [
      "5\n",
      "4\n",
      "3\n",
      "2\n",
      "1\n"
     ]
    }
   ],
   "source": [
    "# print n to 1:\n",
    "def print_n_to_1(i,n):\n",
    "    if i==0:\n",
    "        return\n",
    "    print(i)\n",
    "    print_n_to_1(i-1,n)\n",
    "    \n",
    "print_n_to_1(5,5)"
   ]
  },
  {
   "cell_type": "code",
   "execution_count": 9,
   "id": "a2de9257",
   "metadata": {},
   "outputs": [
    {
     "name": "stdout",
     "output_type": "stream",
     "text": [
      "5\n",
      "4\n",
      "3\n",
      "2\n",
      "1\n"
     ]
    }
   ],
   "source": [
    "# print n to 1: using backtracking:\n",
    "def print_n_to_1_using_backtracking(i,n):\n",
    "    if i>n:\n",
    "        return \n",
    "    print_n_to_1_using_backtracking(i+1,n)\n",
    "    print(i)\n",
    "print_n_to_1_using_backtracking(1,5)\n",
    "    "
   ]
  },
  {
   "cell_type": "code",
   "execution_count": 20,
   "id": "4814362b",
   "metadata": {},
   "outputs": [
    {
     "name": "stdout",
     "output_type": "stream",
     "text": [
      "5\n",
      "15\n"
     ]
    }
   ],
   "source": [
    "# sum of first n numbers using loop:\n",
    "def sum_n(i,s,n):\n",
    "    if i>n:\n",
    "        \n",
    "        return s\n",
    "    s+=i\n",
    "    return sum_n(i+1,s,n)\n",
    "i=1\n",
    "s=0\n",
    "n=int(input())\n",
    "print(sum_n(i,s,n))\n",
    "    "
   ]
  },
  {
   "cell_type": "code",
   "execution_count": 21,
   "id": "b01c2cc8",
   "metadata": {},
   "outputs": [
    {
     "name": "stdout",
     "output_type": "stream",
     "text": [
      "15\n"
     ]
    }
   ],
   "source": [
    "# sum of first n numbers using rec:\n",
    " # FUNCTIONAL Recursion \n",
    "\n",
    "def sum_n_fun(n):\n",
    "    if n==1:\n",
    "        return 1 \n",
    "    return sum_n_fun(n-1)+n\n",
    "print(sum_n_fun(5))\n",
    "    "
   ]
  },
  {
   "cell_type": "code",
   "execution_count": 24,
   "id": "e441e888",
   "metadata": {},
   "outputs": [
    {
     "name": "stdout",
     "output_type": "stream",
     "text": [
      "120\n"
     ]
    }
   ],
   "source": [
    "# factorial :\n",
    "def fact(n):\n",
    "    if n==1  or n==0:\n",
    "        return 1\n",
    "    return fact(n-1)*n\n",
    "\n",
    "print(fact(5))"
   ]
  },
  {
   "cell_type": "code",
   "execution_count": 28,
   "id": "8e27cf15",
   "metadata": {},
   "outputs": [
    {
     "name": "stdout",
     "output_type": "stream",
     "text": [
      "[3, 2, 1]\n"
     ]
    }
   ],
   "source": [
    "# reverse array:\n",
    "def reverse(arr):\n",
    "    if len(arr)==1:\n",
    "        return arr\n",
    "    i=0\n",
    "    small_arr=reverse(arr[i+1:])\n",
    "    small_arr.append(arr[i])\n",
    "    return small_arr\n",
    "print(reverse([1,2,3]))"
   ]
  },
  {
   "cell_type": "code",
   "execution_count": 39,
   "id": "b8a59977",
   "metadata": {},
   "outputs": [
    {
     "name": "stdout",
     "output_type": "stream",
     "text": [
      "[3, 2, 1]\n"
     ]
    }
   ],
   "source": [
    "def reverse_2(arr,st,end):\n",
    "    if st>=end:\n",
    "        return \n",
    "    arr[st],arr[end]=arr[end],arr[st]\n",
    "    reverse_2(arr,st+1,end-1)\n",
    "    return arr\n",
    "print(reverse_2([1,2,3],0,len([1,2,3])-1))"
   ]
  },
  {
   "cell_type": "code",
   "execution_count": 47,
   "id": "aea992fb",
   "metadata": {},
   "outputs": [
    {
     "name": "stdout",
     "output_type": "stream",
     "text": [
      "True\n"
     ]
    }
   ],
   "source": [
    "# check if a given string a palindrom or not:\n",
    "\n",
    "def reverse(string):\n",
    "    if len(string)==1:\n",
    "        return string\n",
    "    i=0\n",
    "    small_st=reverse(string[i+1:])\n",
    "    small_st+=string[i]\n",
    "    return small_st\n",
    "\n",
    "def pal(string):\n",
    "    if string==reverse(string):\n",
    "        return True\n",
    "    return False\n",
    "\n",
    "print(pal('AAaaAA'))"
   ]
  },
  {
   "cell_type": "code",
   "execution_count": 56,
   "id": "55ede59a",
   "metadata": {},
   "outputs": [
    {
     "name": "stdout",
     "output_type": "stream",
     "text": [
      "False\n"
     ]
    }
   ],
   "source": [
    "# check if a given string a palindrom or not:\n",
    "\n",
    "\n",
    "def pal_2(string):\n",
    "    if len(string)<2:\n",
    "        return True\n",
    "    if string[0]!=string[-1]:\n",
    "        return False\n",
    "    return pal_2(string[1:-1])\n",
    "\n",
    "print(pal_2('AAaA'))"
   ]
  },
  {
   "cell_type": "code",
   "execution_count": 59,
   "id": "51a272a9",
   "metadata": {},
   "outputs": [
    {
     "name": "stdout",
     "output_type": "stream",
     "text": [
      "13\n"
     ]
    }
   ],
   "source": [
    "# fibonacci number using loop  1, 1, 2, 3, 5, 8, 13, 21, 34, 55, 89, 144, ……\n",
    "\n",
    "def fib(n):\n",
    "    if n<=1:\n",
    "        return 1\n",
    "    if n==2:\n",
    "        return 2\n",
    "    return fib(n-1)+fib(n-2)\n",
    "\n",
    "print(fib(6))"
   ]
  },
  {
   "cell_type": "code",
   "execution_count": 61,
   "id": "24aadb63",
   "metadata": {},
   "outputs": [
    {
     "name": "stdout",
     "output_type": "stream",
     "text": [
      "[1, 2, 3]\n",
      "[1, 2]\n",
      "[1, 3]\n",
      "[1]\n",
      "[2, 3]\n",
      "[2]\n",
      "[3]\n",
      "[]\n"
     ]
    }
   ],
   "source": [
    "# print all subsequence --> subseq --> a subsequence need not be contiguous but it follows an order \n",
    "# For string Shubham --> Shub is a subarray/substring as well as subseq but Shum is only  a subseq not substring\n",
    "\n",
    "def print_subs(ind,arr,l):\n",
    "    if len(arr)==ind:\n",
    "        print(l)\n",
    "        return \n",
    "    l.append(arr[ind])\n",
    "    print_subs(ind+1,arr,l)\n",
    "    l.pop()\n",
    "    print_subs(ind+1,arr,l)\n",
    "\n",
    "print_subs(0,[1,2,3],[])"
   ]
  },
  {
   "cell_type": "code",
   "execution_count": 138,
   "id": "01617328",
   "metadata": {},
   "outputs": [
    {
     "name": "stdout",
     "output_type": "stream",
     "text": [
      "5\n",
      "1\n",
      "1\n",
      "1\n",
      "1\n",
      "1\n"
     ]
    }
   ],
   "source": [
    "def print_1_n_times(i,n):\n",
    "    if i ==n:\n",
    "        return \n",
    "    print(1)\n",
    "    print_1_n_times(i+1,n)\n",
    "n=int(input())\n",
    "print_1_n_times(0,n)"
   ]
  },
  {
   "cell_type": "code",
   "execution_count": 140,
   "id": "8b0f4c0f",
   "metadata": {},
   "outputs": [
    {
     "name": "stdout",
     "output_type": "stream",
     "text": [
      "1\n",
      "2\n",
      "3\n",
      "4\n",
      "5\n"
     ]
    }
   ],
   "source": [
    "def print_1_to_n(n):\n",
    "    if n==0:\n",
    "        return \n",
    "    print_1_to_n(n-1)\n",
    "    print(n)\n",
    "print_1_to_n(5)"
   ]
  },
  {
   "cell_type": "code",
   "execution_count": 141,
   "id": "7c8c2436",
   "metadata": {},
   "outputs": [
    {
     "name": "stdout",
     "output_type": "stream",
     "text": [
      "1\n",
      "2\n",
      "3\n",
      "4\n",
      "5\n"
     ]
    }
   ],
   "source": [
    "def print_1_to_n(i,n):\n",
    "    if i==n:\n",
    "        return\n",
    "    print(i+1)\n",
    "    print_1_to_n(i+1,n)\n",
    "print_1_to_n(0,5)"
   ]
  },
  {
   "cell_type": "code",
   "execution_count": 144,
   "id": "fcbf5c15",
   "metadata": {},
   "outputs": [
    {
     "name": "stdout",
     "output_type": "stream",
     "text": [
      "5\n",
      "4\n",
      "3\n",
      "2\n",
      "1\n"
     ]
    }
   ],
   "source": [
    "def print_n_to_1(n):\n",
    "    if n==0:\n",
    "        return\n",
    "    print(n)\n",
    "    print_n_to_1(n-1)\n",
    "print_n_to_1(5)"
   ]
  },
  {
   "cell_type": "code",
   "execution_count": 148,
   "id": "0e71dff7",
   "metadata": {},
   "outputs": [
    {
     "name": "stdout",
     "output_type": "stream",
     "text": [
      "15\n"
     ]
    }
   ],
   "source": [
    "def sum_1_to_n(i,n,s):\n",
    "    if i==n:\n",
    "        return s\n",
    "    s+=(i+1)\n",
    "    return sum_1_to_n(i+1,n,s)\n",
    "print(sum_1_to_n(0,5,0))"
   ]
  },
  {
   "cell_type": "code",
   "execution_count": 151,
   "id": "c51bbfd7",
   "metadata": {},
   "outputs": [
    {
     "name": "stdout",
     "output_type": "stream",
     "text": [
      "15\n"
     ]
    }
   ],
   "source": [
    "def sum_1_to_n(n):\n",
    "    if n<=1:\n",
    "        return n\n",
    "    return sum_1_to_n(n-1)+n\n",
    "print(sum_1_to_n(5))"
   ]
  },
  {
   "cell_type": "code",
   "execution_count": 154,
   "id": "b7664e62",
   "metadata": {},
   "outputs": [
    {
     "name": "stdout",
     "output_type": "stream",
     "text": [
      "24\n"
     ]
    }
   ],
   "source": [
    "def fact(n):\n",
    "    if n==1 or n==0:\n",
    "        return 1\n",
    "    return fact(n-1)*n\n",
    "print(fact(4))"
   ]
  },
  {
   "cell_type": "code",
   "execution_count": 155,
   "id": "de48873e",
   "metadata": {},
   "outputs": [
    {
     "name": "stdout",
     "output_type": "stream",
     "text": [
      "[5, 4, 3, 2, 1]\n"
     ]
    }
   ],
   "source": [
    "def reverse(arr):\n",
    "    if len(arr)<=1:\n",
    "        return arr\n",
    "    curr=arr[0]\n",
    "    rev_arr=reverse(arr[1:])\n",
    "    rev_arr.append(curr)\n",
    "    return rev_arr\n",
    "print(reverse([1,2,3,4,5]))"
   ]
  },
  {
   "cell_type": "code",
   "execution_count": 160,
   "id": "b26e0c33",
   "metadata": {},
   "outputs": [
    {
     "name": "stdout",
     "output_type": "stream",
     "text": [
      "[5, 4, 3, 2, 1]\n"
     ]
    }
   ],
   "source": [
    "def reverse_2(arr,l,r):\n",
    "    if l>=r:\n",
    "        return arr\n",
    "    arr[l],arr[r]=arr[r],arr[l]\n",
    "    return reverse_2(arr,l+1,r-1)\n",
    "print(reverse_2([1,2,3,4,5],0,4))\n",
    "        "
   ]
  },
  {
   "cell_type": "code",
   "execution_count": 162,
   "id": "88574eca",
   "metadata": {},
   "outputs": [
    {
     "name": "stdout",
     "output_type": "stream",
     "text": [
      "True\n"
     ]
    }
   ],
   "source": [
    "# pal string\n",
    "\n",
    "def pal(string):\n",
    "    if len(string)<=1:\n",
    "        return True\n",
    "    if string[0]!=string[-1]:\n",
    "        return False\n",
    "    \n",
    "    return pal(string[1:len(string)-1])\n",
    "print(pal(\"SHHS\"))\n",
    "    "
   ]
  },
  {
   "cell_type": "code",
   "execution_count": 166,
   "id": "cff70c4b",
   "metadata": {},
   "outputs": [
    {
     "name": "stdout",
     "output_type": "stream",
     "text": [
      "True\n"
     ]
    }
   ],
   "source": [
    "def pal_2(string):\n",
    "    l=0\n",
    "    r=len(string)-1\n",
    "    if l>=r:\n",
    "        return True\n",
    "    if string[l]!=string[r]:\n",
    "        return False\n",
    "    return pal_2(string[1:-1])\n",
    "print(pal_2(\"SHHSssSHHS\"))"
   ]
  },
  {
   "cell_type": "code",
   "execution_count": 170,
   "id": "0764002f",
   "metadata": {},
   "outputs": [
    {
     "name": "stdout",
     "output_type": "stream",
     "text": [
      "13\n"
     ]
    }
   ],
   "source": [
    "# fib using recursion\n",
    "# 1, 1, 2, 3, 5, 8, 13, 21, 34, 55, 89, 144, ……\n",
    "\n",
    "def fib(n):\n",
    "    if n==1 or n ==0 :\n",
    "        return n\n",
    "    if n==2:\n",
    "        return 1\n",
    "    return fib(n-1)+fib(n-2)\n",
    "print(fib(7))\n"
   ]
  },
  {
   "cell_type": "code",
   "execution_count": 172,
   "id": "813ffb73",
   "metadata": {},
   "outputs": [
    {
     "name": "stdout",
     "output_type": "stream",
     "text": [
      "[1, 2, 3]\n",
      "[1, 2]\n",
      "[1, 3]\n",
      "[1]\n",
      "[2, 3]\n",
      "[2]\n",
      "[3]\n",
      "[]\n"
     ]
    }
   ],
   "source": [
    "# print all subsequence --> subseq --> a subsequence need not be contiguous but it follows an order \n",
    "# For string Shubham --> Shub is a subarray/substring as well as subseq but Shum is only  a subseq not substring\n",
    "\n",
    "def print_all_subseq(ind,arr,l):\n",
    "    if ind==len(arr):\n",
    "        print(l)\n",
    "        return\n",
    "    l.append(arr[ind])\n",
    "    print_all_subseq(ind+1,arr,l)\n",
    "    l.pop()\n",
    "    print_all_subseq(ind+1,arr,l)\n",
    "print_all_subseq(0,[1,2,3],[])\n",
    "    "
   ]
  },
  {
   "cell_type": "code",
   "execution_count": 180,
   "id": "81c1c26b",
   "metadata": {},
   "outputs": [
    {
     "name": "stdout",
     "output_type": "stream",
     "text": [
      "[[1, 2, 4], [1, 6], [2, 5], [3, 4]]\n"
     ]
    }
   ],
   "source": [
    "# subseq having sum k:\n",
    "\n",
    "def print_sub_arr_sum_k_h(ind,arr,l,final_list,s):\n",
    "    if ind==len(arr):\n",
    "        if sum(l)==s:\n",
    "            final_list.append([i for i in l])\n",
    "        return final_list\n",
    "    l.append(arr[ind])\n",
    "    print_sub_arr_sum_k_h(ind+1,arr,l,final_list,s)\n",
    "    l.pop()\n",
    "    print_sub_arr_sum_k_h(ind+1,arr,l,final_list,s)\n",
    "    \n",
    "def print_sub_arr_sum_k(arr,s):\n",
    "    ind=0\n",
    "    final_l=[]\n",
    "    l=[]\n",
    "    print_sub_arr_sum_k_h(ind,arr,l,final_l,s)\n",
    "    return final_l\n",
    "print(print_sub_arr_sum_k([1,2,3,4,5,6],7))"
   ]
  },
  {
   "cell_type": "code",
   "execution_count": 188,
   "id": "42073f19",
   "metadata": {},
   "outputs": [
    {
     "name": "stdout",
     "output_type": "stream",
     "text": [
      "True\n"
     ]
    }
   ],
   "source": [
    "# any one subseq having sum k:\n",
    "\n",
    "def subsseq_sum_k_h(arr,s,l,ind):\n",
    "    if ind==len(arr):\n",
    "        if sum(l)==s:\n",
    "            return True\n",
    "        return False\n",
    "    l.append(arr[ind])\n",
    "    if subsseq_sum_k_h(arr,s,l,ind+1)==True:\n",
    "        return True\n",
    "    l.pop()\n",
    "    if subsseq_sum_k_h(arr,s,l,ind+1)==True:\n",
    "        return True\n",
    "    return False\n",
    "\n",
    "def subsseq_sum_k(arr,s):\n",
    "    ind=0\n",
    "    l=[]\n",
    "    return subsseq_sum_k_h(arr,s,l,ind)\n",
    "    \n",
    "print(subsseq_sum_k([1,2,3,4,5,6],1))\n",
    "    "
   ]
  },
  {
   "cell_type": "code",
   "execution_count": null,
   "id": "fd495c6c",
   "metadata": {},
   "outputs": [],
   "source": []
  }
 ],
 "metadata": {
  "kernelspec": {
   "display_name": "Python 3 (ipykernel)",
   "language": "python",
   "name": "python3"
  },
  "language_info": {
   "codemirror_mode": {
    "name": "ipython",
    "version": 3
   },
   "file_extension": ".py",
   "mimetype": "text/x-python",
   "name": "python",
   "nbconvert_exporter": "python",
   "pygments_lexer": "ipython3",
   "version": "3.9.7"
  }
 },
 "nbformat": 4,
 "nbformat_minor": 5
}
